{
 "cells": [
  {
   "cell_type": "code",
   "id": "initial_id",
   "metadata": {
    "collapsed": true,
    "ExecuteTime": {
     "end_time": "2025-01-04T01:36:47.771090Z",
     "start_time": "2025-01-04T01:36:47.766761Z"
    }
   },
   "source": "1+2",
   "outputs": [
    {
     "data": {
      "text/plain": [
       "3"
      ]
     },
     "execution_count": 1,
     "metadata": {},
     "output_type": "execute_result"
    }
   ],
   "execution_count": 1
  },
  {
   "metadata": {},
   "cell_type": "code",
   "outputs": [],
   "execution_count": 5,
   "source": "a=5",
   "id": "111b62cabc7fafa9"
  },
  {
   "metadata": {
    "ExecuteTime": {
     "end_time": "2025-01-04T01:42:29.676986Z",
     "start_time": "2025-01-04T01:42:29.672926Z"
    }
   },
   "cell_type": "code",
   "source": "a",
   "id": "44b101d5cce1dcb",
   "outputs": [
    {
     "data": {
      "text/plain": [
       "5"
      ]
     },
     "execution_count": 6,
     "metadata": {},
     "output_type": "execute_result"
    }
   ],
   "execution_count": 6
  },
  {
   "metadata": {},
   "cell_type": "markdown",
   "source": " 这个是注释\n",
   "id": "f8a26ae393944998"
  },
  {
   "metadata": {
    "ExecuteTime": {
     "end_time": "2025-01-04T01:44:22.744540Z",
     "start_time": "2025-01-04T01:44:22.741751Z"
    }
   },
   "cell_type": "code",
   "source": "b=3",
   "id": "a5566aad49e13486",
   "outputs": [],
   "execution_count": 7
  },
  {
   "metadata": {
    "ExecuteTime": {
     "end_time": "2025-01-04T01:44:29.566075Z",
     "start_time": "2025-01-04T01:44:29.561362Z"
    }
   },
   "cell_type": "code",
   "source": "a+b",
   "id": "48e1d1b01abe9c3c",
   "outputs": [
    {
     "data": {
      "text/plain": [
       "8"
      ]
     },
     "execution_count": 8,
     "metadata": {},
     "output_type": "execute_result"
    }
   ],
   "execution_count": 8
  }
 ],
 "metadata": {
  "kernelspec": {
   "display_name": "Python 3",
   "language": "python",
   "name": "python3"
  },
  "language_info": {
   "codemirror_mode": {
    "name": "ipython",
    "version": 2
   },
   "file_extension": ".py",
   "mimetype": "text/x-python",
   "name": "python",
   "nbconvert_exporter": "python",
   "pygments_lexer": "ipython2",
   "version": "2.7.6"
  }
 },
 "nbformat": 4,
 "nbformat_minor": 5
}
