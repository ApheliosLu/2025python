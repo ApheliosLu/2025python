{
 "cells": [
  {
   "metadata": {},
   "cell_type": "markdown",
   "source": "# 列表转ndarray",
   "id": "6dc3a4d8491703e3"
  },
  {
   "metadata": {
    "ExecuteTime": {
     "end_time": "2025-01-07T03:51:21.857931Z",
     "start_time": "2025-01-07T03:51:21.813956Z"
    }
   },
   "cell_type": "code",
   "source": [
    "import numpy as np\n",
    "\n",
    "list1 = [1, 2, 3, 4]\n",
    "print(list1)  # [1, 2, 3, 4]\n",
    "print(type(list1))\n",
    "\n",
    "oneArray = np.array(list1)\n",
    "print(type(oneArray))  #类型是ndarray\n",
    "print(oneArray)  # [1 2 3 4]"
   ],
   "id": "86a0721711ddf24",
   "outputs": [
    {
     "name": "stdout",
     "output_type": "stream",
     "text": [
      "[1, 2, 3, 4]\n",
      "<class 'list'>\n",
      "<class 'numpy.ndarray'>\n",
      "[1 2 3 4]\n"
     ]
    }
   ],
   "execution_count": 3
  },
  {
   "metadata": {},
   "cell_type": "markdown",
   "source": "# ndarray与Python原生list运算效率对比,创建一维数组",
   "id": "5b125794fa7de18b"
  },
  {
   "metadata": {
    "ExecuteTime": {
     "end_time": "2025-01-07T03:51:31.425989Z",
     "start_time": "2025-01-07T03:51:22.074235Z"
    }
   },
   "cell_type": "code",
   "source": [
    "import random\n",
    "import time\n",
    "import numpy as np\n",
    "\n",
    "#随机1亿个数据\n",
    "a = []\n",
    "for i in range(10 ** 8):\n",
    "    a.append(random.random())\n",
    "print('随机完毕')\n",
    "\n",
    "b = np.array(a)  # 转换为ndarray\n",
    "print('转换完毕')\n",
    "\n",
    "#ndarray的计算效率优于python的list\n",
    "t1 = time.time()\n",
    "sum1 = sum(a)\n",
    "t2 = time.time()\n",
    "\n",
    "t4 = time.time()\n",
    "sum3 = np.sum(b)\n",
    "t5 = time.time()\n",
    "print(t2 - t1, t5 - t4)"
   ],
   "id": "204b523e480d9230",
   "outputs": [
    {
     "name": "stdout",
     "output_type": "stream",
     "text": [
      "随机完毕\n",
      "转换完毕\n",
      "0.3250396251678467 0.057312965393066406\n"
     ]
    }
   ],
   "execution_count": 4
  },
  {
   "metadata": {
    "ExecuteTime": {
     "end_time": "2025-01-07T03:51:31.429719Z",
     "start_time": "2025-01-07T03:51:31.426881Z"
    }
   },
   "cell_type": "code",
   "source": [
    "print(type(range(10)))  # range返回的是一个range对象<class 'range'>，不能直接转换为ndarray\n",
    "t2 = np.array(range(10))\n",
    "print(t2)  # [0 1 2 3 4 5 6 7 8 9]\n",
    "print(type(t2))"
   ],
   "id": "858465ea003ff182",
   "outputs": [
    {
     "name": "stdout",
     "output_type": "stream",
     "text": [
      "<class 'range'>\n",
      "[0 1 2 3 4 5 6 7 8 9]\n",
      "<class 'numpy.ndarray'>\n"
     ]
    }
   ],
   "execution_count": 5
  },
  {
   "metadata": {
    "ExecuteTime": {
     "end_time": "2025-01-07T03:51:31.442763Z",
     "start_time": "2025-01-07T03:51:31.429719Z"
    }
   },
   "cell_type": "code",
   "source": [
    "t3 = np.arange(0, 10, 2)  # 等价于range(0,10,2),返回ndarray\n",
    "print(t3)\n",
    "print(type(t3))"
   ],
   "id": "6ccf37220461cd3",
   "outputs": [
    {
     "name": "stdout",
     "output_type": "stream",
     "text": [
      "[0 2 4 6 8]\n",
      "<class 'numpy.ndarray'>\n"
     ]
    }
   ],
   "execution_count": 6
  },
  {
   "metadata": {},
   "cell_type": "markdown",
   "source": "# 二维列表转ndarray",
   "id": "5a9c805879fa410a"
  },
  {
   "metadata": {
    "ExecuteTime": {
     "end_time": "2025-01-07T03:51:31.452929Z",
     "start_time": "2025-01-07T03:51:31.443808Z"
    }
   },
   "cell_type": "code",
   "source": [
    "import numpy as np\n",
    "\n",
    "list2 = [[1, 2], [3, 4], [5, 6]]\n",
    "\n",
    "twoArray = np.array(list2)\n",
    "print(type(twoArray))\n",
    "print(twoArray)\n",
    "\"\"\"\n",
    "[[1 2]\n",
    " [3 4]\n",
    " [5 6]]\n",
    "\"\"\"\n",
    "print(list2)  #列表的输出是有逗号的，ndarray的输出是没有逗号的      [[1, 2], [3, 4], [5, 6]]"
   ],
   "id": "e8803e9fd183c68c",
   "outputs": [
    {
     "name": "stdout",
     "output_type": "stream",
     "text": [
      "<class 'numpy.ndarray'>\n",
      "[[1 2]\n",
      " [3 4]\n",
      " [5 6]]\n",
      "[[1, 2], [3, 4], [5, 6]]\n"
     ]
    }
   ],
   "execution_count": 7
  },
  {
   "metadata": {
    "ExecuteTime": {
     "end_time": "2025-01-07T03:51:31.458979Z",
     "start_time": "2025-01-07T03:51:31.454023Z"
    }
   },
   "cell_type": "code",
   "source": "print(twoArray.tolist())  # ndarray转换为列表",
   "id": "404cb163c567d76",
   "outputs": [
    {
     "name": "stdout",
     "output_type": "stream",
     "text": [
      "[[1, 2], [3, 4], [5, 6]]\n"
     ]
    }
   ],
   "execution_count": 8
  },
  {
   "metadata": {},
   "cell_type": "markdown",
   "source": "# 4.3常用属性",
   "id": "4fb10b8dc918b114"
  },
  {
   "metadata": {
    "ExecuteTime": {
     "end_time": "2025-01-07T03:51:31.467974Z",
     "start_time": "2025-01-07T03:51:31.458979Z"
    }
   },
   "cell_type": "code",
   "source": [
    "#看ndarray的各种属性\n",
    "list2 = [[1, 2], [3, 4], [5, 6]]\n",
    "\n",
    "twoArray = np.array(list2)\n",
    "# 获取数组的维度( 注意： 与函数的参数很像) \n",
    "print(twoArray.ndim)\n",
    "\n",
    "# 形状（行，列） (0 axis,1 axis)\n",
    "print(twoArray.shape)\n",
    "\n",
    "# 有多少个元素\n",
    "print(twoArray.size)\n",
    "\n",
    "# 数据类型\n",
    "print(twoArray.dtype)  # int64"
   ],
   "id": "b4fa6d7031339943",
   "outputs": [
    {
     "name": "stdout",
     "output_type": "stream",
     "text": [
      "2\n",
      "(3, 2)\n",
      "6\n",
      "int64\n"
     ]
    }
   ],
   "execution_count": 9
  },
  {
   "metadata": {},
   "cell_type": "markdown",
   "source": "# 4.4 调整数组的形状",
   "id": "240a631613c45e88"
  },
  {
   "metadata": {
    "ExecuteTime": {
     "end_time": "2025-01-07T03:51:31.477360Z",
     "start_time": "2025-01-07T03:51:31.468972Z"
    }
   },
   "cell_type": "code",
   "source": [
    "four = np.array([[1, 2, 3], [4, 5, 6]])\n",
    "print(four)\n",
    "\n",
    "# 修改的是原有的\n",
    "four1 = four\n",
    "print(id(four))"
   ],
   "id": "89940fe1ef790fc1",
   "outputs": [
    {
     "name": "stdout",
     "output_type": "stream",
     "text": [
      "[[1 2 3]\n",
      " [4 5 6]]\n",
      "1361481334480\n"
     ]
    }
   ],
   "execution_count": 10
  },
  {
   "metadata": {
    "ExecuteTime": {
     "end_time": "2025-01-07T03:51:31.484802Z",
     "start_time": "2025-01-07T03:51:31.477360Z"
    }
   },
   "cell_type": "code",
   "source": [
    "four.shape = (3, 2)  # 改变形状，从两行三列到三行两列\n",
    "print(id(four))\n",
    "print(id(four1))  # id相同 修改的是原有的\n",
    "print(four)"
   ],
   "id": "92d720914e3609fe",
   "outputs": [
    {
     "name": "stdout",
     "output_type": "stream",
     "text": [
      "1361481334480\n",
      "1361481334480\n",
      "[[1 2]\n",
      " [3 4]\n",
      " [5 6]]\n"
     ]
    }
   ],
   "execution_count": 11
  },
  {
   "metadata": {
    "ExecuteTime": {
     "end_time": "2025-01-07T03:51:31.498021Z",
     "start_time": "2025-01-07T03:51:31.485840Z"
    }
   },
   "cell_type": "code",
   "source": [
    "print('-' * 50)\n",
    "\n",
    "# 返回一个新的数组，reshape后id和之前的不一样\n",
    "four2 = four.reshape(2, 3)\n",
    "print(four)\n",
    "print(id(four))\n",
    "print(id(four2))  # id不同\n",
    "four2"
   ],
   "id": "9827879cae65abf9",
   "outputs": [
    {
     "name": "stdout",
     "output_type": "stream",
     "text": [
      "--------------------------------------------------\n",
      "[[1 2]\n",
      " [3 4]\n",
      " [5 6]]\n",
      "1361481334480\n",
      "1361481334384\n"
     ]
    },
    {
     "data": {
      "text/plain": [
       "array([[1, 2, 3],\n",
       "       [4, 5, 6]])"
      ]
     },
     "execution_count": 12,
     "metadata": {},
     "output_type": "execute_result"
    }
   ],
   "execution_count": 12
  },
  {
   "metadata": {
    "ExecuteTime": {
     "end_time": "2025-01-07T03:51:31.864316Z",
     "start_time": "2025-01-07T03:51:31.860705Z"
    }
   },
   "cell_type": "code",
   "source": [
    "# 将多维变成一维数组\n",
    "five = four.reshape((6,), order='C')\n",
    "# 默认情况下‘C’以行为主的顺序展开，‘F’（Fortran风格）意味着以列的顺序展开\n",
    "\n",
    "six = four.flatten()  # 展开成一维数组\n",
    "print(five)\n",
    "print('-' * 50)\n",
    "print(six)\n",
    "\n",
    "# print(five.reshape(3,2))"
   ],
   "id": "6292fb3c3a7fcb4a",
   "outputs": [
    {
     "name": "stdout",
     "output_type": "stream",
     "text": [
      "[1 2 3 4 5 6]\n",
      "--------------------------------------------------\n",
      "[1 2 3 4 5 6]\n"
     ]
    }
   ],
   "execution_count": 13
  },
  {
   "metadata": {
    "ExecuteTime": {
     "end_time": "2025-01-07T03:51:31.881352Z",
     "start_time": "2025-01-07T03:51:31.865080Z"
    }
   },
   "cell_type": "code",
   "source": [
    "seven = five.reshape(3, 2)  # 改变形状\n",
    "seven"
   ],
   "id": "4e67fb5042edfe71",
   "outputs": [
    {
     "data": {
      "text/plain": [
       "array([[1, 2],\n",
       "       [3, 4],\n",
       "       [5, 6]])"
      ]
     },
     "execution_count": 14,
     "metadata": {},
     "output_type": "execute_result"
    }
   ],
   "execution_count": 14
  },
  {
   "metadata": {
    "ExecuteTime": {
     "end_time": "2025-01-07T03:51:31.891328Z",
     "start_time": "2025-01-07T03:51:31.881352Z"
    }
   },
   "cell_type": "code",
   "source": [
    "print('-' * 50)\n",
    "\n",
    "# 拓展：数组的形状\n",
    "t = np.arange(24)  #和列表的range函数一样，生成一个数组\n",
    "print(t)\n",
    "print(f'shape{t.shape}')  # shape(24,)\n",
    "print(t.ndim)  # 1维\n",
    "\n",
    "# 转换成二维\n",
    "t1 = t.reshape((4, 6))\n",
    "print(t1)\n",
    "print(t1.shape)  # (4, 6)"
   ],
   "id": "96208765298d53e",
   "outputs": [
    {
     "name": "stdout",
     "output_type": "stream",
     "text": [
      "--------------------------------------------------\n",
      "[ 0  1  2  3  4  5  6  7  8  9 10 11 12 13 14 15 16 17 18 19 20 21 22 23]\n",
      "shape(24,)\n",
      "1\n",
      "[[ 0  1  2  3  4  5]\n",
      " [ 6  7  8  9 10 11]\n",
      " [12 13 14 15 16 17]\n",
      " [18 19 20 21 22 23]]\n",
      "(4, 6)\n"
     ]
    }
   ],
   "execution_count": 15
  },
  {
   "metadata": {
    "ExecuteTime": {
     "end_time": "2025-01-07T03:51:31.900745Z",
     "start_time": "2025-01-07T03:51:31.891328Z"
    }
   },
   "cell_type": "code",
   "source": [
    "# 转成三维\n",
    "#最前面的是零轴，轴越小，越靠外，最小的轴是最外层\n",
    "# 0轴，1轴，2轴\n",
    "t2 = t.reshape((2, 3, 4))  # “两个三行四列的矩阵”\n",
    "print(t2)\n",
    "print(t2.shape)\n",
    "print(t2.ndim)  # 3"
   ],
   "id": "d82d81605c7efb9d",
   "outputs": [
    {
     "name": "stdout",
     "output_type": "stream",
     "text": [
      "[[[ 0  1  2  3]\n",
      "  [ 4  5  6  7]\n",
      "  [ 8  9 10 11]]\n",
      "\n",
      " [[12 13 14 15]\n",
      "  [16 17 18 19]\n",
      "  [20 21 22 23]]]\n",
      "(2, 3, 4)\n",
      "3\n"
     ]
    }
   ],
   "execution_count": 16
  },
  {
   "metadata": {
    "ExecuteTime": {
     "end_time": "2025-01-07T03:51:31.908851Z",
     "start_time": "2025-01-07T03:51:31.901743Z"
    }
   },
   "cell_type": "code",
   "source": [
    "t3 = t.reshape((2, 3, 2, 2))\n",
    "print(t3)\n",
    "print(t3.shape)\n",
    "print(t3.ndim)"
   ],
   "id": "f1a3081a7bc13746",
   "outputs": [
    {
     "name": "stdout",
     "output_type": "stream",
     "text": [
      "[[[[ 0  1]\n",
      "   [ 2  3]]\n",
      "\n",
      "  [[ 4  5]\n",
      "   [ 6  7]]\n",
      "\n",
      "  [[ 8  9]\n",
      "   [10 11]]]\n",
      "\n",
      "\n",
      " [[[12 13]\n",
      "   [14 15]]\n",
      "\n",
      "  [[16 17]\n",
      "   [18 19]]\n",
      "\n",
      "  [[20 21]\n",
      "   [22 23]]]]\n",
      "(2, 3, 2, 2)\n",
      "4\n"
     ]
    }
   ],
   "execution_count": 17
  },
  {
   "metadata": {},
   "cell_type": "markdown",
   "source": "# 4.5 数组转换为列表",
   "id": "68c4964cae3bb6d6"
  },
  {
   "metadata": {
    "ExecuteTime": {
     "end_time": "2025-01-07T03:51:32.467395Z",
     "start_time": "2025-01-07T03:51:31.909862Z"
    }
   },
   "cell_type": "code",
   "source": [
    "a = np.array([9, 12, 88, 14, 25])\n",
    "print(type(a))\n",
    "print(a)\n",
    "\n",
    "list_a = a.tolist()\n",
    "print(list_a)\n",
    "print(type(list_a))"
   ],
   "id": "e29bb23dadfba93f",
   "outputs": [
    {
     "name": "stdout",
     "output_type": "stream",
     "text": [
      "<class 'numpy.ndarray'>\n",
      "[ 9 12 88 14 25]\n",
      "[9, 12, 88, 14, 25]\n",
      "<class 'list'>\n"
     ]
    }
   ],
   "execution_count": 18
  },
  {
   "metadata": {},
   "cell_type": "markdown",
   "source": "# 5 NumPy的数据类型",
   "id": "7956a1dc0c119cb6"
  },
  {
   "metadata": {
    "ExecuteTime": {
     "end_time": "2025-01-07T03:51:32.484543Z",
     "start_time": "2025-01-07T03:51:32.467395Z"
    }
   },
   "cell_type": "code",
   "source": [
    "import random\n",
    "\n",
    "f = np.array([1, 2, 3, 4, 127], dtype=np.int8)  # 返回数组中每个元素的字节单位长度,dtype设置数据类型\n",
    "print(f.itemsize)  # 1 np.int16(一个字节)\n",
    "# 获取数据类型\n",
    "print(f.dtype)"
   ],
   "id": "50a3bf0ecbaffc2e",
   "outputs": [
    {
     "name": "stdout",
     "output_type": "stream",
     "text": [
      "1\n",
      "int8\n"
     ]
    }
   ],
   "execution_count": 19
  },
  {
   "metadata": {
    "ExecuteTime": {
     "end_time": "2025-01-07T03:51:32.492555Z",
     "start_time": "2025-01-07T03:51:32.484543Z"
    }
   },
   "cell_type": "code",
   "source": [
    "f[4] = f[4] + 1  # 溢出\n",
    "f[4]  # np.int8(-128)"
   ],
   "id": "75956b49c8cf5489",
   "outputs": [
    {
     "name": "stderr",
     "output_type": "stream",
     "text": [
      "C:\\Users\\q1209\\AppData\\Local\\Temp\\ipykernel_11800\\1143178101.py:1: RuntimeWarning: overflow encountered in scalar add\n",
      "  f[4] = f[4] + 1  # 溢出\n"
     ]
    },
    {
     "data": {
      "text/plain": [
       "np.int8(-128)"
      ]
     },
     "execution_count": 20,
     "metadata": {},
     "output_type": "execute_result"
    }
   ],
   "execution_count": 20
  },
  {
   "metadata": {
    "ExecuteTime": {
     "end_time": "2025-01-07T03:51:32.499494Z",
     "start_time": "2025-01-07T03:51:32.493056Z"
    }
   },
   "cell_type": "code",
   "source": [
    "# 调整数据类型\n",
    "f1 = f.astype(np.int64)\n",
    "print(f1.dtype)\n",
    "print(f1.itemsize)  # 显示字节数 8\n",
    "print('-' * 50)"
   ],
   "id": "c611202173c20054",
   "outputs": [
    {
     "name": "stdout",
     "output_type": "stream",
     "text": [
      "int64\n",
      "8\n",
      "--------------------------------------------------\n"
     ]
    }
   ],
   "execution_count": 21
  },
  {
   "metadata": {
    "ExecuteTime": {
     "end_time": "2025-01-07T03:51:32.506515Z",
     "start_time": "2025-01-07T03:51:32.499494Z"
    }
   },
   "cell_type": "code",
   "source": "random.random()  # 随机生成0-1之间的小数",
   "id": "1d199b16b4fd8479",
   "outputs": [
    {
     "data": {
      "text/plain": [
       "0.9536144003953714"
      ]
     },
     "execution_count": 22,
     "metadata": {},
     "output_type": "execute_result"
    }
   ],
   "execution_count": 22
  },
  {
   "metadata": {
    "ExecuteTime": {
     "end_time": "2025-01-07T03:51:32.514253Z",
     "start_time": "2025-01-07T03:51:32.506515Z"
    }
   },
   "cell_type": "code",
   "source": [
    "# 拓展随机生成小数\n",
    "# 使用python语法，保留两位\n",
    "print(round(random.random(), 2))\n",
    "\n",
    "# np.float16 半精度\n",
    "arr = np.array([random.random() for i in range(10)])\n",
    "print(arr)\n",
    "print(arr.itemsize)  # 8\n",
    "print(arr.dtype)  # float64\n",
    "\n",
    "# 取小数点后两位\n",
    "print(np.round(arr, 2))"
   ],
   "id": "e7acb8a293839b42",
   "outputs": [
    {
     "name": "stdout",
     "output_type": "stream",
     "text": [
      "0.16\n",
      "[0.64149397 0.47048506 0.48141244 0.34733352 0.87341826 0.57570775\n",
      " 0.93516669 0.49675606 0.61172953 0.55167966]\n",
      "8\n",
      "float64\n",
      "[0.64 0.47 0.48 0.35 0.87 0.58 0.94 0.5  0.61 0.55]\n"
     ]
    }
   ],
   "execution_count": 23
  },
  {
   "metadata": {},
   "cell_type": "markdown",
   "source": "# 数组和数的计算",
   "id": "d12cf95bd1f92052"
  },
  {
   "metadata": {
    "ExecuteTime": {
     "end_time": "2025-01-07T03:51:32.519168Z",
     "start_time": "2025-01-07T03:51:32.514253Z"
    }
   },
   "cell_type": "code",
   "source": "# [1, 2, 3] + 5   # 列表无法直接和整数相加",
   "id": "ec8e2954001e592e",
   "outputs": [],
   "execution_count": 24
  },
  {
   "metadata": {
    "ExecuteTime": {
     "end_time": "2025-01-07T03:51:32.530269Z",
     "start_time": "2025-01-07T03:51:32.519735Z"
    }
   },
   "cell_type": "code",
   "source": [
    "# 由于numpy的广播机机制在运算过程中，加减乘除的值被广播到所有的元素上面\n",
    "t1 = np.arange(24).reshape((6, 4))\n",
    "print(t1)\n",
    "print(\"-\" * 20)\n",
    "\n",
    "t2 = t1.tolist()\n",
    "print(t1 + 2)  # 数组可与整数相加\n",
    "# print(t2+2) 不能对列表进行直接加整数操作\n",
    "print(\"-\" * 20)\n",
    "\n",
    "print(t1 * 2)\n",
    "print(\"-\" * 20)\n",
    "\n",
    "print(t1 / 2)\n",
    "\n",
    "#无论多少维的ndarray都可以直接和一个常数进行运算"
   ],
   "id": "735e5adbfbf0db21",
   "outputs": [
    {
     "name": "stdout",
     "output_type": "stream",
     "text": [
      "[[ 0  1  2  3]\n",
      " [ 4  5  6  7]\n",
      " [ 8  9 10 11]\n",
      " [12 13 14 15]\n",
      " [16 17 18 19]\n",
      " [20 21 22 23]]\n",
      "--------------------\n",
      "[[ 2  3  4  5]\n",
      " [ 6  7  8  9]\n",
      " [10 11 12 13]\n",
      " [14 15 16 17]\n",
      " [18 19 20 21]\n",
      " [22 23 24 25]]\n",
      "--------------------\n",
      "[[ 0  2  4  6]\n",
      " [ 8 10 12 14]\n",
      " [16 18 20 22]\n",
      " [24 26 28 30]\n",
      " [32 34 36 38]\n",
      " [40 42 44 46]]\n",
      "--------------------\n",
      "[[ 0.   0.5  1.   1.5]\n",
      " [ 2.   2.5  3.   3.5]\n",
      " [ 4.   4.5  5.   5.5]\n",
      " [ 6.   6.5  7.   7.5]\n",
      " [ 8.   8.5  9.   9.5]\n",
      " [10.  10.5 11.  11.5]]\n"
     ]
    }
   ],
   "execution_count": 25
  },
  {
   "metadata": {},
   "cell_type": "markdown",
   "source": "# ndarray与ndarray的运算",
   "id": "35eab902f9ea2dbc"
  },
  {
   "metadata": {
    "ExecuteTime": {
     "end_time": "2025-01-07T03:51:32.537819Z",
     "start_time": "2025-01-07T03:51:32.530269Z"
    }
   },
   "cell_type": "code",
   "source": [
    "#形状相同,才可以进行加减乘除\n",
    "t1 = np.arange(24).reshape((6, 4))\n",
    "t2 = np.arange(100, 124).reshape((6, 4))\n",
    "print(t1)\n",
    "print(t2)\n",
    "print('-' * 50)\n",
    "\n",
    "print(t1 + t2)\n",
    "print('-' * 50)\n",
    "\n",
    "print(t1 * t2)  # 非矩阵乘法，乃对应分量相乘"
   ],
   "id": "d8a019af667b810a",
   "outputs": [
    {
     "name": "stdout",
     "output_type": "stream",
     "text": [
      "[[ 0  1  2  3]\n",
      " [ 4  5  6  7]\n",
      " [ 8  9 10 11]\n",
      " [12 13 14 15]\n",
      " [16 17 18 19]\n",
      " [20 21 22 23]]\n",
      "[[100 101 102 103]\n",
      " [104 105 106 107]\n",
      " [108 109 110 111]\n",
      " [112 113 114 115]\n",
      " [116 117 118 119]\n",
      " [120 121 122 123]]\n",
      "--------------------------------------------------\n",
      "[[100 102 104 106]\n",
      " [108 110 112 114]\n",
      " [116 118 120 122]\n",
      " [124 126 128 130]\n",
      " [132 134 136 138]\n",
      " [140 142 144 146]]\n",
      "--------------------------------------------------\n",
      "[[   0  101  204  309]\n",
      " [ 416  525  636  749]\n",
      " [ 864  981 1100 1221]\n",
      " [1344 1469 1596 1725]\n",
      " [1856 1989 2124 2261]\n",
      " [2400 2541 2684 2829]]\n"
     ]
    }
   ],
   "execution_count": 26
  },
  {
   "metadata": {
    "ExecuteTime": {
     "end_time": "2025-01-07T03:51:32.563808Z",
     "start_time": "2025-01-07T03:51:32.537819Z"
    }
   },
   "cell_type": "code",
   "source": [
    "#shape不同，不能进行运算\n",
    "t1 = np.arange(24).reshape((4, 6))\n",
    "t2 = np.arange(24).reshape((6, 4))\n",
    "print(t1)\n",
    "print(t2)\n",
    "print(t1 - t2)"
   ],
   "id": "58aaed4740d7cabc",
   "outputs": [
    {
     "name": "stdout",
     "output_type": "stream",
     "text": [
      "[[ 0  1  2  3  4  5]\n",
      " [ 6  7  8  9 10 11]\n",
      " [12 13 14 15 16 17]\n",
      " [18 19 20 21 22 23]]\n",
      "[[ 0  1  2  3]\n",
      " [ 4  5  6  7]\n",
      " [ 8  9 10 11]\n",
      " [12 13 14 15]\n",
      " [16 17 18 19]\n",
      " [20 21 22 23]]\n"
     ]
    },
    {
     "ename": "ValueError",
     "evalue": "operands could not be broadcast together with shapes (4,6) (6,4) ",
     "output_type": "error",
     "traceback": [
      "\u001B[1;31m---------------------------------------------------------------------------\u001B[0m",
      "\u001B[1;31mValueError\u001B[0m                                Traceback (most recent call last)",
      "Cell \u001B[1;32mIn[27], line 6\u001B[0m\n\u001B[0;32m      4\u001B[0m \u001B[38;5;28mprint\u001B[39m(t1)\n\u001B[0;32m      5\u001B[0m \u001B[38;5;28mprint\u001B[39m(t2)\n\u001B[1;32m----> 6\u001B[0m \u001B[38;5;28mprint\u001B[39m(\u001B[43mt1\u001B[49m\u001B[43m \u001B[49m\u001B[38;5;241;43m-\u001B[39;49m\u001B[43m \u001B[49m\u001B[43mt2\u001B[49m)\n",
      "\u001B[1;31mValueError\u001B[0m: operands could not be broadcast together with shapes (4,6) (6,4) "
     ]
    }
   ],
   "execution_count": 27
  },
  {
   "metadata": {},
   "cell_type": "code",
   "source": [
    "#一维数组和二维数组进行运算时，一维的元素个数和列数相等\n",
    "t1 = np.arange(24).reshape((4, 6))\n",
    "t2 = np.arange(6).reshape((1, 6))\n",
    "print(t2.shape)\n",
    "print(t1)\n",
    "print(t2)\n",
    "t1 - t2"
   ],
   "id": "5342f394dd109dd7",
   "outputs": [],
   "execution_count": null
  },
  {
   "metadata": {},
   "cell_type": "code",
   "source": "(t1 - t2).shape",
   "id": "ff96a7046def9c26",
   "outputs": [],
   "execution_count": null
  },
  {
   "metadata": {
    "ExecuteTime": {
     "end_time": "2025-01-07T03:51:32.565201Z",
     "start_time": "2025-01-07T03:51:32.565201Z"
    }
   },
   "cell_type": "code",
   "source": [
    "t1 = np.arange(24).reshape((4, 6))\n",
    "t2 = np.arange(4).reshape((4, 1))\n",
    "print(t2)\n",
    "print(t1)\n",
    "t1 - t2"
   ],
   "id": "6d287f2e2a54f0c8",
   "outputs": [],
   "execution_count": null
  },
  {
   "metadata": {},
   "cell_type": "code",
   "source": [
    "#随机3维数组\n",
    "a = np.arange(24).reshape((2, 3, 4))\n",
    "b = np.arange(12).reshape((1, 3, 4))\n",
    "print(a)\n",
    "print('*' * 50)\n",
    "print(b)\n",
    "a - b"
   ],
   "id": "74836808b502dbc6",
   "outputs": [],
   "execution_count": null
  },
  {
   "metadata": {},
   "cell_type": "markdown",
   "source": "结论：ndim要相同，可以某一个轴的size不同，但是其中一个ndarray必须对应的轴的size为1",
   "id": "74e54e5391b8bd9d"
  },
  {
   "metadata": {},
   "cell_type": "markdown",
   "source": "# 练习轴",
   "id": "16ce7ac683ffe3e9"
  },
  {
   "metadata": {},
   "cell_type": "code",
   "source": [
    "import numpy as np\n",
    "\n",
    "a = np.array([[1, 2, 3], [4, 5, 6]])\n",
    "print(a)\n",
    "print(\"-\" * 20)\n",
    "\n",
    "print(np.sum(a, axis=0))  # [5 7 9]，按哪个轴求和，哪个轴没了\n",
    "print(\"-\" * 20)\n",
    "\n",
    "print(np.sum(a, axis=1))  # [ 6 15]\n",
    "print(\"-\" * 20)\n",
    "\n",
    "print(np.sum(a))  # 全元素加总\n",
    "print(\"-\" * 20)"
   ],
   "id": "44e214acf6ab06ff",
   "outputs": [],
   "execution_count": null
  },
  {
   "metadata": {},
   "cell_type": "markdown",
   "source": "",
   "id": "cab9181405857a3c"
  },
  {
   "metadata": {},
   "cell_type": "code",
   "source": [
    "a = np.arange(24).reshape((2, 3, 4))\n",
    "print(a)\n",
    "b = np.sum(a, axis=0)\n",
    "print(\"-\" * 20)\n",
    "print(b)\n",
    "print(b.shape)\n",
    "\n",
    "c = np.sum(a, axis=1)\n",
    "print(\"-\" * 20)\n",
    "print(c)\n",
    "print(c.shape)\n",
    "\n",
    "d = np.sum(a, axis=2)\n",
    "print(\"-\" * 20)\n",
    "print(d)\n",
    "print(d.shape)"
   ],
   "id": "69d495e024ea124e",
   "outputs": [],
   "execution_count": null
  },
  {
   "metadata": {},
   "cell_type": "markdown",
   "source": "# 7索引和切片",
   "id": "93acb6772585a6c0"
  },
  {
   "metadata": {},
   "cell_type": "code",
   "source": [
    "import numpy as np\n",
    "\n",
    "a = np.arange(10)\n",
    "# 冒号分隔切片参数 start:stop:step 来进行切片操作print(a[2:7:2])# 从索引 2 开始到索引 7 停止，间隔为 2\n",
    "\n",
    "# 如果只放置一个参数，如 [2]，将返回与该索引相对应的单个元素\n",
    "print(a[0], a)\n",
    "\n",
    "# 如果为 [2:]，表示从该索引开始以后的所有项都将被提取\n",
    "print(a[2:])\n",
    "\n",
    "print(a[2:8:2])  #切片是左闭右开"
   ],
   "id": "8714f823d1f068a0",
   "outputs": [],
   "execution_count": null
  },
  {
   "metadata": {},
   "cell_type": "code",
   "source": [
    "import numpy as np\n",
    "\n",
    "t1 = np.arange(24).reshape(4, 6)\n",
    "print(t1)\n",
    "print('*' * 20)\n",
    "\n",
    "print(t1[1])  # 取一行(一行代表是一条数据，索引也是从0开始的) print(t1[1,:]) # 取一行\n",
    "print('*' * 20)\n",
    "\n",
    "print(t1[1:])  # 取连续的多行\n",
    "print('*' * 20)\n",
    "\n",
    "print(t1[1:3, :])  # 取连续的多行\n",
    "print('*' * 20)\n",
    "\n",
    "print(t1[[0, 2, 3]])  # 取不连续的多行"
   ],
   "id": "eb04984e23c30e12",
   "outputs": [],
   "execution_count": null
  },
  {
   "metadata": {},
   "cell_type": "code",
   "source": [
    "print(t1[[0, 2, 3]])  # 取不连续的多行\n",
    "#看列表\n",
    "t2 = np.arange(24).reshape(4, 6).tolist()\n",
    "t2[[0, 2, 3]]  # list indices must be integers or slices, not list"
   ],
   "id": "f33a32164d00c1fe",
   "outputs": [],
   "execution_count": null
  },
  {
   "metadata": {},
   "cell_type": "code",
   "source": [
    "print(t1[:, 1])  # 取一列\n",
    "print('*' * 20)\n",
    "\n",
    "print(t1[:, 1:])  # 连续的多列\n",
    "print('*' * 20)\n",
    "\n",
    "print(t1[:, [0, 2, 3]])  # 取不连续的多列\n",
    "print('*' * 20)\n",
    "\n",
    "print(t1[2, 3])  # # 取某一个值,三行四列  py是t1[2][3]\n",
    "print('*' * 20)\n",
    "\n",
    "print(t1[[0, 1, 1], [0, 1, 3]])  # 取多个不连续的值，[[行，行。。。],[列，列。。。]]\n",
    "\n",
    "t1[1:3, 1:4]  #取1-3行，1-4列,左闭右开"
   ],
   "id": "cd4003685ba9ae1",
   "outputs": [],
   "execution_count": null
  },
  {
   "metadata": {},
   "cell_type": "markdown",
   "source": "# 8数组修改值",
   "id": "1e8be54fb1bc71b4"
  },
  {
   "metadata": {},
   "cell_type": "code",
   "source": [
    "import numpy as np\n",
    "\n",
    "t = np.arange(24).reshape(4, 6)\n",
    "print(t)\n",
    "print(id(t))\n",
    "print('-' * 50)\n",
    "# 修改某一行的值\n",
    "# t[1,:]=0\n",
    "#\n",
    "# 修改某一列的值\n",
    "# t[:,1]=0\n",
    "#\n",
    "# 修改连续多行\n",
    "# t[1:3,:]=0\n",
    "#\n",
    "# 修改连续多列\n",
    "# t[:,1:4]=0\n",
    "#\n",
    "# 修改多行多列，取第二行到第四行，第三列到第五列\n",
    "# t[1:3,2:5]=0\n",
    "#\n",
    "# 修改多个不相邻的点\n",
    "# t[[0,1],[1,3]]=0\n",
    "\n",
    "# 可以根据条件修改，比如讲小于10的值改掉\n",
    "# t[t<10]=0\n",
    "\n",
    "# 使用逻辑判断\n",
    "# np.logical_and &   # np.logical_or |\n",
    "# np.logical_not ~\n",
    "# t[(t>2)&(t<6)]=0\t# 逻辑与，and\n",
    "# t[(t<2)|(t>6)]=0\t# 逻辑或，or\n",
    "# t[~(t>6)]=0\t    # 逻辑非\n",
    "# print(t)\n",
    "t = t.clip(10, 18)  # 将数组 t 中的所有小于 10 的值设置为 10，所有大于 18 的值设置为 18，而介于 10 和 18 之间的值保持不变。\n",
    "print(id(t))  # 返回一个新的数组\n",
    "t"
   ],
   "id": "1af5fa1124a34ab1",
   "outputs": [],
   "execution_count": null
  },
  {
   "metadata": {},
   "cell_type": "code",
   "source": [
    "t = np.arange(24).reshape(4, 6)\n",
    "print(t)\n",
    "t < 10  # 小于10为True"
   ],
   "id": "5ba5456dfe5fc8b4",
   "outputs": [],
   "execution_count": null
  },
  {
   "metadata": {},
   "cell_type": "code",
   "source": [
    "#python的三目运算\n",
    "a = 10\n",
    "b = 15\n",
    "c = a if a > b else b\n",
    "c"
   ],
   "id": "16a58fc057d88405",
   "outputs": [],
   "execution_count": null
  },
  {
   "metadata": {},
   "cell_type": "code",
   "source": [
    "# 三目运算（ np.where(condition, x, y)满足条件(condition)，输出x，不满足输出y。)）\n",
    "score = np.array([[80, 88], [82, 81], [75, 81]])\n",
    "print(score)\n",
    "result = np.where(score < 80, True, False)  #类似于if else\n",
    "print(result)"
   ],
   "id": "bc4812f89438c325",
   "outputs": [],
   "execution_count": null
  },
  {
   "metadata": {},
   "cell_type": "code",
   "source": [
    "score[result] = 100  # 把result位置改为100\n",
    "score"
   ],
   "id": "af240f72d64c3043",
   "outputs": [],
   "execution_count": null
  },
  {
   "metadata": {},
   "cell_type": "markdown",
   "source": "# 9数据的添加，删除与去重",
   "id": "d462b7a9f41be7cc"
  },
  {
   "metadata": {},
   "cell_type": "code",
   "source": [
    "# 1. numpy.append 函数在数组的末尾添加值。 追加操作会分配整个数组，并把原来的数组复制到新数组中。\n",
    "# 此外，输入数组的维度必须匹配否则将生成ValueError。\n",
    "'''\n",
    " append的参数{arr： 输 入 数 组     values：要向arr添加的值，需要和arr形状相同（除了要添加的轴）                                             axis：默认为 None。当axis无定义时，是横向加成，返回总是为一维数组\n",
    " 当axis有定义的时候，分别为0和1的时候（列数要相同）。当axis为1时，数组是加在右边（行数要相同）。}\n",
    "'''\n",
    "import numpy as np\n",
    "\n",
    "a = np.array([[1, 2, 3], [4, 5, 6]])\n",
    "\n",
    "print('第一个数组：')\n",
    "print(a)\n",
    "print('\\n')\n",
    "\n",
    "print(' 向 数 组 添 加 元 素 ：')\n",
    "print(np.append(a, [7, 8, 9]))  #ndarray会被展平\n",
    "print('\\n')\n",
    "print(a)\n",
    "print('-' * 50)"
   ],
   "id": "15cfb18f4095965c",
   "outputs": [],
   "execution_count": null
  },
  {
   "metadata": {},
   "cell_type": "code",
   "source": [
    "b = np.array([[7, 8, 9]])   # 2维\n",
    "print(b.ndim)\n",
    "print(b)\n",
    "print('-' * 50)"
   ],
   "id": "888395daffafc03a",
   "outputs": [],
   "execution_count": null
  },
  {
   "metadata": {},
   "cell_type": "code",
   "source": [
    "print('沿轴 0 添加元素：')  #往哪个轴添加，那个轴size就变大\n",
    "b = np.array([[7, 8, 9]])\n",
    "print(np.append(a, b, axis=0))\n",
    "print('\\n')\n",
    "print(a)\n",
    "\n",
    "print('沿轴 1 添加元素：')\n",
    "c = [[5, 5, 5], [7, 8, 9]]\n",
    "print(np.append(a, c, axis=1))\n",
    "print(a)\n",
    "print('-' * 50)"
   ],
   "id": "c45342ecab5b9190",
   "outputs": [],
   "execution_count": null
  },
  {
   "metadata": {},
   "cell_type": "code",
   "source": [
    "# 2. numpy.insert\n",
    "# 函数在给定索引之前，沿给定轴在输入数组中插入值。如果值的类型转换为要插入，则它与输入数组不同。\n",
    "# 插入没有原地的，函数会返回一个新数组。 此外，如果未提供轴，则输入数组会被展开。\n",
    "\n",
    "a = np.array([[1, 2], [3, 4], [5, 6]])\n",
    "\n",
    "print('第一个数组：')\n",
    "print(a)\n",
    "print('\\n')\n",
    "\n",
    "print('未传递 Axis 参数。 在插入之前输入数组会被展开。')\n",
    "print(np.insert(a, 1, [11, 22]))\n",
    "print('-' * 50)\n",
    "\n",
    "print(np.insert(a, 1, [11, 12], axis=0))  #那个轴插入，哪个轴size变大\n",
    "\n",
    "print('传递了 Axis 参数。 会广播值数组来配输入数组。')\n",
    "print('沿轴  0 广播：')\n",
    "print(np.insert(a, 1, 11, axis=0))\n",
    "print('\\n')\n",
    "\n",
    "print('沿轴  1 广播：')\n",
    "print(np.insert(a, 1, [1, 2, 5], axis=1))"
   ],
   "id": "a54c639c2715e6c0",
   "outputs": [],
   "execution_count": null
  },
  {
   "metadata": {},
   "cell_type": "code",
   "source": [
    "# numpy.delete 函数返回从输入数组中删除指定子数组的新数组。 与 insert() 函数的情况一样，\n",
    "# 如果未提供轴参数， 则输入数组将展开。\n",
    "'''\n",
    "参 数 说 明 ： arr： 输 入 数 组\n",
    "obj：可以被切片，整数或者整数数组，表明要从输入数组删除的子数组\n",
    "axis：沿着它删除给定子数组的轴，如果未提供，则输入数组会被展开'''\n",
    "import numpy as np\n",
    "\n",
    "a = np.arange(12).reshape(3, 4)\n",
    "\n",
    "print('第一个数组：')\n",
    "print(a)\n",
    "print('\\n')\n",
    "\n",
    "print('未传递 Axis 参数。 在删除之前输入数组会被展开。')\n",
    "print(np.delete(a, 5))\n",
    "print('\\n')\n",
    "print(a)    # a不会改变\n",
    "\n",
    "print('删除第一行：')\n",
    "print(np.delete(a, 1, axis=0))\n",
    "print('\\n')\n",
    "\n",
    "print('删除第一列：')\n",
    "print(np.delete(a, 1, axis=1))"
   ],
   "id": "89fae4052f31928",
   "outputs": [],
   "execution_count": null
  },
  {
   "metadata": {},
   "cell_type": "code",
   "source": [
    "# numpy.unique 函数用于去除数组中的重复元素。\n",
    "'''\n",
    "arr：输入数组，如果不是一维数组则会展平\n",
    "return_index：如果为true，返回新列表元素在旧列表中的位置（下标），并以列表形式储存\n",
    "return_inverse：如果为true，返回旧列表元素在新列表中的位置（下标），并以列表形式储存\n",
    "return_counts：如果为true，返回去重数组中的元素在原数组中的出现次数\n",
    "'''\n",
    "import numpy as np\n",
    "\n",
    "a = np.array([5, 2, 6, 2, 7, 5, 6, 9, 8, 2])\n",
    "\n",
    "print('第一个数组：')\n",
    "print(a)\n",
    "print('\\n')\n",
    "\n",
    "# 去除重复元素，输出的是有序序列\n",
    "# print ('第一个数组的去重值：')\n",
    "# u = np.unique(a)\n",
    "# print (u)\n",
    "# print ('\\n')\n",
    "\n",
    "# print ('去重数组的索引数组：')\n",
    "# u,indices = np.unique(a, return_index = True)\n",
    "# print(u)\n",
    "# print (indices)\n",
    "# print ('\\n')\n",
    "\n",
    "# print ('我们可以看到每个和原数组下标对应的数值：')\n",
    "# print ('去重数组的下标：')\n",
    "# u,indices = np.unique(a,return_inverse = True)\n",
    "# print (u)\n",
    "# print (indices)\n",
    "# print ('\\n')\n",
    "\n",
    "print('返回去重元素的重复数量：')\n",
    "u, indices = np.unique(a, return_counts=True)\n",
    "print(u)\n",
    "print(indices)\n",
    "u"
   ],
   "id": "d7b1635f6727f588",
   "outputs": [],
   "execution_count": null
  },
  {
   "metadata": {},
   "cell_type": "markdown",
   "source": "# numpy的计算（数学函数）",
   "id": "41dd9d4f3538d984"
  },
  {
   "metadata": {},
   "cell_type": "code",
   "source": [
    "import numpy as np\n",
    "\n",
    "score = np.array([[80, 88], [82, 81], [75, 81]])\n",
    "print(score)\n",
    "\n",
    "# 1. 获取所有数据最大值\n",
    "result = np.max(score)\n",
    "print(result)\n",
    "# 2. 获取某一个轴上的数据最大值，对应的轴就消失\n",
    "result = np.max(score, axis=1)\n",
    "print(result)\n",
    "\n",
    "# 3. 获取最小值\n",
    "result = np.min(score)\n",
    "print(result)\n",
    "# 4. 获取某一个轴上的数据最小值\n",
    "result = np.min(score, axis=0)\n",
    "print(result)\n",
    "\n",
    "# 5. 数据的比较\n",
    "result = np.maximum([-2, -1, 0, 1, 2], 0)  # 第一个参数中的每一个数与第二个参数比较返回大的\n",
    "print(result)\n",
    "result = np.minimum([-2, -1, 0, 1, 2], 0)  # 第一个参数中的每一个数与第二个参数比较返回小的\n",
    "print(result)\n",
    "result = np.maximum([-2, -1, 4, 1, 2], [1, 2, 3, 4, 5])\n",
    "print(result)\n",
    "# 接受的两个参数，也可以大小一致;第二个参数只是一个单独的值时，其实是用到了维度的广播机制；\n",
    "\n",
    "\n",
    "\n",
    "# 通用函数：\n",
    "# numpy.sqrt(array)\t平方根函数\n",
    "# numpy.exp(array)\te^array[i]的数组\n",
    "# numpy.abs/fabs(array)\t计算绝对值\n",
    "# numpy.square(array)\t计算各元素的平方 等于array^2\n",
    "# numpy.log/log10/log2(array)\t计算各元素的各种对数\n",
    "# numpy.sign(array)\t计算各元素正负号\n",
    "# numpy.isnan(array)\t计算各元素是否为NaN\n",
    "# numpy.isinf(array)\t计算各元素是否为NaN\n",
    "# numpy.cos/cosh/sin/sinh/tan/tanh(array) 三角函数\n",
    "# numpy.modf(array)\t将array中值得整数和小数分离，作两个数组返回\n",
    "# numpy.ceil(array)\t向上取整,也就是取比这个数大的整数\n",
    "# numpy.floor(array)\t向下取整,也就是取比这个数小的整数\n",
    "# numpy.rint(array)\t四舍五入\n",
    "# numpy.trunc(array)\t向0取整\n",
    "# \n",
    "# numpy.add(array1,array2)\t元素级加法\n",
    "# numpy.subtract(array1,array2)\t元素级减法\n",
    "# numpy.multiply(array1,array2)\t元素级乘法\n",
    "# numpy.divide(array1,array2)\t元素级除法 array1./array2\n",
    "# numpy.power(array1,array2)\t元素级指数 array1.^array2\n",
    "# numpy.maximum/minimum(array1,aray2) 元素级最大值\n",
    "# numpy.fmax/fmin(array1,array2)\t元素级最大值，忽略NaN\n",
    "# numpy.mod(array1,array2)\t元素级求模\n",
    "# numpy.copysign(array1,array2)\t将第二个数组中值得符号复制给第一个数组中值\n",
    "# numpy.greater/greater_equal/less/less_equal/equal/not_equal (array1,array2)   元素级比较运算，产生布尔数组\n",
    "# numpy.logical_end/logical_or/logic_xor(array1,array2)  元素级的真值逻辑运算"
   ],
   "id": "6b796ab368aa7731",
   "outputs": [],
   "execution_count": null
  },
  {
   "metadata": {},
   "cell_type": "code",
   "source": [
    "# 6. 求平均值\n",
    "result = np.mean(score)  # 获取所有数据的平均值\n",
    "print(result)\n",
    "result = np.mean(score, axis=0)  # 获取某一行或者某一列的平均值\n",
    "print(result)\n",
    "\n",
    "# 7. 求前缀和\n",
    "arr = np.array([[1, 2, 3], [4, 5, 6]])\n",
    "print(arr)\n",
    "print(arr.cumsum(axis=0))\n",
    "\n",
    "# [1, 2, 3]------>\t|1\t|2\t|3\t|\n",
    "# [4, 5, 6]------>\t|5=1+4 |7=2+5 |9=3+6|\n",
    "\n",
    "print(arr.cumsum(axis=1))\n",
    "\n",
    "# [1, 2, 3]------>\t|1\t|2+1\t|3+2+1\t|\n",
    "# [4, 5, 6]------>\t|4\t|4+5\t|4+5+6\t|\n",
    "\n",
    "# 拓展：方差var, 协方差cov, 计算平均值 average, 计算中位数 median"
   ],
   "id": "bc15a035d290393f",
   "outputs": [],
   "execution_count": null
  },
  {
   "metadata": {},
   "cell_type": "code",
   "source": [
    "# 8. argmin求最小值索引\n",
    "result = np.argmin(score, axis=0)\n",
    "res = np.min(score, axis=0)  #这样我们就可以知道最小的81是第二排的，是从前往后遍历的\n",
    "print(result, res)\n",
    "\n",
    "# 9. 求每一列的标准差（这里是总体标准差）\n",
    "# 标准差是一组数据平均值分散程度的一种度量。一个较大的标准差，代表大部分数值和其平均值之间差异较大；\n",
    "# 一个较小的标准差，代表这些数据较接近平均值反应出数据的波动稳定情况，越大表示波动越大，越不稳定。\n",
    "result = np.std(score, axis=0)\n",
    "print(result)\n",
    "\n",
    "# 10. 极 值\n",
    "result = np.ptp(score, axis=None)  #就是最大值和最小值的差\n",
    "print(result)"
   ],
   "id": "e28a5c284d31e85e",
   "outputs": [],
   "execution_count": null
  },
  {
   "metadata": {},
   "cell_type": "code",
   "source": [
    "t = np.arange(30).reshape(10, 3)\n",
    "print(t)\n",
    "np.mean(t, axis=0)"
   ],
   "id": "ae5dea2b2ddc54cc",
   "outputs": [],
   "execution_count": null
  },
  {
   "metadata": {},
   "cell_type": "markdown",
   "source": "# 数组的拼接",
   "id": "f38e507b60f13f61"
  },
  {
   "metadata": {
    "ExecuteTime": {
     "end_time": "2025-01-07T03:51:45.543256Z",
     "start_time": "2025-01-07T03:51:45.507113Z"
    }
   },
   "cell_type": "code",
   "source": [
    "# 有的时候我们需要将两个数据加起来一起研究分析，我们就可以将其进行拼接然后分析\n",
    "import numpy as np\n",
    "\n",
    "# 1. 根据轴连接的数组序列，concatenate没有改变数组的维度\n",
    "a = np.array([[1, 2], [3, 4]])\n",
    "b = np.array([[5, 6], [7, 8]])\n",
    "c = np.array([[9, 10], [11, 12]])\n",
    "# 要求a,b两个数组的维度相同\n",
    "\n",
    "print('沿轴 0 连接两个数组：')\n",
    "print(np.concatenate((a, b), axis=0))  #写哪个轴，哪个轴就变化\n",
    "print('-' * 50)"
   ],
   "id": "3387a615b45b338f",
   "outputs": [
    {
     "name": "stdout",
     "output_type": "stream",
     "text": [
      "沿轴 0 连接两个数组：\n",
      "[[1 2]\n",
      " [3 4]\n",
      " [5 6]\n",
      " [7 8]]\n",
      "--------------------------------------------------\n"
     ]
    }
   ],
   "execution_count": 29
  },
  {
   "metadata": {
    "ExecuteTime": {
     "end_time": "2025-01-07T03:51:51.853255Z",
     "start_time": "2025-01-07T03:51:51.850184Z"
    }
   },
   "cell_type": "code",
   "source": [
    "print('沿轴 1 连接三个数组：')\n",
    "print(np.concatenate((a, b,c), axis=1))"
   ],
   "id": "a5d07150d3791386",
   "outputs": [
    {
     "name": "stdout",
     "output_type": "stream",
     "text": [
      "沿轴 1 连接三个数组：\n",
      "[[ 1  2  5  6  9 10]\n",
      " [ 3  4  7  8 11 12]]\n"
     ]
    }
   ],
   "execution_count": 30
  },
  {
   "metadata": {
    "ExecuteTime": {
     "end_time": "2025-01-07T03:51:53.475546Z",
     "start_time": "2025-01-07T03:51:53.471939Z"
    }
   },
   "cell_type": "code",
   "source": [
    "# 堆叠\n",
    "print('-' * 50)\n",
    "print(np.stack((a, b, c), axis=1))\n",
    "print(np.stack((a, b,c), axis=1).shape)  #stack会增加维度\n",
    "print('-' * 50)\n",
    "print(np.stack((a, b, c), axis=0))\n",
    "print(np.stack((a, b,c), axis=0).shape) "
   ],
   "id": "757f35a03a5b1284",
   "outputs": [
    {
     "name": "stdout",
     "output_type": "stream",
     "text": [
      "--------------------------------------------------\n",
      "[[[ 1  2]\n",
      "  [ 5  6]\n",
      "  [ 9 10]]\n",
      "\n",
      " [[ 3  4]\n",
      "  [ 7  8]\n",
      "  [11 12]]]\n",
      "(2, 3, 2)\n",
      "--------------------------------------------------\n",
      "[[[ 1  2]\n",
      "  [ 3  4]]\n",
      "\n",
      " [[ 5  6]\n",
      "  [ 7  8]]\n",
      "\n",
      " [[ 9 10]\n",
      "  [11 12]]]\n",
      "(3, 2, 2)\n"
     ]
    }
   ],
   "execution_count": 31
  },
  {
   "metadata": {
    "ExecuteTime": {
     "end_time": "2025-01-07T03:51:55.654543Z",
     "start_time": "2025-01-07T03:51:55.650670Z"
    }
   },
   "cell_type": "code",
   "source": [
    "# 2. 根据轴进行堆叠，2维会变为3维\n",
    "arrays = [np.arange(12).reshape(3, 4) for _ in range(10)]\n",
    "print(arrays)\n",
    "print(len(arrays))\n",
    "\n",
    "print('沿轴 0 连接两个数组：')\n",
    "result0 = np.stack(arrays, axis=0)\n",
    "print(result0.shape)  # (10,3,4)\n",
    "print (result0)"
   ],
   "id": "376c5895e58422d6",
   "outputs": [
    {
     "name": "stdout",
     "output_type": "stream",
     "text": [
      "[array([[ 0,  1,  2,  3],\n",
      "       [ 4,  5,  6,  7],\n",
      "       [ 8,  9, 10, 11]]), array([[ 0,  1,  2,  3],\n",
      "       [ 4,  5,  6,  7],\n",
      "       [ 8,  9, 10, 11]]), array([[ 0,  1,  2,  3],\n",
      "       [ 4,  5,  6,  7],\n",
      "       [ 8,  9, 10, 11]]), array([[ 0,  1,  2,  3],\n",
      "       [ 4,  5,  6,  7],\n",
      "       [ 8,  9, 10, 11]]), array([[ 0,  1,  2,  3],\n",
      "       [ 4,  5,  6,  7],\n",
      "       [ 8,  9, 10, 11]]), array([[ 0,  1,  2,  3],\n",
      "       [ 4,  5,  6,  7],\n",
      "       [ 8,  9, 10, 11]]), array([[ 0,  1,  2,  3],\n",
      "       [ 4,  5,  6,  7],\n",
      "       [ 8,  9, 10, 11]]), array([[ 0,  1,  2,  3],\n",
      "       [ 4,  5,  6,  7],\n",
      "       [ 8,  9, 10, 11]]), array([[ 0,  1,  2,  3],\n",
      "       [ 4,  5,  6,  7],\n",
      "       [ 8,  9, 10, 11]]), array([[ 0,  1,  2,  3],\n",
      "       [ 4,  5,  6,  7],\n",
      "       [ 8,  9, 10, 11]])]\n",
      "10\n",
      "沿轴 0 连接两个数组：\n",
      "(10, 3, 4)\n",
      "[[[ 0  1  2  3]\n",
      "  [ 4  5  6  7]\n",
      "  [ 8  9 10 11]]\n",
      "\n",
      " [[ 0  1  2  3]\n",
      "  [ 4  5  6  7]\n",
      "  [ 8  9 10 11]]\n",
      "\n",
      " [[ 0  1  2  3]\n",
      "  [ 4  5  6  7]\n",
      "  [ 8  9 10 11]]\n",
      "\n",
      " [[ 0  1  2  3]\n",
      "  [ 4  5  6  7]\n",
      "  [ 8  9 10 11]]\n",
      "\n",
      " [[ 0  1  2  3]\n",
      "  [ 4  5  6  7]\n",
      "  [ 8  9 10 11]]\n",
      "\n",
      " [[ 0  1  2  3]\n",
      "  [ 4  5  6  7]\n",
      "  [ 8  9 10 11]]\n",
      "\n",
      " [[ 0  1  2  3]\n",
      "  [ 4  5  6  7]\n",
      "  [ 8  9 10 11]]\n",
      "\n",
      " [[ 0  1  2  3]\n",
      "  [ 4  5  6  7]\n",
      "  [ 8  9 10 11]]\n",
      "\n",
      " [[ 0  1  2  3]\n",
      "  [ 4  5  6  7]\n",
      "  [ 8  9 10 11]]\n",
      "\n",
      " [[ 0  1  2  3]\n",
      "  [ 4  5  6  7]\n",
      "  [ 8  9 10 11]]]\n"
     ]
    }
   ],
   "execution_count": 32
  },
  {
   "metadata": {
    "ExecuteTime": {
     "end_time": "2025-01-07T03:52:18.123762Z",
     "start_time": "2025-01-07T03:52:18.120239Z"
    }
   },
   "cell_type": "code",
   "source": [
    "print('-' * 50)\n",
    "print('沿轴 1 连接两个数组：')\n",
    "print(arrays[0])\n",
    "result1 = np.stack(arrays, axis=1)\n",
    "print(result1.shape)  #(3,10,4)\n",
    "print(result1)"
   ],
   "id": "d9a7d6e0c443b344",
   "outputs": [
    {
     "name": "stdout",
     "output_type": "stream",
     "text": [
      "--------------------------------------------------\n",
      "沿轴 1 连接两个数组：\n",
      "[[ 0  1  2  3]\n",
      " [ 4  5  6  7]\n",
      " [ 8  9 10 11]]\n",
      "(3, 10, 4)\n",
      "[[[ 0  1  2  3]\n",
      "  [ 0  1  2  3]\n",
      "  [ 0  1  2  3]\n",
      "  [ 0  1  2  3]\n",
      "  [ 0  1  2  3]\n",
      "  [ 0  1  2  3]\n",
      "  [ 0  1  2  3]\n",
      "  [ 0  1  2  3]\n",
      "  [ 0  1  2  3]\n",
      "  [ 0  1  2  3]]\n",
      "\n",
      " [[ 4  5  6  7]\n",
      "  [ 4  5  6  7]\n",
      "  [ 4  5  6  7]\n",
      "  [ 4  5  6  7]\n",
      "  [ 4  5  6  7]\n",
      "  [ 4  5  6  7]\n",
      "  [ 4  5  6  7]\n",
      "  [ 4  5  6  7]\n",
      "  [ 4  5  6  7]\n",
      "  [ 4  5  6  7]]\n",
      "\n",
      " [[ 8  9 10 11]\n",
      "  [ 8  9 10 11]\n",
      "  [ 8  9 10 11]\n",
      "  [ 8  9 10 11]\n",
      "  [ 8  9 10 11]\n",
      "  [ 8  9 10 11]\n",
      "  [ 8  9 10 11]\n",
      "  [ 8  9 10 11]\n",
      "  [ 8  9 10 11]\n",
      "  [ 8  9 10 11]]]\n"
     ]
    }
   ],
   "execution_count": 34
  },
  {
   "metadata": {
    "ExecuteTime": {
     "end_time": "2025-01-07T03:52:57.211754Z",
     "start_time": "2025-01-07T03:52:57.206565Z"
    }
   },
   "cell_type": "code",
   "source": [
    "print('-' * 50)\n",
    "print('沿轴 2连接两个数组：这里-1和2是等价的')\n",
    "result2 = np.stack(arrays, axis=-1)\n",
    "print(arrays[0])\n",
    "print(result2.shape)    # (3, 4, 10)\n",
    "print(result2)"
   ],
   "id": "2c2eaf075417b941",
   "outputs": [
    {
     "name": "stdout",
     "output_type": "stream",
     "text": [
      "--------------------------------------------------\n",
      "沿轴 2连接两个数组：这里-1和2是等价的\n",
      "[[ 0  1  2  3]\n",
      " [ 4  5  6  7]\n",
      " [ 8  9 10 11]]\n",
      "(3, 4, 10)\n",
      "[[[ 0  0  0  0  0  0  0  0  0  0]\n",
      "  [ 1  1  1  1  1  1  1  1  1  1]\n",
      "  [ 2  2  2  2  2  2  2  2  2  2]\n",
      "  [ 3  3  3  3  3  3  3  3  3  3]]\n",
      "\n",
      " [[ 4  4  4  4  4  4  4  4  4  4]\n",
      "  [ 5  5  5  5  5  5  5  5  5  5]\n",
      "  [ 6  6  6  6  6  6  6  6  6  6]\n",
      "  [ 7  7  7  7  7  7  7  7  7  7]]\n",
      "\n",
      " [[ 8  8  8  8  8  8  8  8  8  8]\n",
      "  [ 9  9  9  9  9  9  9  9  9  9]\n",
      "  [10 10 10 10 10 10 10 10 10 10]\n",
      "  [11 11 11 11 11 11 11 11 11 11]]]\n"
     ]
    }
   ],
   "execution_count": 35
  },
  {
   "metadata": {
    "ExecuteTime": {
     "end_time": "2025-01-07T03:54:12.223017Z",
     "start_time": "2025-01-07T03:54:12.219716Z"
    }
   },
   "cell_type": "code",
   "source": [
    "# 3. 矩阵垂直拼接，vstack没有增加维数，类似于concatenate \n",
    "v1 = [[0, 1, 2, 3, 4, 5],\n",
    "      [6, 7, 8, 9, 10, 11]]\n",
    "v2 = [[12, 13, 14, 15, 16, 17],\n",
    "      [18, 19, 20, 21, 22, 23]]\n",
    "result = np.vstack((v1, v2))\n",
    "print(result)\n",
    "\n",
    "# 4. 矩阵水平拼接，类似于concatenate  horizontal\n",
    "v1 = [[0, 1, 2, 3, 4, 5],\n",
    "      [6, 7, 8, 9, 10, 11]]\n",
    "v2 = [[12, 13, 14, 15, 16, 17],\n",
    "      [18, 19, 20, 21, 22, 23]]\n",
    "result = np.hstack((v1, v2))\n",
    "print(result)"
   ],
   "id": "14135ae6a8b99e41",
   "outputs": [
    {
     "name": "stdout",
     "output_type": "stream",
     "text": [
      "[[ 0  1  2  3  4  5]\n",
      " [ 6  7  8  9 10 11]\n",
      " [12 13 14 15 16 17]\n",
      " [18 19 20 21 22 23]]\n",
      "[[ 0  1  2  3  4  5 12 13 14 15 16 17]\n",
      " [ 6  7  8  9 10 11 18 19 20 21 22 23]]\n"
     ]
    }
   ],
   "execution_count": 36
  },
  {
   "metadata": {},
   "cell_type": "markdown",
   "source": "# 分割",
   "id": "e1d0e651c463b829"
  },
  {
   "metadata": {
    "ExecuteTime": {
     "end_time": "2025-01-07T03:56:34.569505Z",
     "start_time": "2025-01-07T03:56:34.566182Z"
    }
   },
   "cell_type": "code",
   "source": [
    "# 1. 将一个数组分割为多个子数组\n",
    "'''\n",
    "参数说明：\n",
    "ary：被分割的数组\n",
    "indices_or_sections：是一个整数，就用该数平均切分，如果是一个数组，为沿轴切分的位置（左开右闭）\n",
    "axis：沿着哪个维度进行切向，默认为0，横向切分。为1时，纵向切分\n",
    "'''\n",
    "import numpy as np\n",
    "\n",
    "arr = np.arange(12).reshape(4, 3)\n",
    "print(arr)\n",
    "print('将数组分为三个大小相等的子数组：b是一个列表')\n",
    "b = np.split(arr, 3, axis=1) #按那个轴，那个轴发生变化\n",
    "print(b)"
   ],
   "id": "7fc6d3ac5913922d",
   "outputs": [
    {
     "name": "stdout",
     "output_type": "stream",
     "text": [
      "[[ 0  1  2]\n",
      " [ 3  4  5]\n",
      " [ 6  7  8]\n",
      " [ 9 10 11]]\n",
      "将数组分为三个大小相等的子数组：b是一个列表\n",
      "[array([[0],\n",
      "       [3],\n",
      "       [6],\n",
      "       [9]]), array([[ 1],\n",
      "       [ 4],\n",
      "       [ 7],\n",
      "       [10]]), array([[ 2],\n",
      "       [ 5],\n",
      "       [ 8],\n",
      "       [11]])]\n"
     ]
    }
   ],
   "execution_count": 37
  },
  {
   "metadata": {
    "ExecuteTime": {
     "end_time": "2025-01-07T03:57:11.374397Z",
     "start_time": "2025-01-07T03:57:11.371313Z"
    }
   },
   "cell_type": "code",
   "source": "b[0].shape",
   "id": "e25df12027bb29a0",
   "outputs": [
    {
     "data": {
      "text/plain": [
       "(4, 1)"
      ]
     },
     "execution_count": 38,
     "metadata": {},
     "output_type": "execute_result"
    }
   ],
   "execution_count": 38
  },
  {
   "metadata": {
    "ExecuteTime": {
     "end_time": "2025-01-07T03:57:23.489357Z",
     "start_time": "2025-01-07T03:57:23.485249Z"
    }
   },
   "cell_type": "code",
   "source": [
    "b = np.split(arr, 4, axis=0)\n",
    "print(b)"
   ],
   "id": "85ad6020b67ff13e",
   "outputs": [
    {
     "name": "stdout",
     "output_type": "stream",
     "text": [
      "[array([[0, 1, 2]]), array([[3, 4, 5]]), array([[6, 7, 8]]), array([[ 9, 10, 11]])]\n"
     ]
    }
   ],
   "execution_count": 39
  },
  {
   "metadata": {
    "ExecuteTime": {
     "end_time": "2025-01-07T03:58:06.172845Z",
     "start_time": "2025-01-07T03:58:06.168945Z"
    }
   },
   "cell_type": "code",
   "source": [
    "# numpy.hsplit 函数用于水平分割数组，通过指定要返回的相同形状的数组数量来拆分原数组。\n",
    "c = np.hsplit(arr, 3)\n",
    "print(c)  #c是列表\n",
    "print(c[0].shape)"
   ],
   "id": "1e6319297507beec",
   "outputs": [
    {
     "name": "stdout",
     "output_type": "stream",
     "text": [
      "[array([[0],\n",
      "       [3],\n",
      "       [6],\n",
      "       [9]]), array([[ 1],\n",
      "       [ 4],\n",
      "       [ 7],\n",
      "       [10]]), array([[ 2],\n",
      "       [ 5],\n",
      "       [ 8],\n",
      "       [11]])]\n",
      "(4, 1)\n"
     ]
    }
   ],
   "execution_count": 40
  },
  {
   "metadata": {
    "ExecuteTime": {
     "end_time": "2025-01-07T03:59:02.377112Z",
     "start_time": "2025-01-07T03:59:02.359587Z"
    }
   },
   "cell_type": "code",
   "source": [
    "d = np.random.random((2, 6))\n",
    "# 形状为 (2, 6) 的二维数组 d，其元素是从 [0, 1) 区间均匀分布的随机数\n",
    "print(d)"
   ],
   "id": "232855758a17f823",
   "outputs": [
    {
     "name": "stdout",
     "output_type": "stream",
     "text": [
      "[[0.10535686 0.06704714 0.12175486 0.74146709 0.05582327 0.02504743]\n",
      " [0.38175646 0.39781621 0.49121962 0.35770105 0.50798696 0.1516724 ]]\n"
     ]
    }
   ],
   "execution_count": 41
  },
  {
   "metadata": {
    "ExecuteTime": {
     "end_time": "2025-01-07T04:12:01.045156Z",
     "start_time": "2025-01-07T04:12:01.041370Z"
    }
   },
   "cell_type": "code",
   "source": [
    "# numpy.vsplit 沿着垂直轴分割\n",
    "a = np.arange(16).reshape(4, 4)\n",
    "\n",
    "print('第一个数组：')\n",
    "print(a)\n",
    "print('\\n')\n",
    "\n",
    "print('竖直分割：')\n",
    "b = np.vsplit(a, 2)\n",
    "print(b)"
   ],
   "id": "9d7ae0e6d799acdf",
   "outputs": [
    {
     "name": "stdout",
     "output_type": "stream",
     "text": [
      "第一个数组：\n",
      "[[ 0  1  2  3]\n",
      " [ 4  5  6  7]\n",
      " [ 8  9 10 11]\n",
      " [12 13 14 15]]\n",
      "\n",
      "\n",
      "竖直分割：\n",
      "[array([[0, 1, 2, 3],\n",
      "       [4, 5, 6, 7]]), array([[ 8,  9, 10, 11],\n",
      "       [12, 13, 14, 15]])]\n"
     ]
    }
   ],
   "execution_count": 44
  }
 ],
 "metadata": {
  "kernelspec": {
   "display_name": "Python 3",
   "language": "python",
   "name": "python3"
  },
  "language_info": {
   "codemirror_mode": {
    "name": "ipython",
    "version": 2
   },
   "file_extension": ".py",
   "mimetype": "text/x-python",
   "name": "python",
   "nbconvert_exporter": "python",
   "pygments_lexer": "ipython2",
   "version": "2.7.6"
  }
 },
 "nbformat": 4,
 "nbformat_minor": 5
}
