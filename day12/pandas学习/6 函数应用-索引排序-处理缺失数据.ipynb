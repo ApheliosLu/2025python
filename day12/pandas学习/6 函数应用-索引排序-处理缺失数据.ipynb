{
 "cells": [
  {
   "cell_type": "markdown",
   "metadata": {
    "collapsed": true,
    "pycharm": {
     "name": "#%% md\n"
    }
   },
   "source": [
    "# 6 Pandas的函数应用"
   ]
  },
  {
   "cell_type": "code",
   "source": [
    "import pandas as pd\n",
    "import numpy as np\n",
    "\n",
    "# Numpy ufunc 函数，randn跟的是维数\n",
    "df = pd.DataFrame(np.random.randn(5, 4) - 1)  # -1使得均值不再是零而是负一\n",
    "print(df)\n",
    "\n",
    "print(np.abs(df))  #绝对值"
   ],
   "metadata": {
    "collapsed": false,
    "pycharm": {
     "name": "#%%\n"
    },
    "ExecuteTime": {
     "end_time": "2025-01-07T13:03:54.538449Z",
     "start_time": "2025-01-07T13:03:54.531339Z"
    }
   },
   "outputs": [
    {
     "name": "stdout",
     "output_type": "stream",
     "text": [
      "          0         1         2         3\n",
      "0 -1.430866 -2.384597 -2.749806 -1.218744\n",
      "1 -0.569369 -3.131028  0.939248  0.080419\n",
      "2 -0.057630 -0.902494 -0.817345 -2.141111\n",
      "3 -2.147976  0.627762  0.598381 -0.768369\n",
      "4 -0.545082 -1.531376 -1.012408  0.118032\n",
      "          0         1         2         3\n",
      "0  1.430866  2.384597  2.749806  1.218744\n",
      "1  0.569369  3.131028  0.939248  0.080419\n",
      "2  0.057630  0.902494  0.817345  2.141111\n",
      "3  2.147976  0.627762  0.598381  0.768369\n",
      "4  0.545082  1.531376  1.012408  0.118032\n"
     ]
    }
   ],
   "execution_count": 2
  },
  {
   "cell_type": "code",
   "source": [
    "# apply默认作用在列上,x是每一列,因为axis=0\n",
    "print(df.apply(lambda x: x.max()))"
   ],
   "metadata": {
    "collapsed": false,
    "pycharm": {
     "name": "#%%\n"
    },
    "ExecuteTime": {
     "end_time": "2025-01-07T13:05:31.863609Z",
     "start_time": "2025-01-07T13:05:31.857684Z"
    }
   },
   "outputs": [
    {
     "name": "stdout",
     "output_type": "stream",
     "text": [
      "0   -0.057630\n",
      "1    0.627762\n",
      "2    0.939248\n",
      "3    0.118032\n",
      "dtype: float64\n"
     ]
    }
   ],
   "execution_count": 3
  },
  {
   "cell_type": "code",
   "source": [
    "#apply作用在行上\n",
    "print(df.apply(lambda x: x.max(), axis=1))"
   ],
   "metadata": {
    "collapsed": false,
    "pycharm": {
     "name": "#%%\n"
    },
    "ExecuteTime": {
     "end_time": "2025-01-07T13:05:53.923757Z",
     "start_time": "2025-01-07T13:05:53.918307Z"
    }
   },
   "outputs": [
    {
     "name": "stdout",
     "output_type": "stream",
     "text": [
      "0   -1.218744\n",
      "1    0.939248\n",
      "2   -0.057630\n",
      "3    0.627762\n",
      "4    0.118032\n",
      "dtype: float64\n"
     ]
    }
   ],
   "execution_count": 4
  },
  {
   "cell_type": "code",
   "source": [
    "# 使用applymap应用到每个数据\n",
    "print(df.map(lambda x: '%.2f' % x))\n",
    "df.dtypes"
   ],
   "metadata": {
    "collapsed": false,
    "pycharm": {
     "name": "#%%\n"
    },
    "ExecuteTime": {
     "end_time": "2025-01-07T13:06:08.101483Z",
     "start_time": "2025-01-07T13:06:08.089670Z"
    }
   },
   "outputs": [
    {
     "name": "stdout",
     "output_type": "stream",
     "text": [
      "       0      1      2      3\n",
      "0  -1.43  -2.38  -2.75  -1.22\n",
      "1  -0.57  -3.13   0.94   0.08\n",
      "2  -0.06  -0.90  -0.82  -2.14\n",
      "3  -2.15   0.63   0.60  -0.77\n",
      "4  -0.55  -1.53  -1.01   0.12\n"
     ]
    },
    {
     "data": {
      "text/plain": [
       "0    float64\n",
       "1    float64\n",
       "2    float64\n",
       "3    float64\n",
       "dtype: object"
      ]
     },
     "execution_count": 5,
     "metadata": {},
     "output_type": "execute_result"
    }
   ],
   "execution_count": 5
  },
  {
   "cell_type": "code",
   "source": [
    "print(type('%.2f' % 1.3456))    # <class 'str'>\n",
    "print('%.2f' % 1.3456)"
   ],
   "metadata": {
    "collapsed": false,
    "pycharm": {
     "name": "#%%\n"
    },
    "ExecuteTime": {
     "end_time": "2025-01-07T13:07:30.613011Z",
     "start_time": "2025-01-07T13:07:30.603148Z"
    }
   },
   "outputs": [
    {
     "name": "stdout",
     "output_type": "stream",
     "text": [
      "<class 'str'>\n",
      "1.35\n"
     ]
    }
   ],
   "execution_count": 8
  },
  {
   "cell_type": "markdown",
   "source": "## 6.4 索引排序（不重要）",
   "metadata": {
    "collapsed": false
   }
  },
  {
   "cell_type": "code",
   "source": [
    "# Series\n",
    "print(np.random.randint(5, size=5))\n",
    "print('-' * 50)\n",
    "s4 = pd.Series(range(10, 15), index=np.random.randint(5, size=5))  #索 引随机生成\n",
    "print(s4)\n",
    "print('-' * 50)\n",
    "\n",
    "# 索引排序,sort_index返回一个新的排好索引的series\n",
    "print(s4.sort_index())\n",
    "print(s4)\n",
    "\n",
    "# s4.loc[0:3]  # loc索引值不唯一时直接报错\n",
    "print(s4.iloc[0:3])\n",
    "s4[0:3]  #默认用的位置索引"
   ],
   "metadata": {
    "collapsed": false,
    "pycharm": {
     "name": "#%%\n"
    },
    "ExecuteTime": {
     "end_time": "2025-01-07T13:11:07.841373Z",
     "start_time": "2025-01-07T13:11:07.828474Z"
    }
   },
   "outputs": [
    {
     "name": "stdout",
     "output_type": "stream",
     "text": [
      "[0 1 2 3 3]\n",
      "--------------------------------------------------\n",
      "0    10\n",
      "0    11\n",
      "0    12\n",
      "0    13\n",
      "2    14\n",
      "dtype: int64\n",
      "--------------------------------------------------\n",
      "0    10\n",
      "0    11\n",
      "0    12\n",
      "0    13\n",
      "2    14\n",
      "dtype: int64\n",
      "0    10\n",
      "0    11\n",
      "0    12\n",
      "0    13\n",
      "2    14\n",
      "dtype: int64\n",
      "0    10\n",
      "0    11\n",
      "0    12\n",
      "dtype: int64\n"
     ]
    },
    {
     "data": {
      "text/plain": [
       "0    10\n",
       "0    11\n",
       "0    12\n",
       "dtype: int64"
      ]
     },
     "execution_count": 11,
     "metadata": {},
     "output_type": "execute_result"
    }
   ],
   "execution_count": 11
  },
  {
   "cell_type": "code",
   "source": "s4.loc[1:2] # loc索引值唯一时可以切片",
   "metadata": {
    "collapsed": false,
    "pycharm": {
     "name": "#%%\n"
    },
    "ExecuteTime": {
     "end_time": "2025-01-07T13:11:55.258444Z",
     "start_time": "2025-01-07T13:11:55.253967Z"
    }
   },
   "outputs": [
    {
     "data": {
      "text/plain": [
       "2    14\n",
       "dtype: int64"
      ]
     },
     "execution_count": 12,
     "metadata": {},
     "output_type": "execute_result"
    }
   ],
   "execution_count": 12
  },
  {
   "cell_type": "code",
   "source": [
    "# DataFrame\n",
    "df4 = pd.DataFrame(np.random.randn(5, 5),\n",
    "                   index=np.random.randint(5, size=5),\n",
    "                   columns=np.random.randint(5, size=5))\n",
    "print(df4)\n",
    "\n",
    "#轴零是行索引排序\n",
    "df4_isort = df4.sort_index(axis=0, ascending=False)\n",
    "print(df4_isort)"
   ],
   "metadata": {
    "collapsed": false,
    "pycharm": {
     "name": "#%%\n"
    },
    "ExecuteTime": {
     "end_time": "2025-01-07T13:13:22.879710Z",
     "start_time": "2025-01-07T13:13:22.871574Z"
    }
   },
   "outputs": [
    {
     "name": "stdout",
     "output_type": "stream",
     "text": [
      "          3         0         3         0         0\n",
      "2 -0.291031  1.701857  1.266753 -0.634195 -0.575971\n",
      "2 -0.404674  0.821214  0.042082  1.076502 -0.122473\n",
      "4 -1.901006  0.995158 -0.004688 -1.702281  0.297635\n",
      "0 -1.190299 -1.892105  1.038141 -2.351130 -0.011702\n",
      "1 -0.469885  1.735051  0.257079  0.663088 -0.520622\n",
      "          3         0         3         0         0\n",
      "4 -1.901006  0.995158 -0.004688 -1.702281  0.297635\n",
      "2 -0.291031  1.701857  1.266753 -0.634195 -0.575971\n",
      "2 -0.404674  0.821214  0.042082  1.076502 -0.122473\n",
      "1 -0.469885  1.735051  0.257079  0.663088 -0.520622\n",
      "0 -1.190299 -1.892105  1.038141 -2.351130 -0.011702\n"
     ]
    }
   ],
   "execution_count": 15
  },
  {
   "cell_type": "code",
   "source": [
    "# 轴1是列索引排序\n",
    "df4_isort = df4.sort_index(axis=1, ascending=True)\n",
    "print(df4_isort)"
   ],
   "metadata": {
    "collapsed": false,
    "ExecuteTime": {
     "end_time": "2025-01-07T13:13:34.208119Z",
     "start_time": "2025-01-07T13:13:34.204268Z"
    }
   },
   "outputs": [
    {
     "name": "stdout",
     "output_type": "stream",
     "text": [
      "          0         0         0         3         3\n",
      "2  1.701857 -0.634195 -0.575971 -0.291031  1.266753\n",
      "2  0.821214  1.076502 -0.122473 -0.404674  0.042082\n",
      "4  0.995158 -1.702281  0.297635 -1.901006 -0.004688\n",
      "0 -1.892105 -2.351130 -0.011702 -1.190299  1.038141\n",
      "1  1.735051  0.663088 -0.520622 -0.469885  0.257079\n"
     ]
    }
   ],
   "execution_count": 16
  },
  {
   "cell_type": "markdown",
   "source": "# 6.5 按值排序（机器学习，深度学习不重要，数据分析才需要）",
   "metadata": {
    "collapsed": false
   }
  },
  {
   "cell_type": "code",
   "source": [
    "# 按值排序,by后是column的值\n",
    "import random\n",
    "\n",
    "l = [random.randint(0, 100) for i in range(24)]  # 生成24个随机数\n",
    "df4 = pd.DataFrame(np.array(l).reshape(6, 4))  # 生成6行4列的dataframe\n",
    "print(df4)\n",
    "print('-' * 50)\n",
    "\n",
    "#按轴零排序，by后是列名,交换的是行\n",
    "df4_vsort = df4.sort_values(by=3, axis=0, ascending=False)  # 寻找的是columns里的3,重要\n",
    "print(df4_vsort)"
   ],
   "metadata": {
    "collapsed": false,
    "pycharm": {
     "name": "#%%\n"
    },
    "ExecuteTime": {
     "end_time": "2025-01-07T13:15:06.820057Z",
     "start_time": "2025-01-07T13:15:06.815447Z"
    }
   },
   "outputs": [
    {
     "name": "stdout",
     "output_type": "stream",
     "text": [
      "    0   1   2   3\n",
      "0  77  21  57  88\n",
      "1  98  44  80  96\n",
      "2  12   9  83   0\n",
      "3  66  72  49  90\n",
      "4  10  61  55  31\n",
      "5  78  61  85  96\n",
      "--------------------------------------------------\n",
      "    0   1   2   3\n",
      "1  98  44  80  96\n",
      "5  78  61  85  96\n",
      "3  66  72  49  90\n",
      "0  77  21  57  88\n",
      "4  10  61  55  31\n",
      "2  12   9  83   0\n"
     ]
    }
   ],
   "execution_count": 17
  },
  {
   "cell_type": "code",
   "source": [
    "# 按轴1排序，by后行索引名，交换的是列\n",
    "df4_vsort = df4.sort_values(by=3, axis=1, ascending=False)  # 寻找的是index里的3\n",
    "print(df4_vsort)"
   ],
   "metadata": {
    "collapsed": false,
    "ExecuteTime": {
     "end_time": "2025-01-07T13:16:17.378281Z",
     "start_time": "2025-01-07T13:16:17.374404Z"
    }
   },
   "outputs": [
    {
     "name": "stdout",
     "output_type": "stream",
     "text": [
      "    3   1   0   2\n",
      "0  88  21  77  57\n",
      "1  96  44  98  80\n",
      "2   0   9  12  83\n",
      "3  90  72  66  49\n",
      "4  31  61  10  55\n",
      "5  96  61  78  85\n"
     ]
    }
   ],
   "execution_count": 18
  },
  {
   "cell_type": "markdown",
   "source": "# 6.6 处理缺失数据（重要）",
   "metadata": {
    "collapsed": false
   }
  },
  {
   "cell_type": "code",
   "source": [
    "df_data = pd.DataFrame([np.random.randn(3), [1., 2., np.nan],\n",
    "                        [np.nan, 4., np.nan], [1., 2., 3.]])\n",
    "print(df_data.head())"
   ],
   "metadata": {
    "collapsed": false,
    "pycharm": {
     "name": "#%%\n"
    },
    "ExecuteTime": {
     "end_time": "2025-01-07T13:17:03.003309Z",
     "start_time": "2025-01-07T13:17:02.988458Z"
    }
   },
   "outputs": [
    {
     "name": "stdout",
     "output_type": "stream",
     "text": [
      "          0         1       2\n",
      "0 -0.696842 -0.651774 -0.7424\n",
      "1  1.000000  2.000000     NaN\n",
      "2       NaN  4.000000     NaN\n",
      "3  1.000000  2.000000  3.0000\n"
     ]
    }
   ],
   "execution_count": 19
  },
  {
   "cell_type": "code",
   "source": "df_data.iloc[2, 0]",
   "metadata": {
    "collapsed": false,
    "ExecuteTime": {
     "end_time": "2025-01-07T13:18:12.650984Z",
     "start_time": "2025-01-07T13:18:12.632800Z"
    }
   },
   "outputs": [
    {
     "data": {
      "text/plain": [
       "np.float64(nan)"
      ]
     },
     "execution_count": 20,
     "metadata": {},
     "output_type": "execute_result"
    }
   ],
   "execution_count": 20
  },
  {
   "cell_type": "code",
   "source": [
    "# isnull来判断是否有空的数据\n",
    "print(df_data.isnull())"
   ],
   "metadata": {
    "collapsed": false,
    "pycharm": {
     "name": "#%%\n"
    },
    "ExecuteTime": {
     "end_time": "2025-01-07T13:18:19.318373Z",
     "start_time": "2025-01-07T13:18:19.311295Z"
    }
   },
   "outputs": [
    {
     "name": "stdout",
     "output_type": "stream",
     "text": [
      "       0      1      2\n",
      "0  False  False  False\n",
      "1  False  False   True\n",
      "2   True  False   True\n",
      "3  False  False  False\n"
     ]
    }
   ],
   "execution_count": 21
  },
  {
   "metadata": {
    "ExecuteTime": {
     "end_time": "2025-01-07T13:18:26.364145Z",
     "start_time": "2025-01-07T13:18:26.355245Z"
    }
   },
   "cell_type": "code",
   "source": [
    "#帮我计算df_data缺失率\n",
    "print(df_data.isnull().sum() / len(df_data))"
   ],
   "outputs": [
    {
     "name": "stdout",
     "output_type": "stream",
     "text": [
      "0    0.25\n",
      "1    0.00\n",
      "2    0.50\n",
      "dtype: float64\n"
     ]
    }
   ],
   "execution_count": 22
  },
  {
   "cell_type": "markdown",
   "source": [
    "## 删除缺失数据"
   ],
   "metadata": {
    "collapsed": false
   }
  },
  {
   "cell_type": "code",
   "source": [
    "# 默认一个样本，任何一个特征缺失，就删除\n",
    "# inplace True是修改的是原有的df\n",
    "# subset=[0]是指按第一列来删除,第一列有空值就删除对应的行\n",
    "print(df_data.dropna(subset=[0]))"
   ],
   "metadata": {
    "collapsed": false,
    "pycharm": {
     "name": "#%%\n"
    },
    "ExecuteTime": {
     "end_time": "2025-01-07T13:18:53.858042Z",
     "start_time": "2025-01-07T13:18:53.838986Z"
    }
   },
   "outputs": [
    {
     "name": "stdout",
     "output_type": "stream",
     "text": [
      "          0         1       2\n",
      "0 -0.696842 -0.651774 -0.7424\n",
      "1  1.000000  2.000000     NaN\n",
      "3  1.000000  2.000000  3.0000\n"
     ]
    }
   ],
   "execution_count": 24
  },
  {
   "cell_type": "code",
   "source": [
    "df_data"
   ],
   "metadata": {
    "collapsed": false,
    "ExecuteTime": {
     "end_time": "2025-01-07T13:19:49.427444Z",
     "start_time": "2025-01-07T13:19:49.423305Z"
    }
   },
   "outputs": [
    {
     "data": {
      "text/plain": [
       "          0         1       2\n",
       "0 -0.696842 -0.651774 -0.7424\n",
       "1  1.000000  2.000000     NaN\n",
       "2       NaN  4.000000     NaN\n",
       "3  1.000000  2.000000  3.0000"
      ],
      "text/html": [
       "<div>\n",
       "<style scoped>\n",
       "    .dataframe tbody tr th:only-of-type {\n",
       "        vertical-align: middle;\n",
       "    }\n",
       "\n",
       "    .dataframe tbody tr th {\n",
       "        vertical-align: top;\n",
       "    }\n",
       "\n",
       "    .dataframe thead th {\n",
       "        text-align: right;\n",
       "    }\n",
       "</style>\n",
       "<table border=\"1\" class=\"dataframe\">\n",
       "  <thead>\n",
       "    <tr style=\"text-align: right;\">\n",
       "      <th></th>\n",
       "      <th>0</th>\n",
       "      <th>1</th>\n",
       "      <th>2</th>\n",
       "    </tr>\n",
       "  </thead>\n",
       "  <tbody>\n",
       "    <tr>\n",
       "      <th>0</th>\n",
       "      <td>-0.696842</td>\n",
       "      <td>-0.651774</td>\n",
       "      <td>-0.7424</td>\n",
       "    </tr>\n",
       "    <tr>\n",
       "      <th>1</th>\n",
       "      <td>1.000000</td>\n",
       "      <td>2.000000</td>\n",
       "      <td>NaN</td>\n",
       "    </tr>\n",
       "    <tr>\n",
       "      <th>2</th>\n",
       "      <td>NaN</td>\n",
       "      <td>4.000000</td>\n",
       "      <td>NaN</td>\n",
       "    </tr>\n",
       "    <tr>\n",
       "      <th>3</th>\n",
       "      <td>1.000000</td>\n",
       "      <td>2.000000</td>\n",
       "      <td>3.0000</td>\n",
       "    </tr>\n",
       "  </tbody>\n",
       "</table>\n",
       "</div>"
      ]
     },
     "execution_count": 25,
     "metadata": {},
     "output_type": "execute_result"
    }
   ],
   "execution_count": 25
  },
  {
   "cell_type": "code",
   "source": [
    "# 用的不多，用在某个特征缺失太多时，才会进行删除\n",
    "print(df_data.dropna(axis=1))  # 某列有nan就删除该列"
   ],
   "metadata": {
    "collapsed": false,
    "pycharm": {
     "name": "#%%\n"
    },
    "ExecuteTime": {
     "end_time": "2025-01-07T13:21:06.022315Z",
     "start_time": "2025-01-07T13:21:06.015818Z"
    }
   },
   "outputs": [
    {
     "name": "stdout",
     "output_type": "stream",
     "text": [
      "          1\n",
      "0 -0.651774\n",
      "1  2.000000\n",
      "2  4.000000\n",
      "3  2.000000\n"
     ]
    }
   ],
   "execution_count": 26
  },
  {
   "cell_type": "code",
   "source": [
    "df_data"
   ],
   "metadata": {
    "collapsed": false,
    "ExecuteTime": {
     "end_time": "2025-01-07T13:21:11.830716Z",
     "start_time": "2025-01-07T13:21:11.817709Z"
    }
   },
   "outputs": [
    {
     "data": {
      "text/plain": [
       "          0         1       2\n",
       "0 -0.696842 -0.651774 -0.7424\n",
       "1  1.000000  2.000000     NaN\n",
       "2       NaN  4.000000     NaN\n",
       "3  1.000000  2.000000  3.0000"
      ],
      "text/html": [
       "<div>\n",
       "<style scoped>\n",
       "    .dataframe tbody tr th:only-of-type {\n",
       "        vertical-align: middle;\n",
       "    }\n",
       "\n",
       "    .dataframe tbody tr th {\n",
       "        vertical-align: top;\n",
       "    }\n",
       "\n",
       "    .dataframe thead th {\n",
       "        text-align: right;\n",
       "    }\n",
       "</style>\n",
       "<table border=\"1\" class=\"dataframe\">\n",
       "  <thead>\n",
       "    <tr style=\"text-align: right;\">\n",
       "      <th></th>\n",
       "      <th>0</th>\n",
       "      <th>1</th>\n",
       "      <th>2</th>\n",
       "    </tr>\n",
       "  </thead>\n",
       "  <tbody>\n",
       "    <tr>\n",
       "      <th>0</th>\n",
       "      <td>-0.696842</td>\n",
       "      <td>-0.651774</td>\n",
       "      <td>-0.7424</td>\n",
       "    </tr>\n",
       "    <tr>\n",
       "      <th>1</th>\n",
       "      <td>1.000000</td>\n",
       "      <td>2.000000</td>\n",
       "      <td>NaN</td>\n",
       "    </tr>\n",
       "    <tr>\n",
       "      <th>2</th>\n",
       "      <td>NaN</td>\n",
       "      <td>4.000000</td>\n",
       "      <td>NaN</td>\n",
       "    </tr>\n",
       "    <tr>\n",
       "      <th>3</th>\n",
       "      <td>1.000000</td>\n",
       "      <td>2.000000</td>\n",
       "      <td>3.0000</td>\n",
       "    </tr>\n",
       "  </tbody>\n",
       "</table>\n",
       "</div>"
      ]
     },
     "execution_count": 27,
     "metadata": {},
     "output_type": "execute_result"
    }
   ],
   "execution_count": 27
  },
  {
   "cell_type": "markdown",
   "source": [
    "## 填充缺失数据"
   ],
   "metadata": {
    "collapsed": false
   }
  },
  {
   "metadata": {},
   "cell_type": "code",
   "outputs": [],
   "execution_count": null,
   "source": "# 均值，中位数，众数填充"
  },
  {
   "cell_type": "code",
   "source": [
    "# 给零列的空值填为-100，按特征（按列）去填充\n",
    "print(df_data.iloc[:, 0].fillna(-100.))\n",
    "df_data"
   ],
   "metadata": {
    "collapsed": false,
    "pycharm": {
     "name": "#%%\n"
    },
    "ExecuteTime": {
     "end_time": "2025-01-07T13:21:22.988775Z",
     "start_time": "2025-01-07T13:21:22.978068Z"
    }
   },
   "outputs": [
    {
     "name": "stdout",
     "output_type": "stream",
     "text": [
      "0     -0.696842\n",
      "1      1.000000\n",
      "2   -100.000000\n",
      "3      1.000000\n",
      "Name: 0, dtype: float64\n"
     ]
    },
    {
     "data": {
      "text/plain": [
       "          0         1       2\n",
       "0 -0.696842 -0.651774 -0.7424\n",
       "1  1.000000  2.000000     NaN\n",
       "2       NaN  4.000000     NaN\n",
       "3  1.000000  2.000000  3.0000"
      ],
      "text/html": [
       "<div>\n",
       "<style scoped>\n",
       "    .dataframe tbody tr th:only-of-type {\n",
       "        vertical-align: middle;\n",
       "    }\n",
       "\n",
       "    .dataframe tbody tr th {\n",
       "        vertical-align: top;\n",
       "    }\n",
       "\n",
       "    .dataframe thead th {\n",
       "        text-align: right;\n",
       "    }\n",
       "</style>\n",
       "<table border=\"1\" class=\"dataframe\">\n",
       "  <thead>\n",
       "    <tr style=\"text-align: right;\">\n",
       "      <th></th>\n",
       "      <th>0</th>\n",
       "      <th>1</th>\n",
       "      <th>2</th>\n",
       "    </tr>\n",
       "  </thead>\n",
       "  <tbody>\n",
       "    <tr>\n",
       "      <th>0</th>\n",
       "      <td>-0.696842</td>\n",
       "      <td>-0.651774</td>\n",
       "      <td>-0.7424</td>\n",
       "    </tr>\n",
       "    <tr>\n",
       "      <th>1</th>\n",
       "      <td>1.000000</td>\n",
       "      <td>2.000000</td>\n",
       "      <td>NaN</td>\n",
       "    </tr>\n",
       "    <tr>\n",
       "      <th>2</th>\n",
       "      <td>NaN</td>\n",
       "      <td>4.000000</td>\n",
       "      <td>NaN</td>\n",
       "    </tr>\n",
       "    <tr>\n",
       "      <th>3</th>\n",
       "      <td>1.000000</td>\n",
       "      <td>2.000000</td>\n",
       "      <td>3.0000</td>\n",
       "    </tr>\n",
       "  </tbody>\n",
       "</table>\n",
       "</div>"
      ]
     },
     "execution_count": 28,
     "metadata": {},
     "output_type": "execute_result"
    }
   ],
   "execution_count": 28
  },
  {
   "cell_type": "code",
   "source": [
    "# 依次拿到每一列\n",
    "for i in df_data.columns:\n",
    "    print(df_data.loc[:, i])"
   ],
   "metadata": {
    "collapsed": false,
    "pycharm": {
     "name": "#%%\n"
    },
    "ExecuteTime": {
     "end_time": "2025-01-07T13:22:02.663049Z",
     "start_time": "2025-01-07T13:22:02.645064Z"
    }
   },
   "outputs": [
    {
     "name": "stdout",
     "output_type": "stream",
     "text": [
      "0   -0.696842\n",
      "1    1.000000\n",
      "2         NaN\n",
      "3    1.000000\n",
      "Name: 0, dtype: float64\n",
      "0   -0.651774\n",
      "1    2.000000\n",
      "2    4.000000\n",
      "3    2.000000\n",
      "Name: 1, dtype: float64\n",
      "0   -0.7424\n",
      "1       NaN\n",
      "2       NaN\n",
      "3    3.0000\n",
      "Name: 2, dtype: float64\n"
     ]
    }
   ],
   "execution_count": 29
  },
  {
   "cell_type": "markdown",
   "source": [],
   "metadata": {
    "collapsed": false
   }
  },
  {
   "metadata": {
    "ExecuteTime": {
     "end_time": "2025-01-07T13:24:31.117188Z",
     "start_time": "2025-01-07T13:24:31.112997Z"
    }
   },
   "cell_type": "code",
   "source": "df_data.iloc[:, 0].fillna(-100., inplace=True)  # inplace=True后面会被删除",
   "outputs": [
    {
     "name": "stderr",
     "output_type": "stream",
     "text": [
      "C:\\Users\\q1209\\AppData\\Local\\Temp\\ipykernel_15044\\4294691993.py:1: FutureWarning: A value is trying to be set on a copy of a DataFrame or Series through chained assignment using an inplace method.\n",
      "The behavior will change in pandas 3.0. This inplace method will never work because the intermediate object on which we are setting values always behaves as a copy.\n",
      "\n",
      "For example, when doing 'df[col].method(value, inplace=True)', try using 'df.method({col: value}, inplace=True)' or df[col] = df[col].method(value) instead, to perform the operation inplace on the original object.\n",
      "\n",
      "\n",
      "  df_data.iloc[:, 0].fillna(-100., inplace=True)  # inplace=True后面会被删除\n"
     ]
    }
   ],
   "execution_count": 34
  },
  {
   "metadata": {
    "ExecuteTime": {
     "end_time": "2025-01-07T13:24:32.970416Z",
     "start_time": "2025-01-07T13:24:32.967139Z"
    }
   },
   "cell_type": "code",
   "source": "df_data.iloc[:, 2] = df_data.iloc[:, 2].fillna(df_data.iloc[:, 2].mean())  #用均值填充空值",
   "outputs": [],
   "execution_count": 35
  },
  {
   "metadata": {
    "ExecuteTime": {
     "end_time": "2025-01-07T13:24:34.486428Z",
     "start_time": "2025-01-07T13:24:34.481964Z"
    }
   },
   "cell_type": "code",
   "source": "df_data",
   "outputs": [
    {
     "data": {
      "text/plain": [
       "            0         1       2\n",
       "0   -0.696842 -0.651774 -0.7424\n",
       "1    1.000000  2.000000  1.1288\n",
       "2 -100.000000  4.000000  1.1288\n",
       "3    1.000000  2.000000  3.0000"
      ],
      "text/html": [
       "<div>\n",
       "<style scoped>\n",
       "    .dataframe tbody tr th:only-of-type {\n",
       "        vertical-align: middle;\n",
       "    }\n",
       "\n",
       "    .dataframe tbody tr th {\n",
       "        vertical-align: top;\n",
       "    }\n",
       "\n",
       "    .dataframe thead th {\n",
       "        text-align: right;\n",
       "    }\n",
       "</style>\n",
       "<table border=\"1\" class=\"dataframe\">\n",
       "  <thead>\n",
       "    <tr style=\"text-align: right;\">\n",
       "      <th></th>\n",
       "      <th>0</th>\n",
       "      <th>1</th>\n",
       "      <th>2</th>\n",
       "    </tr>\n",
       "  </thead>\n",
       "  <tbody>\n",
       "    <tr>\n",
       "      <th>0</th>\n",
       "      <td>-0.696842</td>\n",
       "      <td>-0.651774</td>\n",
       "      <td>-0.7424</td>\n",
       "    </tr>\n",
       "    <tr>\n",
       "      <th>1</th>\n",
       "      <td>1.000000</td>\n",
       "      <td>2.000000</td>\n",
       "      <td>1.1288</td>\n",
       "    </tr>\n",
       "    <tr>\n",
       "      <th>2</th>\n",
       "      <td>-100.000000</td>\n",
       "      <td>4.000000</td>\n",
       "      <td>1.1288</td>\n",
       "    </tr>\n",
       "    <tr>\n",
       "      <th>3</th>\n",
       "      <td>1.000000</td>\n",
       "      <td>2.000000</td>\n",
       "      <td>3.0000</td>\n",
       "    </tr>\n",
       "  </tbody>\n",
       "</table>\n",
       "</div>"
      ]
     },
     "execution_count": 36,
     "metadata": {},
     "output_type": "execute_result"
    }
   ],
   "execution_count": 36
  }
 ],
 "metadata": {
  "kernelspec": {
   "display_name": "Python 3",
   "language": "python",
   "name": "python3"
  },
  "language_info": {
   "codemirror_mode": {
    "name": "ipython",
    "version": 2
   },
   "file_extension": ".py",
   "mimetype": "text/x-python",
   "name": "python",
   "nbconvert_exporter": "python",
   "pygments_lexer": "ipython2",
   "version": "2.7.6"
  }
 },
 "nbformat": 4,
 "nbformat_minor": 0
}
