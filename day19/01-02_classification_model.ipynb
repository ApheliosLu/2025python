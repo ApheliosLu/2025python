{
 "cells": [
  {
   "cell_type": "markdown",
   "metadata": {},
   "source": [
    "对应 `tf.keras` 的01~02章节"
   ]
  },
  {
   "cell_type": "code",
   "metadata": {
    "ExecuteTime": {
     "end_time": "2025-01-15T11:49:14.388682Z",
     "start_time": "2025-01-15T11:49:12.238738Z"
    }
   },
   "source": [
    "import matplotlib as mpl\n",
    "import matplotlib.pyplot as plt\n",
    "%matplotlib inline      # IPython 魔法命令，用于在 Jupyter Notebook 中显示图形\n",
    "import numpy as np\n",
    "import sklearn\n",
    "import pandas as pd\n",
    "import os\n",
    "import sys\n",
    "import time\n",
    "from tqdm.auto import tqdm      # 与QT相关的模块，下方展示的进度条\n",
    "import torch\n",
    "import torch.nn as nn\n",
    "import torch.nn.functional as F\n",
    "\n",
    "print(sys.version_info) # Python解释器信息\n",
    "\n",
    "for module in mpl, np, pd, sklearn, torch:\n",
    "    print(module.__name__, module.__version__)\n",
    "    \n",
    "device = torch.device(\"cuda:0\") if torch.cuda.is_available() else torch.device(\"cpu\")   # cuda是否可用\n",
    "print(device)\n"
   ],
   "outputs": [
    {
     "name": "stdout",
     "output_type": "stream",
     "text": [
      "sys.version_info(major=3, minor=12, micro=3, releaselevel='final', serial=0)\n",
      "matplotlib 3.10.0\n",
      "numpy 1.26.4\n",
      "pandas 2.2.3\n",
      "sklearn 1.6.0\n",
      "torch 2.5.1+cu124\n",
      "cuda:0\n"
     ]
    }
   ],
   "execution_count": 2
  },
  {
   "cell_type": "code",
   "source": [
    "28*28"
   ],
   "metadata": {
    "collapsed": false,
    "ExecuteTime": {
     "end_time": "2025-01-15T11:54:03.955661Z",
     "start_time": "2025-01-15T11:54:03.949696Z"
    }
   },
   "outputs": [
    {
     "data": {
      "text/plain": [
       "784"
      ]
     },
     "execution_count": 3,
     "metadata": {},
     "output_type": "execute_result"
    }
   ],
   "execution_count": 3
  },
  {
   "cell_type": "markdown",
   "metadata": {},
   "source": "## 数据准备1，为了看灰度图片"
  },
  {
   "cell_type": "code",
   "metadata": {
    "ExecuteTime": {
     "end_time": "2025-01-15T12:02:00.221467Z",
     "start_time": "2025-01-15T12:01:59.141236Z"
    }
   },
   "source": [
    "from torchvision import datasets\n",
    "from torchvision.transforms import ToTensor\n",
    "from torchvision import transforms\n",
    "\n",
    "\n",
    "# 定义数据集的变换\n",
    "transform = transforms.Compose([\n",
    "])\n",
    "# fashion_mnist图像分类数据集，衣服分类，60000张训练图片，10000张测试图片\n",
    "train_ds = datasets.FashionMNIST(\n",
    "    root=\"data\",\n",
    "    train=True,\n",
    "    download=True,\n",
    "    transform=transform\n",
    ")\n",
    "\n",
    "test_ds = datasets.FashionMNIST(\n",
    "    root=\"data\",\n",
    "    train=False,\n",
    "    download=True,\n",
    "    transform=transform\n",
    ")\n",
    "\n",
    "# torchvision 数据集里没有提供训练集和验证集的划分\n",
    "# 当然也可以用 torch.utils.data.Dataset 实现人为划分"
   ],
   "outputs": [],
   "execution_count": 5
  },
  {
   "cell_type": "code",
   "source": [
    "type(train_ds)"
   ],
   "metadata": {
    "collapsed": false,
    "ExecuteTime": {
     "end_time": "2025-01-15T12:02:01.726205Z",
     "start_time": "2025-01-15T12:02:01.723242Z"
    }
   },
   "outputs": [
    {
     "data": {
      "text/plain": [
       "torchvision.datasets.mnist.FashionMNIST"
      ]
     },
     "execution_count": 6,
     "metadata": {},
     "output_type": "execute_result"
    }
   ],
   "execution_count": 6
  },
  {
   "cell_type": "code",
   "source": [
    "len(train_ds)"
   ],
   "metadata": {
    "collapsed": false,
    "ExecuteTime": {
     "end_time": "2025-01-15T12:02:07.415616Z",
     "start_time": "2025-01-15T12:02:07.412474Z"
    }
   },
   "outputs": [
    {
     "data": {
      "text/plain": [
       "60000"
      ]
     },
     "execution_count": 7,
     "metadata": {},
     "output_type": "execute_result"
    }
   ],
   "execution_count": 7
  },
  {
   "cell_type": "code",
   "source": [
    "type(train_ds[0])"
   ],
   "metadata": {
    "collapsed": false,
    "ExecuteTime": {
     "end_time": "2025-01-15T12:02:13.663456Z",
     "start_time": "2025-01-15T12:02:13.654618Z"
    }
   },
   "outputs": [
    {
     "data": {
      "text/plain": [
       "tuple"
      ]
     },
     "execution_count": 8,
     "metadata": {},
     "output_type": "execute_result"
    }
   ],
   "execution_count": 8
  },
  {
   "cell_type": "code",
   "metadata": {
    "ExecuteTime": {
     "end_time": "2025-01-15T12:02:52.955258Z",
     "start_time": "2025-01-15T12:02:52.952651Z"
    }
   },
   "source": [
    "# 通过id取数据，取到的是一个元祖,是第一个样本,在训练时，把特征和标签分开\n",
    "img, label = train_ds[0]"
   ],
   "outputs": [],
   "execution_count": 9
  },
  {
   "metadata": {
    "ExecuteTime": {
     "end_time": "2025-01-15T12:03:06.599171Z",
     "start_time": "2025-01-15T12:03:06.595195Z"
    }
   },
   "cell_type": "code",
   "source": "type(img) #tensor中文是 张量,和numpy的ndarray类似",
   "outputs": [
    {
     "data": {
      "text/plain": [
       "PIL.Image.Image"
      ]
     },
     "execution_count": 10,
     "metadata": {},
     "output_type": "execute_result"
    }
   ],
   "execution_count": 10
  },
  {
   "metadata": {
    "ExecuteTime": {
     "end_time": "2025-01-15T12:03:11.484958Z",
     "start_time": "2025-01-15T12:03:11.474483Z"
    }
   },
   "cell_type": "code",
   "source": "img",
   "outputs": [
    {
     "data": {
      "text/plain": [
       "<PIL.Image.Image image mode=L size=28x28>"
      ],
      "image/png": "[encoded data removed]",
      "image/jpeg": "[encoded data removed]"
     },
     "execution_count": 11,
     "metadata": {},
     "output_type": "execute_result"
    }
   ],
   "execution_count": 11
  },
  {
   "cell_type": "code",
   "source": [
    "type(img)"
   ],
   "metadata": {
    "collapsed": false,
    "ExecuteTime": {
     "end_time": "2025-01-15T12:03:13.468166Z",
     "start_time": "2025-01-15T12:03:13.465116Z"
    }
   },
   "outputs": [
    {
     "data": {
      "text/plain": [
       "PIL.Image.Image"
      ]
     },
     "execution_count": 12,
     "metadata": {},
     "output_type": "execute_result"
    }
   ],
   "execution_count": 12
  },
  {
   "cell_type": "code",
   "source": [
    "label"
   ],
   "metadata": {
    "collapsed": false,
    "ExecuteTime": {
     "end_time": "2025-01-15T12:03:17.156187Z",
     "start_time": "2025-01-15T12:03:17.152983Z"
    }
   },
   "outputs": [
    {
     "data": {
      "text/plain": [
       "9"
      ]
     },
     "execution_count": 13,
     "metadata": {},
     "output_type": "execute_result"
    }
   ],
   "execution_count": 13
  },
  {
   "cell_type": "code",
   "source": [
    "# 显示图片，这里需要把transforms.ToTensor(),进行归一化注释掉，否则是不行的\n",
    "def show_img_content(img):\n",
    "    from PIL import Image\n",
    "\n",
    "    # 打开一个图像文件\n",
    "    # img = Image.open(img)\n",
    "\n",
    "\n",
    "    print(\"图像大小:\", img.size)\n",
    "    print(\"图像模式:\", img.mode)\n",
    "\n",
    "\n",
    "    # 如果图像是单通道的，比如灰度图，你可以这样获取像素值列表：\n",
    "    if img.mode == 'L':\n",
    "        pixel_values = list(img.getdata())\n",
    "        print(pixel_values)\n",
    "show_img_content(img) #这里必须把上面的 transforms.ToTensor(), # 转换为tensor，进行归一化注释掉，否则是不行的"
   ],
   "metadata": {
    "collapsed": false,
    "ExecuteTime": {
     "end_time": "2025-01-15T12:03:55.144523Z",
     "start_time": "2025-01-15T12:03:55.141550Z"
    }
   },
   "outputs": [
    {
     "name": "stdout",
     "output_type": "stream",
     "text": [
      "图像大小: (28, 28)\n",
      "图像模式: L\n",
      "[0, 0, 0, 0, 0, 0, 0, 0, 0, 0, 0, 0, 0, 0, 0, 0, 0, 0, 0, 0, 0, 0, 0, 0, 0, 0, 0, 0, 0, 0, 0, 0, 0, 0, 0, 0, 0, 0, 0, 0, 0, 0, 0, 0, 0, 0, 0, 0, 0, 0, 0, 0, 0, 0, 0, 0, 0, 0, 0, 0, 0, 0, 0, 0, 0, 0, 0, 0, 0, 0, 0, 0, 0, 0, 0, 0, 0, 0, 0, 0, 0, 0, 0, 0, 0, 0, 0, 0, 0, 0, 0, 0, 0, 0, 0, 0, 1, 0, 0, 13, 73, 0, 0, 1, 4, 0, 0, 0, 0, 1, 1, 0, 0, 0, 0, 0, 0, 0, 0, 0, 0, 0, 0, 0, 3, 0, 36, 136, 127, 62, 54, 0, 0, 0, 1, 3, 4, 0, 0, 3, 0, 0, 0, 0, 0, 0, 0, 0, 0, 0, 0, 0, 6, 0, 102, 204, 176, 134, 144, 123, 23, 0, 0, 0, 0, 12, 10, 0, 0, 0, 0, 0, 0, 0, 0, 0, 0, 0, 0, 0, 0, 0, 155, 236, 207, 178, 107, 156, 161, 109, 64, 23, 77, 130, 72, 15, 0, 0, 0, 0, 0, 0, 0, 0, 0, 0, 0, 1, 0, 69, 207, 223, 218, 216, 216, 163, 127, 121, 122, 146, 141, 88, 172, 66, 0, 0, 0, 0, 0, 0, 0, 0, 0, 1, 1, 1, 0, 200, 232, 232, 233, 229, 223, 223, 215, 213, 164, 127, 123, 196, 229, 0, 0, 0, 0, 0, 0, 0, 0, 0, 0, 0, 0, 0, 0, 183, 225, 216, 223, 228, 235, 227, 224, 222, 224, 221, 223, 245, 173, 0, 0, 0, 0, 0, 0, 0, 0, 0, 0, 0, 0, 0, 0, 193, 228, 218, 213, 198, 180, 212, 210, 211, 213, 223, 220, 243, 202, 0, 0, 0, 0, 0, 0, 0, 0, 0, 0, 1, 3, 0, 12, 219, 220, 212, 218, 192, 169, 227, 208, 218, 224, 212, 226, 197, 209, 52, 0, 0, 0, 0, 0, 0, 0, 0, 0, 0, 6, 0, 99, 244, 222, 220, 218, 203, 198, 221, 215, 213, 222, 220, 245, 119, 167, 56, 0, 0, 0, 0, 0, 0, 0, 0, 0, 4, 0, 0, 55, 236, 228, 230, 228, 240, 232, 213, 218, 223, 234, 217, 217, 209, 92, 0, 0, 0, 1, 4, 6, 7, 2, 0, 0, 0, 0, 0, 237, 226, 217, 223, 222, 219, 222, 221, 216, 223, 229, 215, 218, 255, 77, 0, 0, 3, 0, 0, 0, 0, 0, 0, 0, 62, 145, 204, 228, 207, 213, 221, 218, 208, 211, 218, 224, 223, 219, 215, 224, 244, 159, 0, 0, 0, 0, 0, 18, 44, 82, 107, 189, 228, 220, 222, 217, 226, 200, 205, 211, 230, 224, 234, 176, 188, 250, 248, 233, 238, 215, 0, 0, 57, 187, 208, 224, 221, 224, 208, 204, 214, 208, 209, 200, 159, 245, 193, 206, 223, 255, 255, 221, 234, 221, 211, 220, 232, 246, 0, 3, 202, 228, 224, 221, 211, 211, 214, 205, 205, 205, 220, 240, 80, 150, 255, 229, 221, 188, 154, 191, 210, 204, 209, 222, 228, 225, 0, 98, 233, 198, 210, 222, 229, 229, 234, 249, 220, 194, 215, 217, 241, 65, 73, 106, 117, 168, 219, 221, 215, 217, 223, 223, 224, 229, 29, 75, 204, 212, 204, 193, 205, 211, 225, 216, 185, 197, 206, 198, 213, 240, 195, 227, 245, 239, 223, 218, 212, 209, 222, 220, 221, 230, 67, 48, 203, 183, 194, 213, 197, 185, 190, 194, 192, 202, 214, 219, 221, 220, 236, 225, 216, 199, 206, 186, 181, 177, 172, 181, 205, 206, 115, 0, 122, 219, 193, 179, 171, 183, 196, 204, 210, 213, 207, 211, 210, 200, 196, 194, 191, 195, 191, 198, 192, 176, 156, 167, 177, 210, 92, 0, 0, 74, 189, 212, 191, 175, 172, 175, 181, 185, 188, 189, 188, 193, 198, 204, 209, 210, 210, 211, 188, 188, 194, 192, 216, 170, 0, 2, 0, 0, 0, 66, 200, 222, 237, 239, 242, 246, 243, 244, 221, 220, 193, 191, 179, 182, 182, 181, 176, 166, 168, 99, 58, 0, 0, 0, 0, 0, 0, 0, 0, 0, 40, 61, 44, 72, 41, 35, 0, 0, 0, 0, 0, 0, 0, 0, 0, 0, 0, 0, 0, 0, 0, 0, 0, 0, 0, 0, 0, 0, 0, 0, 0, 0, 0, 0, 0, 0, 0, 0, 0, 0, 0, 0, 0, 0, 0, 0, 0, 0, 0, 0, 0, 0, 0, 0, 0, 0, 0, 0, 0, 0, 0, 0, 0, 0, 0, 0, 0, 0, 0, 0, 0, 0, 0, 0, 0, 0, 0]\n"
     ]
    }
   ],
   "execution_count": 14
  },
  {
   "cell_type": "code",
   "source": [
    "#这个代码必须是注释了上面的 transforms.ToTensor()才能够运行的\n",
    "def show_single_image(img_arr):\n",
    "    plt.imshow(img_arr, cmap=\"binary\") # 显示图片 cmap=\"binary\"用二进制的颜色映射方式显示图像\n",
    "    plt.colorbar() # 显示颜色条\n",
    "    plt.show()\n",
    "\n",
    "\n",
    "show_single_image(img)"
   ],
   "metadata": {
    "collapsed": false,
    "ExecuteTime": {
     "end_time": "2025-01-15T12:06:18.217070Z",
     "start_time": "2025-01-15T12:06:18.147572Z"
    }
   },
   "outputs": [
    {
     "data": {
      "text/plain": [
       "<Figure size 640x480 with 2 Axes>"
      ],
      "image/png": "[encoded data removed]"
     },
     "metadata": {},
     "output_type": "display_data"
    }
   ],
   "execution_count": 15
  },
  {
   "metadata": {},
   "cell_type": "markdown",
   "source": "# 数据准备2，为训练做准备"
  },
  {
   "metadata": {
    "ExecuteTime": {
     "end_time": "2025-01-15T12:08:49.458363Z",
     "start_time": "2025-01-15T12:08:49.407571Z"
    }
   },
   "cell_type": "code",
   "source": [
    "from torchvision import datasets\n",
    "from torchvision.transforms import ToTensor\n",
    "from torchvision import transforms\n",
    "\n",
    "\n",
    "# 定义数据集的变换\n",
    "transform = transforms.Compose([\n",
    "    transforms.ToTensor(), # 转换为tensor，进行归一化\n",
    "    # transforms.Normalize(mean, std) # 标准化，mean和std是数据集的均值和方差\n",
    "])\n",
    "# fashion_mnist图像分类数据集，衣服分类，60000张训练图片，10000张测试图片\n",
    "train_ds = datasets.FashionMNIST(\n",
    "    root=\"data\",\n",
    "    train=True,\n",
    "    download=True,\n",
    "    transform=transform\n",
    ")\n",
    "\n",
    "test_ds = datasets.FashionMNIST(\n",
    "    root=\"data\",\n",
    "    train=False,\n",
    "    download=True,\n",
    "    transform=transform\n",
    ")\n",
    "\n",
    "# torchvision 数据集里没有提供训练集和验证集的划分\n",
    "# 当然也可以用 torch.utils.data.Dataset 实现人为划分"
   ],
   "outputs": [],
   "execution_count": 16
  },
  {
   "metadata": {
    "ExecuteTime": {
     "end_time": "2025-01-15T12:10:21.976277Z",
     "start_time": "2025-01-15T12:10:21.953125Z"
    }
   },
   "cell_type": "code",
   "source": [
    "img, label = train_ds[0]\n",
    "img.shape  #img这时是一个tensor，shape=(1, 28, 28)"
   ],
   "outputs": [
    {
     "data": {
      "text/plain": [
       "torch.Size([1, 28, 28])"
      ]
     },
     "execution_count": 17,
     "metadata": {},
     "output_type": "execute_result"
    }
   ],
   "execution_count": 17
  },
  {
   "metadata": {
    "ExecuteTime": {
     "end_time": "2025-01-15T12:12:39.016831Z",
     "start_time": "2025-01-15T12:12:36.519447Z"
    }
   },
   "cell_type": "code",
   "source": [
    "#计算均值和方差\n",
    "def cal_mean_std(ds):\n",
    "    mean = 0.\n",
    "    std = 0.\n",
    "    for img, _ in ds:  # 遍历每张图片,img.shape=[1,28,28]     # _即是label\n",
    "        mean += img.mean(dim=(1, 2))  # 计算每张图片的均值，dim=(1, 2)表示计算每张图片的每一个像素的均值,行列共同求均值\n",
    "        std += img.std(dim=(1, 2))\n",
    "    mean /= len(ds)\n",
    "    std /= len(ds)\n",
    "    return mean, std\n",
    "\n",
    "\n",
    "print(cal_mean_std(train_ds))\n"
   ],
   "outputs": [
    {
     "name": "stdout",
     "output_type": "stream",
     "text": [
      "(tensor([0.2860]), tensor([0.3205]))\n"
     ]
    }
   ],
   "execution_count": 18
  },
  {
   "cell_type": "code",
   "metadata": {
    "ExecuteTime": {
     "end_time": "2025-01-15T12:14:18.302520Z",
     "start_time": "2025-01-15T12:14:18.114077Z"
    }
   },
   "source": [
    "def show_imgs(n_rows, n_cols, train_ds, class_names):\n",
    "    assert n_rows * n_cols < len(train_ds)  #确保打印的图片小于总样本数\n",
    "    plt.figure(figsize = (n_cols * 1.4, n_rows * 1.6))  #宽1.4高1.6，宽，高\n",
    "    for row in range(n_rows):\n",
    "        for col in range(n_cols):\n",
    "            index = n_cols * row + col  # 计算索引，从0开始\n",
    "            plt.subplot(n_rows, n_cols, index+1)#因为从1开始\n",
    "            img_arr, label = train_ds[index]\n",
    "            img_arr = np.transpose(img_arr, (1, 2, 0))  # 通道换到最后一维\n",
    "            plt.imshow(img_arr, cmap=\"binary\",\n",
    "                       interpolation = 'nearest')#interpolation='nearest'是临近插值\n",
    "            plt.axis('off')#去除坐标系\n",
    "            plt.title(class_names[label]) # 显示类别名称\n",
    "    plt.show()\n",
    "    \n",
    "    \n",
    "\n",
    "#已知的图片类别\n",
    "# lables在这个路径https://github.com/zalandoresearch/fashion-mnist\n",
    "class_names = ['T-shirt', 'Trouser', 'Pullover', 'Dress',\n",
    "               'Coat', 'Sandal', 'Shirt', 'Sneaker',\n",
    "               'Bag', 'Ankle boot'] #0-9分别代表的类别\n",
    "#只是打印了前15个样本\n",
    "show_imgs(3, 5, train_ds, class_names)\n"
   ],
   "outputs": [
    {
     "data": {
      "text/plain": [
       "<Figure size 700x480 with 15 Axes>"
      ],
      "image/png": "[encoded data removed]"
     },
     "metadata": {},
     "output_type": "display_data"
    }
   ],
   "execution_count": 19
  },
  {
   "cell_type": "code",
   "metadata": {
    "ExecuteTime": {
     "end_time": "2025-01-15T12:18:44.659406Z",
     "start_time": "2025-01-15T12:18:44.638403Z"
    }
   },
   "source": [
    "# 从数据集到dataloader\n",
    "train_loader = torch.utils.data.DataLoader(train_ds, batch_size=32, shuffle=True) #batch_size分批，shuffle洗牌\n",
    "val_loader = torch.utils.data.DataLoader(test_ds, batch_size=32, shuffle=False)"
   ],
   "outputs": [],
   "execution_count": 20
  },
  {
   "cell_type": "markdown",
   "source": [
    "在PyTorch中，`DataLoader`是一个迭代器，它封装了数据的加载和预处理过程，使得在训练机器学习模型时可以方便地批量加载数据。`DataLoader`主要负责以下几个方面：\n",
    "\n",
    "1. **批量加载数据**：`DataLoader`可以将数据集（Dataset）切分为更小的批次（batch），每次迭代提供一小批量数据，而不是单个数据点。这有助于模型学习数据中的统计依赖性，并且可以更高效地利用GPU等硬件的并行计算能力。\n",
    "\n",
    "2. **数据打乱**：默认情况下，`DataLoader`会在每个epoch（训练周期）开始时打乱数据的顺序。这有助于模型训练时避免陷入局部最优解，并且可以提高模型的泛化能力。\n",
    "\n",
    "3. **多线程数据加载**：`DataLoader`支持多线程（通过参数`num_workers`）来并行地加载数据，这可以显著减少训练过程中的等待时间，尤其是在处理大规模数据集时。\n",
    "\n",
    "4. **数据预处理**：`DataLoader`可以与`transforms`结合使用，对加载的数据进行预处理，如归一化、标准化、数据增强等操作。\n",
    "\n",
    "5. **内存管理**：`DataLoader`负责管理数据的内存使用，确保在训练过程中不会耗尽内存资源。\n",
    "\n",
    "6. **易用性**：`DataLoader`提供了一个简单的接口，可以很容易地集成到训练循环中。\n",
    "\n"
   ],
   "metadata": {
    "collapsed": false
   }
  },
  {
   "metadata": {
    "ExecuteTime": {
     "end_time": "2025-01-15T12:20:25.321416Z",
     "start_time": "2025-01-15T12:20:25.297357Z"
    }
   },
   "cell_type": "code",
   "source": [
    "for datas, labels in train_loader:\n",
    "    print(datas.shape)      # 1代表单通道图片\n",
    "    print(labels.shape)\n",
    "    break\n",
    "#查看val_loader\n",
    "for datas, labels in val_loader:\n",
    "    print(datas.shape)\n",
    "    print(labels.shape)\n",
    "    break"
   ],
   "outputs": [
    {
     "name": "stdout",
     "output_type": "stream",
     "text": [
      "torch.Size([32, 1, 28, 28])\n",
      "torch.Size([32])\n",
      "torch.Size([32, 1, 28, 28])\n",
      "torch.Size([32])\n"
     ]
    }
   ],
   "execution_count": 21
  },
  {
   "cell_type": "markdown",
   "metadata": {},
   "source": [
    "## 定义模型"
   ]
  },
  {
   "cell_type": "code",
   "metadata": {
    "ExecuteTime": {
     "end_time": "2025-01-15T12:35:07.905962Z",
     "start_time": "2025-01-15T12:35:07.889687Z"
    }
   },
   "source": [
    "class NeuralNetwork(nn.Module):\n",
    "    def __init__(self):\n",
    "        super().__init__() # 继承父类的初始化方法，子类有父类的属性\n",
    "        self.flatten = nn.Flatten()  # 展平层\n",
    "        self.linear_relu_stack = nn.Sequential(\n",
    "            nn.Linear(784, 300),  # in_features=784, out_features=300, 784是输入特征数，300是输出特征数  全连接层\n",
    "            nn.ReLU(), # 激活函数\n",
    "            nn.Linear(300, 100),#隐藏层神经元数100\n",
    "            nn.ReLU(), # 激活函数\n",
    "            nn.Linear(100, 10),#输出层神经元数10 \n",
    "        )\n",
    "\n",
    "    def forward(self, x): # 前向计算，前向传播\n",
    "        # x.shape [batch size, 1, 28, 28],1是通道数\n",
    "        \n",
    "        x = self.flatten(x)  \n",
    "        # print(f'x.shape--{x.shape}')\n",
    "        # 展平后 x.shape [batch size, 784]\n",
    "        \n",
    "        logits = self.linear_relu_stack(x)\n",
    "        # logits.shape [batch size, 10]\n",
    "        return logits #没有经过softmax,称为logits\n",
    "        #logits 通常指的是经过模型（例如全连接层）处理后得到的原始输出值。这些输出值表示每个类别的 \"得分\" 或 \"激活值\"，但它们并没有经过 softmax 函数进行归一化。这些输出通常用于后续的计算，比如计算损失函数（例如交叉熵损失函数）\n",
    "    \n",
    "model = NeuralNetwork()"
   ],
   "outputs": [],
   "execution_count": 23
  },
  {
   "cell_type": "code",
   "metadata": {
    "ExecuteTime": {
     "end_time": "2025-01-15T12:35:09.271929Z",
     "start_time": "2025-01-15T12:35:09.265083Z"
    }
   },
   "source": [
    "# 看看网络结构\n",
    "model"
   ],
   "outputs": [
    {
     "data": {
      "text/plain": [
       "NeuralNetwork(\n",
       "  (flatten): Flatten(start_dim=1, end_dim=-1)\n",
       "  (linear_relu_stack): Sequential(\n",
       "    (0): Linear(in_features=784, out_features=300, bias=True)\n",
       "    (1): ReLU()\n",
       "    (2): Linear(in_features=300, out_features=100, bias=True)\n",
       "    (3): ReLU()\n",
       "    (4): Linear(in_features=100, out_features=10, bias=True)\n",
       "  )\n",
       ")"
      ]
     },
     "execution_count": 24,
     "metadata": {},
     "output_type": "execute_result"
    }
   ],
   "execution_count": 24
  },
  {
   "metadata": {
    "ExecuteTime": {
     "end_time": "2025-01-15T12:41:02.429272Z",
     "start_time": "2025-01-15T12:41:02.392256Z"
    }
   },
   "cell_type": "code",
   "source": [
    "#为了查看模型运算的tensor尺寸\n",
    "x = torch.randn(32, 1, 28, 28)  # 创建一个正态分布的随机张量     32：表示 批量大小（batch size）\n",
    "print(x.shape)\n",
    "logits = model(x)\n",
    "print(logits.shape)"
   ],
   "outputs": [
    {
     "name": "stdout",
     "output_type": "stream",
     "text": [
      "torch.Size([32, 1, 28, 28])\n",
      "torch.Size([32, 10])\n"
     ]
    }
   ],
   "execution_count": 25
  },
  {
   "cell_type": "code",
   "source": [
    "784*300+300+300*100+100+100*10+10"
   ],
   "metadata": {
    "collapsed": false,
    "ExecuteTime": {
     "end_time": "2025-01-15T12:42:13.588430Z",
     "start_time": "2025-01-15T12:42:13.580454Z"
    }
   },
   "outputs": [
    {
     "data": {
      "text/plain": [
       "266610"
      ]
     },
     "execution_count": 26,
     "metadata": {},
     "output_type": "execute_result"
    }
   ],
   "execution_count": 26
  },
  {
   "cell_type": "code",
   "metadata": {
    "ExecuteTime": {
     "end_time": "2025-01-15T12:42:21.267094Z",
     "start_time": "2025-01-15T12:42:21.258713Z"
    }
   },
   "source": [
    "for name, param in model.named_parameters(): # 打印模型参数\n",
    "      print(name, param.shape)\n",
    "      \n",
    "\n",
    "# 神经元个数 784-300-100-10"
   ],
   "outputs": [
    {
     "name": "stdout",
     "output_type": "stream",
     "text": [
      "linear_relu_stack.0.weight torch.Size([300, 784])\n",
      "linear_relu_stack.0.bias torch.Size([300])\n",
      "linear_relu_stack.2.weight torch.Size([100, 300])\n",
      "linear_relu_stack.2.bias torch.Size([100])\n",
      "linear_relu_stack.4.weight torch.Size([10, 100])\n",
      "linear_relu_stack.4.bias torch.Size([10])\n"
     ]
    }
   ],
   "execution_count": 27
  },
  {
   "cell_type": "code",
   "metadata": {
    "ExecuteTime": {
     "end_time": "2025-01-15T12:43:15.386770Z",
     "start_time": "2025-01-15T12:43:15.375491Z"
    }
   },
   "source": [
    "# 看看模型参数\n",
    "list(model.parameters())  # 这种方法拿到模型的所有可学习参数,requires_grad=True\n"
   ],
   "outputs": [
    {
     "data": {
      "text/plain": [
       "[Parameter containing:\n",
       " tensor([[ 0.0014, -0.0096,  0.0064,  ..., -0.0040, -0.0044, -0.0126],\n",
       "         [-0.0213, -0.0014, -0.0283,  ...,  0.0291,  0.0107,  0.0304],\n",
       "         [-0.0043, -0.0103, -0.0231,  ..., -0.0143, -0.0228, -0.0161],\n",
       "         ...,\n",
       "         [ 0.0177,  0.0023,  0.0265,  ..., -0.0166,  0.0258, -0.0303],\n",
       "         [-0.0334, -0.0047, -0.0016,  ..., -0.0333, -0.0241,  0.0165],\n",
       "         [-0.0327,  0.0030, -0.0060,  ...,  0.0092, -0.0318,  0.0127]],\n",
       "        requires_grad=True),\n",
       " Parameter containing:\n",
       " tensor([-2.6460e-02, -2.9545e-02, -7.2213e-04, -1.9183e-02, -2.5439e-02,\n",
       "          1.1977e-02, -1.5738e-02, -1.6014e-02,  1.3204e-02,  1.6325e-02,\n",
       "          9.2537e-03,  1.0233e-02, -5.8958e-03, -8.5430e-03, -1.7505e-02,\n",
       "          1.2545e-02, -3.1015e-02,  8.3646e-03, -3.2356e-02, -6.9355e-03,\n",
       "          2.0622e-02,  2.0744e-02, -1.2003e-02, -1.8440e-02,  1.5129e-03,\n",
       "         -9.1229e-03,  1.1522e-02, -8.4160e-03, -2.7851e-02,  1.0196e-02,\n",
       "          2.8958e-02,  3.2188e-02,  1.6037e-02,  2.3579e-02, -1.1156e-02,\n",
       "          2.6233e-02, -1.5562e-02, -2.6207e-02,  2.1167e-02, -9.5598e-03,\n",
       "         -3.3292e-02, -9.0037e-03,  1.9914e-02, -2.8338e-02, -1.0715e-02,\n",
       "          1.5919e-02,  3.2100e-03, -1.2607e-02, -9.1312e-03,  4.1530e-03,\n",
       "         -2.9596e-02, -2.5052e-02,  2.5242e-02,  3.1112e-02, -1.2577e-02,\n",
       "          2.5628e-02,  2.2207e-02, -5.4539e-03, -1.4676e-02, -1.2568e-02,\n",
       "          3.1024e-02, -1.9514e-02, -2.8156e-02, -3.0214e-02,  1.1233e-02,\n",
       "         -1.2595e-02,  3.0492e-02, -3.2886e-02, -2.5943e-02, -2.1313e-02,\n",
       "         -3.2111e-02,  3.4901e-02,  1.9455e-02,  2.7586e-02, -1.6681e-02,\n",
       "          2.8100e-02, -8.9945e-03, -2.5420e-02,  3.1488e-02, -2.2478e-02,\n",
       "          1.2604e-02,  3.0377e-03,  2.3242e-02,  2.8402e-02,  1.8573e-02,\n",
       "          2.7177e-02, -3.3545e-02, -8.8027e-03,  9.4482e-03, -2.8237e-02,\n",
       "         -7.0287e-03, -1.4671e-02, -2.6217e-02,  2.4628e-02, -2.8157e-02,\n",
       "          2.8530e-02,  6.4819e-03, -3.0480e-02,  2.7880e-02,  2.1843e-02,\n",
       "         -2.0494e-02,  3.0882e-02, -1.6481e-02,  3.3759e-02,  1.9851e-02,\n",
       "         -3.1639e-02, -1.0754e-02,  2.5084e-02, -2.4300e-02,  1.5897e-02,\n",
       "          9.4944e-03,  1.1698e-03, -2.4154e-02, -3.4249e-02, -8.9765e-03,\n",
       "         -1.9868e-02, -3.4842e-02,  2.4843e-02, -1.9440e-02, -1.1233e-02,\n",
       "         -2.6664e-02,  7.2082e-03,  2.6099e-02, -3.0763e-02, -3.0907e-02,\n",
       "          3.0503e-02,  1.0196e-02, -3.4830e-02,  1.3821e-02,  2.2810e-02,\n",
       "          2.5052e-02, -2.5950e-02,  7.5898e-03,  5.6059e-03,  4.5843e-03,\n",
       "          1.4200e-02, -1.1568e-02, -3.2350e-02,  1.7235e-03,  8.2022e-04,\n",
       "          2.2141e-02,  4.0885e-03,  2.1788e-03, -9.1959e-03,  2.8249e-02,\n",
       "          1.2856e-02,  2.4567e-02,  2.8208e-02,  2.0044e-03, -2.6155e-02,\n",
       "          7.1783e-03, -6.9597e-03, -1.1906e-02,  3.0682e-02,  1.6080e-02,\n",
       "          2.4176e-02, -1.5600e-02, -2.2680e-02, -1.1819e-02, -3.2303e-02,\n",
       "         -1.9678e-02,  7.4465e-03, -1.1608e-02,  3.4090e-02, -2.7994e-02,\n",
       "         -3.4812e-02, -2.7654e-02, -2.9404e-02,  2.4647e-02,  2.3690e-02,\n",
       "          1.2319e-02, -1.7406e-02, -7.3254e-04, -6.8612e-03,  1.8562e-02,\n",
       "         -2.2459e-02, -3.1741e-02,  2.9417e-02, -2.4176e-02, -7.5777e-03,\n",
       "         -3.1720e-02,  1.0529e-02, -2.1120e-02,  1.4944e-02,  2.8121e-02,\n",
       "          3.4312e-02,  2.1613e-02, -2.6472e-02,  1.8251e-02,  1.4524e-02,\n",
       "         -8.7442e-03,  5.8367e-03,  2.6721e-02, -2.6568e-03, -3.4458e-02,\n",
       "          1.5574e-02,  4.1777e-03, -3.2549e-02,  1.1942e-02,  1.6904e-02,\n",
       "          2.7579e-03, -1.4074e-02,  1.5896e-02, -3.1641e-02, -5.8057e-03,\n",
       "         -3.5532e-02, -3.3969e-02, -2.1001e-02,  2.7351e-02,  1.9154e-02,\n",
       "          4.8994e-04,  3.5036e-02, -4.0482e-03, -2.3749e-03, -3.0345e-02,\n",
       "          2.6283e-02,  3.1976e-02, -1.0015e-02, -2.4670e-02,  6.9831e-03,\n",
       "         -5.7837e-03, -1.4188e-02, -2.9463e-02,  3.1870e-02,  3.3100e-02,\n",
       "          9.5818e-03, -2.1709e-02, -2.5829e-02, -1.7920e-02, -3.3077e-05,\n",
       "         -2.4173e-02,  1.3082e-02, -1.2442e-02, -3.6043e-03,  5.9822e-04,\n",
       "          7.0840e-03,  2.4548e-02,  2.4337e-02, -8.9720e-03,  2.3919e-02,\n",
       "         -5.3884e-03, -2.1286e-02,  5.5870e-03, -1.4962e-02,  6.4895e-03,\n",
       "          8.3118e-03,  1.9527e-02, -1.9343e-02,  3.3621e-02,  1.8356e-02,\n",
       "         -5.2431e-03, -9.9539e-03,  2.9271e-02,  2.8027e-02,  2.1592e-02,\n",
       "         -2.4594e-02,  2.5807e-02, -6.9261e-03,  2.5644e-02,  2.5218e-02,\n",
       "          2.8006e-02, -1.0085e-02,  3.0482e-02,  1.4823e-02,  7.0099e-03,\n",
       "          9.1330e-03, -3.1188e-02, -1.4656e-02,  3.3433e-03,  2.7284e-03,\n",
       "         -9.1709e-03,  2.0583e-02,  2.3167e-02,  1.7622e-02, -1.4216e-02,\n",
       "          3.5329e-02, -1.3111e-02, -2.0565e-02, -1.7992e-02, -3.4466e-02,\n",
       "         -2.4394e-02,  2.9656e-02,  2.3726e-02,  1.0841e-02, -2.4552e-03,\n",
       "          3.5244e-02,  3.2162e-02, -2.1867e-02,  3.4088e-02, -2.0464e-02,\n",
       "          1.7976e-02, -1.4752e-02, -2.6366e-02, -3.0627e-02,  1.5843e-02,\n",
       "          2.0748e-02, -5.8214e-03, -8.7681e-04, -1.8164e-02, -7.0681e-03],\n",
       "        requires_grad=True),\n",
       " Parameter containing:\n",
       " tensor([[ 0.0434, -0.0145, -0.0280,  ..., -0.0171,  0.0243,  0.0096],\n",
       "         [-0.0523,  0.0060, -0.0006,  ...,  0.0166, -0.0174, -0.0012],\n",
       "         [-0.0270,  0.0523, -0.0200,  ...,  0.0268, -0.0013,  0.0401],\n",
       "         ...,\n",
       "         [-0.0406, -0.0108,  0.0070,  ...,  0.0006,  0.0577, -0.0009],\n",
       "         [ 0.0330, -0.0432, -0.0519,  ...,  0.0397,  0.0403, -0.0430],\n",
       "         [ 0.0141,  0.0156,  0.0277,  ...,  0.0039,  0.0216, -0.0466]],\n",
       "        requires_grad=True),\n",
       " Parameter containing:\n",
       " tensor([-0.0420,  0.0253, -0.0208, -0.0211,  0.0560,  0.0438, -0.0443,  0.0057,\n",
       "          0.0349,  0.0547, -0.0268, -0.0243,  0.0161,  0.0163, -0.0364,  0.0062,\n",
       "          0.0576, -0.0010,  0.0063, -0.0374, -0.0112, -0.0130, -0.0016, -0.0319,\n",
       "          0.0263,  0.0527,  0.0040, -0.0175, -0.0523,  0.0041,  0.0285, -0.0473,\n",
       "         -0.0060, -0.0315,  0.0496, -0.0383, -0.0019, -0.0556, -0.0158,  0.0010,\n",
       "         -0.0435, -0.0097,  0.0240,  0.0275, -0.0151, -0.0524, -0.0053, -0.0420,\n",
       "          0.0030,  0.0310, -0.0029,  0.0358,  0.0478, -0.0167, -0.0095, -0.0464,\n",
       "          0.0025, -0.0436, -0.0191, -0.0523,  0.0103, -0.0369, -0.0274, -0.0549,\n",
       "         -0.0231, -0.0537,  0.0056,  0.0235, -0.0256,  0.0565,  0.0134,  0.0351,\n",
       "         -0.0410, -0.0398, -0.0348, -0.0471,  0.0501,  0.0418, -0.0529,  0.0390,\n",
       "         -0.0176,  0.0553, -0.0026,  0.0557, -0.0147, -0.0163,  0.0002,  0.0409,\n",
       "         -0.0268, -0.0173, -0.0150, -0.0003,  0.0197,  0.0309,  0.0055,  0.0267,\n",
       "          0.0285,  0.0074,  0.0033,  0.0396], requires_grad=True),\n",
       " Parameter containing:\n",
       " tensor([[ 0.0576, -0.0232,  0.0413, -0.0467,  0.0320,  0.0608, -0.0049, -0.0107,\n",
       "           0.0041,  0.0512, -0.0422,  0.0821, -0.0334, -0.0962, -0.0308,  0.0564,\n",
       "          -0.0793, -0.0068, -0.0936,  0.0787, -0.0464, -0.0073, -0.0058,  0.0575,\n",
       "          -0.0960, -0.0665,  0.0783, -0.0522, -0.0200, -0.0871,  0.0813, -0.0810,\n",
       "           0.0221, -0.0586, -0.0112, -0.0369,  0.0880,  0.0619,  0.0619,  0.0563,\n",
       "           0.0274,  0.0825,  0.0012,  0.0817, -0.0708,  0.0086, -0.0635,  0.0609,\n",
       "          -0.0239,  0.0007, -0.0130,  0.0860, -0.0663, -0.0975,  0.0258,  0.0779,\n",
       "          -0.0329, -0.0598,  0.0180, -0.0451,  0.0564, -0.0035,  0.0387,  0.0350,\n",
       "          -0.0510,  0.0405,  0.0427, -0.0991, -0.0884, -0.0022, -0.0036,  0.0886,\n",
       "           0.0942,  0.0844, -0.0037,  0.0911,  0.0873, -0.0539, -0.0653, -0.0269,\n",
       "          -0.0350,  0.0127, -0.0011, -0.0794, -0.0087, -0.0283,  0.0798, -0.0633,\n",
       "           0.0891, -0.0139, -0.0576, -0.0332,  0.0693, -0.0621, -0.0690, -0.0114,\n",
       "           0.0513,  0.0513, -0.0637,  0.0339],\n",
       "         [-0.0586,  0.0207,  0.0740, -0.0006, -0.0884,  0.0621, -0.0501,  0.0899,\n",
       "          -0.0878, -0.0370, -0.0768, -0.0010,  0.0137,  0.0987,  0.0075,  0.0473,\n",
       "          -0.0297,  0.0967, -0.0299, -0.0740, -0.0935,  0.0568, -0.0228, -0.0557,\n",
       "           0.0104, -0.0003,  0.0181,  0.0131,  0.0607,  0.0019,  0.0249, -0.0994,\n",
       "          -0.0059, -0.0659,  0.0129, -0.0411,  0.0043,  0.0297,  0.0438, -0.0986,\n",
       "          -0.0936, -0.0404, -0.0498,  0.0602,  0.0483,  0.0401,  0.0011, -0.0188,\n",
       "           0.0600,  0.0611,  0.0424, -0.0758,  0.0856,  0.0653,  0.0768,  0.0914,\n",
       "          -0.0627,  0.0092,  0.0859, -0.0292, -0.0718, -0.0642,  0.0662, -0.0447,\n",
       "          -0.0569, -0.0795, -0.0264,  0.0423, -0.0608, -0.0252, -0.0180, -0.0908,\n",
       "           0.0270,  0.0037,  0.0117,  0.0349,  0.0322,  0.0480,  0.0956, -0.0229,\n",
       "           0.0162, -0.0374,  0.0936, -0.0890,  0.0586,  0.0020,  0.0588,  0.0627,\n",
       "          -0.0031, -0.0689,  0.0383, -0.0364, -0.0709, -0.0084, -0.0473, -0.0859,\n",
       "           0.0007, -0.0417, -0.0826, -0.0267],\n",
       "         [-0.0779,  0.0022,  0.0148,  0.0944,  0.0792,  0.0012, -0.0710,  0.0550,\n",
       "           0.0731, -0.0141, -0.0911,  0.0446, -0.0440,  0.0065, -0.0252,  0.0931,\n",
       "           0.0673, -0.0712, -0.0701, -0.0778, -0.0777, -0.0041,  0.0386, -0.0970,\n",
       "           0.0283, -0.0034, -0.0319,  0.0111,  0.0539, -0.0712, -0.0080, -0.0476,\n",
       "          -0.0444,  0.0836, -0.0141, -0.0510,  0.0816, -0.0079,  0.0100, -0.0038,\n",
       "           0.0505,  0.0637,  0.0645,  0.0239, -0.0078, -0.0350, -0.0358, -0.0310,\n",
       "          -0.0695,  0.0009,  0.0091, -0.0183, -0.0811, -0.0679,  0.0512, -0.0295,\n",
       "           0.0863,  0.0056,  0.0812, -0.0374, -0.0944,  0.0517, -0.0042,  0.0370,\n",
       "           0.0380,  0.0544,  0.0726, -0.0446,  0.0853,  0.0403, -0.0695, -0.0986,\n",
       "           0.0864,  0.0973,  0.0580, -0.0539, -0.0862, -0.0637,  0.0711, -0.0170,\n",
       "          -0.0126,  0.0233, -0.0698, -0.0855,  0.0158,  0.0354,  0.0375,  0.0039,\n",
       "          -0.0218, -0.0275, -0.0584, -0.0544,  0.0189,  0.0804, -0.0025, -0.0888,\n",
       "          -0.0298, -0.0818,  0.0683, -0.0585],\n",
       "         [ 0.0342,  0.0754, -0.0481,  0.0033, -0.0574,  0.0302, -0.0856, -0.0560,\n",
       "           0.0845, -0.0556,  0.0453, -0.0999, -0.0226, -0.0519,  0.0385,  0.0030,\n",
       "          -0.0879, -0.0614,  0.0827,  0.0043,  0.0485, -0.0826, -0.0726,  0.0553,\n",
       "          -0.0733,  0.0164,  0.0729,  0.0798,  0.0024, -0.0786,  0.0486,  0.0456,\n",
       "          -0.0196, -0.0385, -0.0528, -0.0997, -0.0092, -0.0359,  0.0120, -0.0691,\n",
       "           0.0792, -0.0244, -0.0931,  0.0186, -0.0712, -0.0722, -0.0694, -0.0230,\n",
       "           0.0403,  0.0848,  0.0726,  0.0048,  0.0840, -0.0067, -0.0958,  0.0241,\n",
       "          -0.0681,  0.0806,  0.0883,  0.0835, -0.0333,  0.0314, -0.0611, -0.0836,\n",
       "           0.0126,  0.0835, -0.0008,  0.0828,  0.0888,  0.0560,  0.0859,  0.0502,\n",
       "           0.0581, -0.0906,  0.0950,  0.0238, -0.0558,  0.0415,  0.0851, -0.0605,\n",
       "           0.0337, -0.0633,  0.0886, -0.0669,  0.0851, -0.0117,  0.0196,  0.0632,\n",
       "           0.0788, -0.0470,  0.0339, -0.0986, -0.0337, -0.0563, -0.0353, -0.0510,\n",
       "          -0.0810,  0.0651,  0.0990, -0.0502],\n",
       "         [ 0.0062,  0.0250, -0.0551, -0.0810, -0.0130,  0.0256,  0.0310, -0.0753,\n",
       "          -0.0077,  0.0088,  0.0903,  0.0606,  0.0654,  0.0032, -0.0515,  0.0779,\n",
       "          -0.0823, -0.0468,  0.0925,  0.0713, -0.0751,  0.0212, -0.0845, -0.0370,\n",
       "           0.0096,  0.0855, -0.0929, -0.0720, -0.0441,  0.0055, -0.0477,  0.0081,\n",
       "          -0.0182,  0.0133, -0.0836, -0.0396, -0.0115, -0.0079, -0.0094, -0.0270,\n",
       "          -0.0353,  0.0838, -0.0324,  0.0448, -0.0449, -0.0352, -0.0760,  0.0714,\n",
       "           0.0215,  0.0790,  0.0695,  0.0882,  0.0294,  0.0960,  0.0336, -0.0090,\n",
       "           0.0698,  0.0846, -0.0292, -0.0929,  0.0681,  0.0107,  0.0921, -0.0484,\n",
       "           0.0572, -0.0147,  0.0276,  0.0354,  0.0756, -0.0540,  0.0743, -0.0296,\n",
       "           0.0653, -0.0273, -0.0992,  0.0431, -0.0651,  0.0795,  0.0179,  0.0085,\n",
       "           0.0724,  0.0661,  0.0128,  0.0545, -0.0084,  0.0004, -0.0807,  0.0971,\n",
       "           0.0673, -0.0092, -0.0385,  0.0544,  0.0773,  0.0683, -0.0915, -0.0220,\n",
       "           0.0630, -0.0640,  0.0394, -0.0148],\n",
       "         [-0.0014, -0.0359,  0.0558, -0.0239,  0.0329,  0.0646,  0.0037, -0.0201,\n",
       "          -0.0007, -0.0759, -0.0392,  0.0243, -0.0006, -0.0689,  0.0971, -0.0766,\n",
       "          -0.0042,  0.0402, -0.0617, -0.0779, -0.0434, -0.0767, -0.0754, -0.0543,\n",
       "           0.0607,  0.0088,  0.0170, -0.0316,  0.0463, -0.0695, -0.0644,  0.0868,\n",
       "           0.0102,  0.0299,  0.0315, -0.0636,  0.0801, -0.0145,  0.0842, -0.0212,\n",
       "           0.0598, -0.0647,  0.0153, -0.0637,  0.0617, -0.0132,  0.0336, -0.0638,\n",
       "          -0.0870,  0.0302,  0.0543,  0.0352, -0.0542,  0.0333,  0.0049,  0.0991,\n",
       "           0.0793,  0.0317,  0.0986,  0.0503,  0.0392, -0.0458, -0.0868, -0.0100,\n",
       "          -0.0724,  0.0872,  0.0688, -0.0535, -0.0421,  0.0864,  0.0241,  0.0629,\n",
       "           0.0669,  0.0380,  0.0773,  0.0973, -0.0699,  0.0658, -0.0118,  0.0450,\n",
       "          -0.0563,  0.0543,  0.0284,  0.0990,  0.0128, -0.0259,  0.0888, -0.0255,\n",
       "           0.0308, -0.0767,  0.0616, -0.0056,  0.0625,  0.0396,  0.0049,  0.0269,\n",
       "          -0.0144,  0.0854, -0.0687,  0.0698],\n",
       "         [-0.0055,  0.0699, -0.0515, -0.0979,  0.0764,  0.0519,  0.0391, -0.0040,\n",
       "           0.0949, -0.0480, -0.0210, -0.0220, -0.0995, -0.0999, -0.0143,  0.0909,\n",
       "           0.0902,  0.0270, -0.0785, -0.0425, -0.0747,  0.0739,  0.0749,  0.0285,\n",
       "           0.0875,  0.0705, -0.0638,  0.0704,  0.0044,  0.0902,  0.0925,  0.0436,\n",
       "           0.0757,  0.0361, -0.0805,  0.0725,  0.0785, -0.0110,  0.0092, -0.0722,\n",
       "           0.0983,  0.0341,  0.0711,  0.0367,  0.0869, -0.0827,  0.0669,  0.0740,\n",
       "           0.0603,  0.0034,  0.0535, -0.0024, -0.0682,  0.0123, -0.0141,  0.0083,\n",
       "          -0.0348, -0.0700,  0.0603, -0.0104,  0.0203, -0.0308, -0.0124,  0.0660,\n",
       "          -0.0097,  0.0589, -0.0313,  0.0478, -0.0587,  0.0966,  0.0152, -0.0515,\n",
       "           0.0615,  0.0280,  0.0050,  0.0576,  0.0539, -0.0068,  0.0087,  0.0958,\n",
       "           0.0009, -0.0422, -0.0145,  0.0204, -0.0767, -0.0541, -0.0493, -0.0869,\n",
       "          -0.0851, -0.0417, -0.0362,  0.0104, -0.0796, -0.0509, -0.0789,  0.0049,\n",
       "          -0.0769,  0.0219,  0.0739,  0.0870],\n",
       "         [-0.0501, -0.0111,  0.0600,  0.0766, -0.0799, -0.0746, -0.0323, -0.0805,\n",
       "           0.0378,  0.0784, -0.0119, -0.0950, -0.0577, -0.0434,  0.0439,  0.0343,\n",
       "           0.0297,  0.0513,  0.0656, -0.0773, -0.0255, -0.0204, -0.0259, -0.0790,\n",
       "          -0.0172,  0.0602,  0.0990,  0.0624,  0.0161,  0.0711,  0.0904,  0.0110,\n",
       "           0.0509,  0.0409, -0.0756, -0.0106,  0.0308,  0.0122, -0.0391,  0.0538,\n",
       "          -0.0933, -0.0706,  0.0819,  0.0132,  0.0463,  0.0643,  0.0213,  0.0875,\n",
       "           0.0887,  0.0564, -0.0654, -0.0310,  0.0583, -0.0335,  0.0164, -0.0963,\n",
       "          -0.0520,  0.0035, -0.0857,  0.0107,  0.0079, -0.0366,  0.0133,  0.0630,\n",
       "          -0.0475, -0.0968, -0.0439, -0.0475,  0.0667, -0.0746, -0.0819,  0.0276,\n",
       "           0.0979, -0.0894,  0.0166, -0.0491, -0.0024,  0.0624,  0.0042,  0.0681,\n",
       "           0.0205, -0.0166,  0.0008,  0.0239, -0.0172,  0.0300,  0.0856, -0.0486,\n",
       "           0.0945,  0.0473, -0.0257, -0.0832,  0.0050, -0.0166,  0.0952,  0.0226,\n",
       "          -0.0293,  0.0479, -0.0917,  0.0193],\n",
       "         [-0.0505, -0.0251, -0.0562,  0.0965, -0.0112,  0.0196, -0.0292,  0.0740,\n",
       "           0.0094,  0.0256, -0.0173,  0.0102,  0.0089,  0.0144, -0.0231,  0.0928,\n",
       "           0.0482, -0.0593,  0.0292,  0.0468, -0.0081,  0.0085, -0.0072,  0.0857,\n",
       "           0.0838,  0.0498, -0.0807,  0.0172, -0.0008, -0.0823, -0.0354,  0.0129,\n",
       "           0.0105,  0.0982, -0.0456, -0.0437,  0.0332,  0.0053, -0.0294, -0.0021,\n",
       "           0.0908,  0.0531,  0.0058,  0.0439,  0.0723,  0.0073, -0.0213,  0.0595,\n",
       "          -0.0884,  0.0053,  0.0976,  0.0873,  0.0496, -0.0473,  0.0201, -0.0515,\n",
       "          -0.0552, -0.0572,  0.0034,  0.0803,  0.0778, -0.0870, -0.0912,  0.0723,\n",
       "          -0.0657,  0.0199, -0.0211, -0.0584, -0.0099,  0.0486, -0.0731, -0.0763,\n",
       "           0.0807, -0.0474, -0.0892, -0.0946,  0.0365, -0.0919, -0.0804, -0.0245,\n",
       "           0.0211, -0.0327,  0.0358, -0.0837,  0.0921,  0.0030, -0.0232, -0.0893,\n",
       "          -0.0010, -0.0741, -0.0426, -0.0705,  0.0220, -0.0396, -0.0988, -0.0494,\n",
       "           0.0851,  0.0874, -0.0254,  0.0294],\n",
       "         [ 0.0656,  0.0384,  0.0808, -0.0070, -0.0681,  0.0600,  0.0327,  0.0834,\n",
       "           0.0027,  0.0629, -0.0336,  0.0018, -0.0688, -0.0605,  0.0746, -0.0079,\n",
       "          -0.0470, -0.0623,  0.0028, -0.0805,  0.0418,  0.0473,  0.0597,  0.0058,\n",
       "           0.0805,  0.0404,  0.0413,  0.0914, -0.0868, -0.0577, -0.0231, -0.0395,\n",
       "          -0.0758, -0.0331,  0.0213, -0.0875,  0.0769,  0.0265,  0.0969,  0.0256,\n",
       "           0.0434, -0.0253,  0.0237,  0.0970,  0.0765, -0.0552,  0.0398,  0.0721,\n",
       "          -0.0642,  0.0362, -0.0005, -0.0128,  0.0752,  0.0189, -0.0856,  0.0804,\n",
       "           0.0477,  0.0943,  0.0744, -0.0531, -0.0659, -0.0012, -0.0259,  0.0705,\n",
       "           0.0109, -0.0229, -0.0998,  0.0097,  0.0361,  0.0624, -0.0014, -0.0306,\n",
       "           0.0299,  0.0999, -0.0809, -0.0568,  0.0384,  0.0916,  0.0188,  0.0387,\n",
       "           0.0886,  0.0395,  0.0473,  0.0186,  0.0375, -0.0171, -0.0733,  0.0037,\n",
       "          -0.0295, -0.0220,  0.0773,  0.0084,  0.0361,  0.0057, -0.0276, -0.0457,\n",
       "           0.0284,  0.0319,  0.0819, -0.0659]], requires_grad=True),\n",
       " Parameter containing:\n",
       " tensor([ 0.0313, -0.0930, -0.0584, -0.0268,  0.0439,  0.0956,  0.0855, -0.0070,\n",
       "         -0.0204,  0.0019], requires_grad=True)]"
      ]
     },
     "execution_count": 28,
     "metadata": {},
     "output_type": "execute_result"
    }
   ],
   "execution_count": 28
  },
  {
   "cell_type": "code",
   "metadata": {
    "ExecuteTime": {
     "end_time": "2025-01-15T12:43:53.068680Z",
     "start_time": "2025-01-15T12:43:53.063721Z"
    }
   },
   "source": [
    "# model.state_dict()  # 这种方法用于保存模型参数，看能看见参数属于模型的哪一部分"
   ],
   "outputs": [],
   "execution_count": 29
  },
  {
   "cell_type": "markdown",
   "metadata": {},
   "source": [
    "## 训练\n",
    "\n",
    "pytorch的训练需要自行实现，包括\n",
    "1. 定义损失函数\n",
    "2. 定义优化器\n",
    "3. 定义训练步\n",
    "4. 训练"
   ]
  },
  {
   "cell_type": "code",
   "metadata": {
    "ExecuteTime": {
     "end_time": "2025-01-15T12:54:46.178255Z",
     "start_time": "2025-01-15T12:54:46.169091Z"
    }
   },
   "source": [
    "# 1. 定义损失函数 采用交叉熵损失\n",
    "loss_fct = nn.CrossEntropyLoss() #内部先做softmax，然后计算交叉熵\n",
    "# 2. 定义优化器 采用SGD\n",
    "# Optimizers specified in the torch.optim package,随机梯度下降\n",
    "optimizer = torch.optim.SGD(model.parameters(), lr=0.001, momentum=0.9)"
   ],
   "outputs": [],
   "execution_count": 30
  },
  {
   "metadata": {
    "ExecuteTime": {
     "end_time": "2025-01-15T12:54:47.917629Z",
     "start_time": "2025-01-15T12:54:47.914685Z"
    }
   },
   "cell_type": "code",
   "source": "10000/32",
   "outputs": [
    {
     "data": {
      "text/plain": [
       "312.5"
      ]
     },
     "execution_count": 31,
     "metadata": {},
     "output_type": "execute_result"
    }
   ],
   "execution_count": 31
  },
  {
   "cell_type": "code",
   "metadata": {
    "ExecuteTime": {
     "end_time": "2025-01-15T12:56:34.721865Z",
     "start_time": "2025-01-15T12:56:34.662929Z"
    }
   },
   "source": [
    "from sklearn.metrics import accuracy_score\n",
    "# @torch.no_grad() 是 PyTorch 中的一个装饰器，用来禁用梯度计算，这样可以节省内存和加速模型推理（预测）过程。它通常用于模型评估或测试阶段，因为在这些阶段你不需要进行反向传播和梯度计算。\n",
    "@torch.no_grad() \n",
    "def evaluating(model, dataloader, loss_fct):\n",
    "    loss_list = [] # 记录损失\n",
    "    pred_list = [] # 记录预测\n",
    "    label_list = [] # 记录标签\n",
    "    for datas, labels in dataloader:#10000/32=312\n",
    "        datas = datas.to(device) # 转到GPU\n",
    "        labels = labels.to(device) # 转到GPU\n",
    "        # 前向计算\n",
    "        logits = model(datas)\n",
    "        loss = loss_fct(logits, labels)         # 验证集损失,loss尺寸是一个数值\n",
    "        loss_list.append(loss.item()) # 记录损失,item是把tensor转换为数值\n",
    "        \n",
    "        preds = logits.argmax(axis=-1)    # 验证集预测,argmax返回最大值索引\n",
    "        # print(preds)\n",
    "        pred_list.extend(preds.cpu().numpy().tolist())#将PyTorch张量转换为NumPy数组。只有当张量在CPU上时，这个转换才是合法的\n",
    "        # print(preds.cpu().numpy().tolist())\n",
    "        label_list.extend(labels.cpu().numpy().tolist())\n",
    "        \n",
    "    acc = accuracy_score(label_list, pred_list) # 计算准确率\n",
    "    return np.mean(loss_list), acc\n"
   ],
   "outputs": [],
   "execution_count": 32
  },
  {
   "cell_type": "code",
   "source": [
    "1875*20"
   ],
   "metadata": {
    "collapsed": false,
    "ExecuteTime": {
     "end_time": "2025-01-15T12:59:35.371388Z",
     "start_time": "2025-01-15T12:59:35.353338Z"
    }
   },
   "outputs": [
    {
     "data": {
      "text/plain": [
       "37500"
      ]
     },
     "execution_count": 33,
     "metadata": {},
     "output_type": "execute_result"
    }
   ],
   "execution_count": 33
  },
  {
   "cell_type": "code",
   "metadata": {
    "ExecuteTime": {
     "end_time": "2025-01-15T13:03:35.372791Z",
     "start_time": "2025-01-15T12:59:49.520131Z"
    }
   },
   "source": [
    "# 训练\n",
    "def training(model, train_loader, val_loader, epoch, loss_fct, optimizer, eval_step=500):\n",
    "    record_dict = {\n",
    "        \"train\": [],\n",
    "        \"val\": []\n",
    "    }\n",
    "    \n",
    "    global_step = 0     # 总共37500steps\n",
    "    model.train()\n",
    "    #tqdm是一个进度条库\n",
    "    with tqdm(total=epoch * len(train_loader)) as pbar: # 进度条 1875*20,60000/32=1875=len(train_loader)\n",
    "        for epoch_id in range(epoch): # 训练epoch次\n",
    "            # training\n",
    "            for datas, labels in train_loader: #执行次数是60000/32=1875\n",
    "                datas = datas.to(device) #datas尺寸是[batch_size,1,28,28]\n",
    "                labels = labels.to(device) #labels尺寸是[batch_size]\n",
    "                # 梯度清空\n",
    "                optimizer.zero_grad()\n",
    "                # 模型前向计算\n",
    "                logits = model(datas)\n",
    "                # 计算损失\n",
    "                loss = loss_fct(logits, labels)\n",
    "                # 梯度回传，loss.backward()会计算梯度，loss对模型参数求导\n",
    "                loss.backward()\n",
    "                # 调整优化器，包括学习率的变动等,优化器的学习率会随着训练的进行而减小，更新w,b\n",
    "                optimizer.step() #梯度是计算并存储在模型参数的 .grad 属性中，优化器使用这些存储的梯度来更新模型参数\n",
    "\n",
    "                preds = logits.argmax(axis=-1) # 训练集预测 argmax 是一个用于返回沿指定轴的最大值的索引的函数\n",
    "                acc = accuracy_score(labels.cpu().numpy(), preds.cpu().numpy())   # 计算准确率，numpy可以\n",
    "                loss = loss.cpu().item() # 损失转到CPU，item()取值,一个数值\n",
    "                # record\n",
    "                \n",
    "                record_dict[\"train\"].append({\n",
    "                    \"loss\": loss, \"acc\": acc, \"step\": global_step\n",
    "                }) # 记录训练集信息，每一步的损失，准确率，步数\n",
    "                \n",
    "                # evaluating\n",
    "                if global_step % eval_step == 0:    # 每训练一定步数（由 eval_step 指定），都会进入评估模式\n",
    "                    model.eval() # 进入评估模式\n",
    "                    val_loss, val_acc = evaluating(model, val_loader, loss_fct)\n",
    "                    record_dict[\"val\"].append({\n",
    "                        \"loss\": val_loss, \"acc\": val_acc, \"step\": global_step\n",
    "                    })\n",
    "                    model.train() # 进入训练模式\n",
    "\n",
    "                # udate step\n",
    "                global_step += 1 # 全局步数加1\n",
    "                pbar.update(1) # 更新进度条\n",
    "                pbar.set_postfix({\"epoch\": epoch_id}) # 设置进度条显示信息\n",
    "        \n",
    "    return record_dict\n",
    "        \n",
    "\n",
    "epoch = 20 #改为40\n",
    "model = model.to(device)\n",
    "record = training(model, train_loader, val_loader, epoch, loss_fct, optimizer, eval_step=1000)"
   ],
   "outputs": [
    {
     "data": {
      "text/plain": [
       "  0%|          | 0/37500 [00:00<?, ?it/s]"
      ],
      "application/vnd.jupyter.widget-view+json": {
       "version_major": 2,
       "version_minor": 0,
       "model_id": "7fc4b0eaac2c48a6ace9b8cfbcc80d60"
      }
     },
     "metadata": {},
     "output_type": "display_data"
    }
   ],
   "execution_count": 34
  },
  {
   "cell_type": "code",
   "source": [
    "record[\"train\"][-5:]"
   ],
   "metadata": {
    "collapsed": false,
    "ExecuteTime": {
     "end_time": "2025-01-15T13:16:06.080789Z",
     "start_time": "2025-01-15T13:16:06.074951Z"
    }
   },
   "outputs": [
    {
     "data": {
      "text/plain": [
       "[{'loss': 0.4423435926437378, 'acc': 0.8125, 'step': 37495},\n",
       " {'loss': 0.28262972831726074, 'acc': 0.9375, 'step': 37496},\n",
       " {'loss': 0.2589627504348755, 'acc': 0.90625, 'step': 37497},\n",
       " {'loss': 0.2397923618555069, 'acc': 0.9375, 'step': 37498},\n",
       " {'loss': 0.2682744860649109, 'acc': 0.875, 'step': 37499}]"
      ]
     },
     "execution_count": 35,
     "metadata": {},
     "output_type": "execute_result"
    }
   ],
   "execution_count": 35
  },
  {
   "cell_type": "code",
   "source": [
    "record[\"val\"][-5:]"
   ],
   "metadata": {
    "collapsed": false,
    "ExecuteTime": {
     "end_time": "2025-01-15T13:17:01.626707Z",
     "start_time": "2025-01-15T13:17:01.620001Z"
    }
   },
   "outputs": [
    {
     "data": {
      "text/plain": [
       "[{'loss': 0.3588717454395736, 'acc': 0.8703, 'step': 33000},\n",
       " {'loss': 0.36293606279185786, 'acc': 0.8676, 'step': 34000},\n",
       " {'loss': 0.3526298788170845, 'acc': 0.8731, 'step': 35000},\n",
       " {'loss': 0.37696382302207687, 'acc': 0.8653, 'step': 36000},\n",
       " {'loss': 0.3563523854667577, 'acc': 0.8731, 'step': 37000}]"
      ]
     },
     "execution_count": 36,
     "metadata": {},
     "output_type": "execute_result"
    }
   ],
   "execution_count": 36
  },
  {
   "cell_type": "code",
   "metadata": {
    "ExecuteTime": {
     "end_time": "2025-01-15T03:26:02.810428Z",
     "start_time": "2025-01-15T03:26:02.712170Z"
    }
   },
   "source": [
    "#画线要注意的是损失是不一定在零到1之间的\n",
    "def plot_learning_curves(record_dict, sample_step=1000):\n",
    "    # build DataFrame\n",
    "    train_df = pd.DataFrame(record_dict[\"train\"]).set_index(\"step\").iloc[::sample_step]\n",
    "    val_df = pd.DataFrame(record_dict[\"val\"]).set_index(\"step\")\n",
    "    last_step = train_df.index[-1] # 最后一步的步数\n",
    "    # print(train_df.columns)\n",
    "    print(train_df['acc'])\n",
    "    print(val_df['acc'])\n",
    "    # plot\n",
    "    fig_num = len(train_df.columns) # 画几张图,分别是损失和准确率\n",
    "    fig, axs = plt.subplots(1, fig_num, figsize=(5 * fig_num, 5))\n",
    "    for idx, item in enumerate(train_df.columns):\n",
    "        # print(train_df[item].values)\n",
    "        axs[idx].plot(train_df.index, train_df[item], label=f\"train_{item}\")\n",
    "        axs[idx].plot(val_df.index, val_df[item], label=f\"val_{item}\")\n",
    "        axs[idx].grid() # 显示网格\n",
    "        axs[idx].legend() # 显示图例\n",
    "        axs[idx].set_xticks(range(0, train_df.index[-1], 5000)) # 设置x轴刻度\n",
    "        axs[idx].set_xticklabels(map(lambda x: f\"{int(x/1000)}k\", range(0, last_step, 5000))) # 设置x轴标签\n",
    "        axs[idx].set_xlabel(\"step\")\n",
    "    \n",
    "    plt.show()\n",
    "\n",
    "plot_learning_curves(record)  #横坐标是 steps"
   ],
   "outputs": [
    {
     "name": "stdout",
     "output_type": "stream",
     "text": [
      "step\n",
      "0        0.03125\n",
      "1000     0.71875\n",
      "2000     0.75000\n",
      "3000     0.87500\n",
      "4000     0.78125\n",
      "5000     0.78125\n",
      "6000     0.81250\n",
      "7000     0.93750\n",
      "8000     0.87500\n",
      "9000     0.90625\n",
      "10000    0.84375\n",
      "11000    0.93750\n",
      "12000    0.84375\n",
      "13000    0.78125\n",
      "14000    0.87500\n",
      "15000    0.93750\n",
      "16000    0.81250\n",
      "17000    0.84375\n",
      "18000    0.71875\n",
      "19000    0.90625\n",
      "20000    0.78125\n",
      "21000    0.84375\n",
      "22000    0.87500\n",
      "23000    0.93750\n",
      "24000    0.84375\n",
      "25000    0.90625\n",
      "26000    0.93750\n",
      "27000    0.90625\n",
      "28000    0.90625\n",
      "29000    0.87500\n",
      "30000    0.93750\n",
      "31000    0.87500\n",
      "32000    0.93750\n",
      "33000    0.90625\n",
      "34000    0.96875\n",
      "35000    0.90625\n",
      "36000    0.90625\n",
      "37000    0.90625\n",
      "Name: acc, dtype: float64\n",
      "step\n",
      "0        0.0873\n",
      "1000     0.6938\n",
      "2000     0.7563\n",
      "3000     0.7923\n",
      "4000     0.8028\n",
      "5000     0.8235\n",
      "6000     0.8217\n",
      "7000     0.8300\n",
      "8000     0.8314\n",
      "9000     0.8347\n",
      "10000    0.8318\n",
      "11000    0.8421\n",
      "12000    0.8446\n",
      "13000    0.8449\n",
      "14000    0.8475\n",
      "15000    0.8477\n",
      "16000    0.8541\n",
      "17000    0.8552\n",
      "18000    0.8566\n",
      "19000    0.8572\n",
      "20000    0.8572\n",
      "21000    0.8629\n",
      "22000    0.8631\n",
      "23000    0.8589\n",
      "24000    0.8636\n",
      "25000    0.8670\n",
      "26000    0.8592\n",
      "27000    0.8624\n",
      "28000    0.8674\n",
      "29000    0.8677\n",
      "30000    0.8612\n",
      "31000    0.8502\n",
      "32000    0.8717\n",
      "33000    0.8684\n",
      "34000    0.8705\n",
      "35000    0.8646\n",
      "36000    0.8664\n",
      "37000    0.8646\n",
      "Name: acc, dtype: float64\n"
     ]
    },
    {
     "data": {
      "text/plain": [
       "<Figure size 1000x500 with 2 Axes>"
      ],
      "image/png": "[encoded data removed]"
     },
     "metadata": {},
     "output_type": "display_data"
    }
   ],
   "execution_count": 44
  },
  {
   "cell_type": "markdown",
   "metadata": {},
   "source": [
    "## 评估"
   ]
  },
  {
   "cell_type": "code",
   "metadata": {
    "ExecuteTime": {
     "end_time": "2025-01-15T13:19:29.213675Z",
     "start_time": "2025-01-15T13:19:27.173628Z"
    }
   },
   "source": [
    "# dataload for evaluating\n",
    "\n",
    "model.eval() # 进入评估模式\n",
    "loss, acc = evaluating(model, val_loader, loss_fct)\n",
    "print(f\"loss:     {loss:.4f}\\naccuracy: {acc:.4f}\")"
   ],
   "outputs": [
    {
     "name": "stdout",
     "output_type": "stream",
     "text": [
      "loss:     0.3648\n",
      "accuracy: 0.8699\n"
     ]
    }
   ],
   "execution_count": 37
  }
 ],
 "metadata": {
  "kernelspec": {
   "display_name": "Python 3 (ipykernel)",
   "language": "python",
   "name": "python3"
  },
  "language_info": {
   "codemirror_mode": {
    "name": "ipython",
    "version": 3
   },
   "file_extension": ".py",
   "mimetype": "text/x-python",
   "name": "python",
   "nbconvert_exporter": "python",
   "pygments_lexer": "ipython3",
   "version": "3.9.7"
  }
 },
 "nbformat": 4,
 "nbformat_minor": 2
}
