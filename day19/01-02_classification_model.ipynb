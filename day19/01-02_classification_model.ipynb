{
 "cells": [
  {
   "cell_type": "markdown",
   "metadata": {},
   "source": [
    "对应 `tf.keras` 的01~02章节"
   ]
  },
  {
   "cell_type": "code",
   "metadata": {
    "ExecuteTime": {
     "end_time": "2025-01-16T01:39:38.621886Z",
     "start_time": "2025-01-16T01:39:37.624174Z"
    }
   },
   "source": [
    "import matplotlib as mpl\n",
    "import matplotlib.pyplot as plt\n",
    "# IPython 魔法命令，用于在 Jupyter Notebook 中显示图形\n",
    "%matplotlib inline      \n",
    "import numpy as np\n",
    "import sklearn\n",
    "import pandas as pd\n",
    "import os\n",
    "import sys\n",
    "import time\n",
    "from tqdm.auto import tqdm      # 与QT相关的模块，下方展示的进度条\n",
    "import torch\n",
    "import torch.nn as nn\n",
    "import torch.nn.functional as F\n",
    "\n",
    "print(sys.version_info) # Python解释器信息\n",
    "\n",
    "for module in mpl, np, pd, sklearn, torch:\n",
    "    print(module.__name__, module.__version__)\n",
    "    \n",
    "device = torch.device(\"cuda:0\") if torch.cuda.is_available() else torch.device(\"cpu\")   # cuda是否可用\n",
    "print(device)\n"
   ],
   "outputs": [
    {
     "name": "stdout",
     "output_type": "stream",
     "text": [
      "sys.version_info(major=3, minor=12, micro=3, releaselevel='final', serial=0)\n",
      "matplotlib 3.10.0\n",
      "numpy 1.26.4\n",
      "pandas 2.2.3\n",
      "sklearn 1.6.0\n",
      "torch 2.5.1+cu124\n",
      "cuda:0\n"
     ]
    }
   ],
   "execution_count": 21
  },
  {
   "cell_type": "code",
   "source": [
    "28*28"
   ],
   "metadata": {
    "collapsed": false,
    "ExecuteTime": {
     "end_time": "2025-01-16T01:39:42.447437Z",
     "start_time": "2025-01-16T01:39:42.442690Z"
    }
   },
   "outputs": [
    {
     "data": {
      "text/plain": [
       "784"
      ]
     },
     "execution_count": 22,
     "metadata": {},
     "output_type": "execute_result"
    }
   ],
   "execution_count": 22
  },
  {
   "cell_type": "markdown",
   "metadata": {},
   "source": "## 数据准备1，为了看灰度图片"
  },
  {
   "cell_type": "code",
   "metadata": {
    "ExecuteTime": {
     "end_time": "2025-01-16T01:39:44.530851Z",
     "start_time": "2025-01-16T01:39:44.495141Z"
    }
   },
   "source": [
    "from torchvision import datasets\n",
    "from torchvision.transforms import ToTensor\n",
    "from torchvision import transforms\n",
    "\n",
    "\n",
    "# 定义数据集的变换\n",
    "transform = transforms.Compose([\n",
    "])\n",
    "# fashion_mnist图像分类数据集，衣服分类，60000张训练图片，10000张测试图片\n",
    "train_ds = datasets.FashionMNIST(\n",
    "    root=\"data\",\n",
    "    train=True,\n",
    "    download=True,\n",
    "    transform=transform\n",
    ")\n",
    "\n",
    "test_ds = datasets.FashionMNIST(\n",
    "    root=\"data\",\n",
    "    train=False,\n",
    "    download=True,\n",
    "    transform=transform\n",
    ")\n",
    "\n",
    "# torchvision 数据集里没有提供训练集和验证集的划分\n",
    "# 当然也可以用 torch.utils.data.Dataset 实现人为划分"
   ],
   "outputs": [],
   "execution_count": 23
  },
  {
   "cell_type": "code",
   "source": [
    "type(train_ds)"
   ],
   "metadata": {
    "collapsed": false,
    "ExecuteTime": {
     "end_time": "2025-01-16T01:39:58.158152Z",
     "start_time": "2025-01-16T01:39:58.154274Z"
    }
   },
   "outputs": [
    {
     "data": {
      "text/plain": [
       "torchvision.datasets.mnist.FashionMNIST"
      ]
     },
     "execution_count": 25,
     "metadata": {},
     "output_type": "execute_result"
    }
   ],
   "execution_count": 25
  },
  {
   "cell_type": "code",
   "source": [
    "len(train_ds)"
   ],
   "metadata": {
    "collapsed": false,
    "ExecuteTime": {
     "end_time": "2025-01-16T01:39:58.204203Z",
     "start_time": "2025-01-16T01:39:58.200988Z"
    }
   },
   "outputs": [
    {
     "data": {
      "text/plain": [
       "60000"
      ]
     },
     "execution_count": 26,
     "metadata": {},
     "output_type": "execute_result"
    }
   ],
   "execution_count": 26
  },
  {
   "cell_type": "code",
   "source": [
    "type(train_ds[0])"
   ],
   "metadata": {
    "collapsed": false,
    "ExecuteTime": {
     "end_time": "2025-01-16T01:39:58.249912Z",
     "start_time": "2025-01-16T01:39:58.246138Z"
    }
   },
   "outputs": [
    {
     "data": {
      "text/plain": [
       "tuple"
      ]
     },
     "execution_count": 27,
     "metadata": {},
     "output_type": "execute_result"
    }
   ],
   "execution_count": 27
  },
  {
   "cell_type": "code",
   "metadata": {
    "ExecuteTime": {
     "end_time": "2025-01-16T01:39:58.272372Z",
     "start_time": "2025-01-16T01:39:58.268579Z"
    }
   },
   "source": [
    "# 通过id取数据，取到的是一个元祖,是第一个样本,在训练时，把特征和标签分开\n",
    "img, label = train_ds[0]"
   ],
   "outputs": [],
   "execution_count": 28
  },
  {
   "metadata": {
    "ExecuteTime": {
     "end_time": "2025-01-16T01:39:58.304622Z",
     "start_time": "2025-01-16T01:39:58.301936Z"
    }
   },
   "cell_type": "code",
   "source": "type(img) #tensor中文是 张量,和numpy的ndarray类似",
   "outputs": [
    {
     "data": {
      "text/plain": [
       "PIL.Image.Image"
      ]
     },
     "execution_count": 29,
     "metadata": {},
     "output_type": "execute_result"
    }
   ],
   "execution_count": 29
  },
  {
   "metadata": {
    "ExecuteTime": {
     "end_time": "2025-01-16T01:39:58.331161Z",
     "start_time": "2025-01-16T01:39:58.326066Z"
    }
   },
   "cell_type": "code",
   "source": "img",
   "outputs": [
    {
     "data": {
      "text/plain": [
       "<PIL.Image.Image image mode=L size=28x28>"
      ],
      "image/png": "[encoded data removed]",
      "image/jpeg": "[encoded data removed]"
     },
     "execution_count": 30,
     "metadata": {},
     "output_type": "execute_result"
    }
   ],
   "execution_count": 30
  },
  {
   "cell_type": "code",
   "source": [
    "type(img)"
   ],
   "metadata": {
    "collapsed": false,
    "ExecuteTime": {
     "end_time": "2025-01-16T01:39:58.359382Z",
     "start_time": "2025-01-16T01:39:58.355974Z"
    }
   },
   "outputs": [
    {
     "data": {
      "text/plain": [
       "PIL.Image.Image"
      ]
     },
     "execution_count": 31,
     "metadata": {},
     "output_type": "execute_result"
    }
   ],
   "execution_count": 31
  },
  {
   "cell_type": "code",
   "source": [
    "label"
   ],
   "metadata": {
    "collapsed": false,
    "ExecuteTime": {
     "end_time": "2025-01-16T01:39:58.377382Z",
     "start_time": "2025-01-16T01:39:58.371507Z"
    }
   },
   "outputs": [
    {
     "data": {
      "text/plain": [
       "9"
      ]
     },
     "execution_count": 32,
     "metadata": {},
     "output_type": "execute_result"
    }
   ],
   "execution_count": 32
  },
  {
   "cell_type": "code",
   "source": [
    "# 显示图片，这里需要把transforms.ToTensor(),进行归一化注释掉，否则是不行的\n",
    "def show_img_content(img):\n",
    "    from PIL import Image\n",
    "\n",
    "    # 打开一个图像文件\n",
    "    # img = Image.open(img)\n",
    "\n",
    "\n",
    "    print(\"图像大小:\", img.size)\n",
    "    print(\"图像模式:\", img.mode)\n",
    "\n",
    "\n",
    "    # 如果图像是单通道的，比如灰度图，你可以这样获取像素值列表：\n",
    "    if img.mode == 'L':\n",
    "        pixel_values = list(img.getdata())\n",
    "        print(pixel_values)\n",
    "show_img_content(img) #这里必须把上面的 transforms.ToTensor(), # 转换为tensor，进行归一化注释掉，否则是不行的"
   ],
   "metadata": {
    "collapsed": false,
    "ExecuteTime": {
     "end_time": "2025-01-16T01:39:58.398538Z",
     "start_time": "2025-01-16T01:39:58.391116Z"
    }
   },
   "outputs": [
    {
     "name": "stdout",
     "output_type": "stream",
     "text": [
      "图像大小: (28, 28)\n",
      "图像模式: L\n",
      "[0, 0, 0, 0, 0, 0, 0, 0, 0, 0, 0, 0, 0, 0, 0, 0, 0, 0, 0, 0, 0, 0, 0, 0, 0, 0, 0, 0, 0, 0, 0, 0, 0, 0, 0, 0, 0, 0, 0, 0, 0, 0, 0, 0, 0, 0, 0, 0, 0, 0, 0, 0, 0, 0, 0, 0, 0, 0, 0, 0, 0, 0, 0, 0, 0, 0, 0, 0, 0, 0, 0, 0, 0, 0, 0, 0, 0, 0, 0, 0, 0, 0, 0, 0, 0, 0, 0, 0, 0, 0, 0, 0, 0, 0, 0, 0, 1, 0, 0, 13, 73, 0, 0, 1, 4, 0, 0, 0, 0, 1, 1, 0, 0, 0, 0, 0, 0, 0, 0, 0, 0, 0, 0, 0, 3, 0, 36, 136, 127, 62, 54, 0, 0, 0, 1, 3, 4, 0, 0, 3, 0, 0, 0, 0, 0, 0, 0, 0, 0, 0, 0, 0, 6, 0, 102, 204, 176, 134, 144, 123, 23, 0, 0, 0, 0, 12, 10, 0, 0, 0, 0, 0, 0, 0, 0, 0, 0, 0, 0, 0, 0, 0, 155, 236, 207, 178, 107, 156, 161, 109, 64, 23, 77, 130, 72, 15, 0, 0, 0, 0, 0, 0, 0, 0, 0, 0, 0, 1, 0, 69, 207, 223, 218, 216, 216, 163, 127, 121, 122, 146, 141, 88, 172, 66, 0, 0, 0, 0, 0, 0, 0, 0, 0, 1, 1, 1, 0, 200, 232, 232, 233, 229, 223, 223, 215, 213, 164, 127, 123, 196, 229, 0, 0, 0, 0, 0, 0, 0, 0, 0, 0, 0, 0, 0, 0, 183, 225, 216, 223, 228, 235, 227, 224, 222, 224, 221, 223, 245, 173, 0, 0, 0, 0, 0, 0, 0, 0, 0, 0, 0, 0, 0, 0, 193, 228, 218, 213, 198, 180, 212, 210, 211, 213, 223, 220, 243, 202, 0, 0, 0, 0, 0, 0, 0, 0, 0, 0, 1, 3, 0, 12, 219, 220, 212, 218, 192, 169, 227, 208, 218, 224, 212, 226, 197, 209, 52, 0, 0, 0, 0, 0, 0, 0, 0, 0, 0, 6, 0, 99, 244, 222, 220, 218, 203, 198, 221, 215, 213, 222, 220, 245, 119, 167, 56, 0, 0, 0, 0, 0, 0, 0, 0, 0, 4, 0, 0, 55, 236, 228, 230, 228, 240, 232, 213, 218, 223, 234, 217, 217, 209, 92, 0, 0, 0, 1, 4, 6, 7, 2, 0, 0, 0, 0, 0, 237, 226, 217, 223, 222, 219, 222, 221, 216, 223, 229, 215, 218, 255, 77, 0, 0, 3, 0, 0, 0, 0, 0, 0, 0, 62, 145, 204, 228, 207, 213, 221, 218, 208, 211, 218, 224, 223, 219, 215, 224, 244, 159, 0, 0, 0, 0, 0, 18, 44, 82, 107, 189, 228, 220, 222, 217, 226, 200, 205, 211, 230, 224, 234, 176, 188, 250, 248, 233, 238, 215, 0, 0, 57, 187, 208, 224, 221, 224, 208, 204, 214, 208, 209, 200, 159, 245, 193, 206, 223, 255, 255, 221, 234, 221, 211, 220, 232, 246, 0, 3, 202, 228, 224, 221, 211, 211, 214, 205, 205, 205, 220, 240, 80, 150, 255, 229, 221, 188, 154, 191, 210, 204, 209, 222, 228, 225, 0, 98, 233, 198, 210, 222, 229, 229, 234, 249, 220, 194, 215, 217, 241, 65, 73, 106, 117, 168, 219, 221, 215, 217, 223, 223, 224, 229, 29, 75, 204, 212, 204, 193, 205, 211, 225, 216, 185, 197, 206, 198, 213, 240, 195, 227, 245, 239, 223, 218, 212, 209, 222, 220, 221, 230, 67, 48, 203, 183, 194, 213, 197, 185, 190, 194, 192, 202, 214, 219, 221, 220, 236, 225, 216, 199, 206, 186, 181, 177, 172, 181, 205, 206, 115, 0, 122, 219, 193, 179, 171, 183, 196, 204, 210, 213, 207, 211, 210, 200, 196, 194, 191, 195, 191, 198, 192, 176, 156, 167, 177, 210, 92, 0, 0, 74, 189, 212, 191, 175, 172, 175, 181, 185, 188, 189, 188, 193, 198, 204, 209, 210, 210, 211, 188, 188, 194, 192, 216, 170, 0, 2, 0, 0, 0, 66, 200, 222, 237, 239, 242, 246, 243, 244, 221, 220, 193, 191, 179, 182, 182, 181, 176, 166, 168, 99, 58, 0, 0, 0, 0, 0, 0, 0, 0, 0, 40, 61, 44, 72, 41, 35, 0, 0, 0, 0, 0, 0, 0, 0, 0, 0, 0, 0, 0, 0, 0, 0, 0, 0, 0, 0, 0, 0, 0, 0, 0, 0, 0, 0, 0, 0, 0, 0, 0, 0, 0, 0, 0, 0, 0, 0, 0, 0, 0, 0, 0, 0, 0, 0, 0, 0, 0, 0, 0, 0, 0, 0, 0, 0, 0, 0, 0, 0, 0, 0, 0, 0, 0, 0, 0, 0, 0]\n"
     ]
    }
   ],
   "execution_count": 33
  },
  {
   "cell_type": "code",
   "source": [
    "#这个代码必须是注释了上面的 transforms.ToTensor()才能够运行的\n",
    "def show_single_image(img_arr):\n",
    "    plt.imshow(img_arr, cmap=\"binary\") # 显示图片 cmap=\"binary\"用二进制的颜色映射方式显示图像\n",
    "    plt.colorbar() # 显示颜色条\n",
    "    plt.show()\n",
    "\n",
    "\n",
    "show_single_image(img)"
   ],
   "metadata": {
    "collapsed": false,
    "ExecuteTime": {
     "end_time": "2025-01-16T01:39:58.615457Z",
     "start_time": "2025-01-16T01:39:58.425247Z"
    }
   },
   "outputs": [
    {
     "data": {
      "text/plain": [
       "<Figure size 640x480 with 2 Axes>"
      ],
      "image/png": "[encoded data removed]"
     },
     "metadata": {},
     "output_type": "display_data"
    }
   ],
   "execution_count": 34
  },
  {
   "metadata": {},
   "cell_type": "markdown",
   "source": "# 数据准备2，为训练做准备"
  },
  {
   "metadata": {
    "ExecuteTime": {
     "end_time": "2025-01-16T02:05:20.508892Z",
     "start_time": "2025-01-16T02:05:20.477238Z"
    }
   },
   "cell_type": "code",
   "source": [
    "from torchvision import datasets\n",
    "from torchvision.transforms import ToTensor\n",
    "from torchvision import transforms\n",
    "\n",
    "mean=0.2860\n",
    "std=0.3205\n",
    "\n",
    "\n",
    "# 定义数据集的变换\n",
    "transform = transforms.Compose([\n",
    "    transforms.ToTensor(), # 转换为tensor，进行归一化\n",
    "    transforms.Normalize(mean, std) # 标准化，mean和std是数据集的均值和方差\n",
    "])\n",
    "# fashion_mnist图像分类数据集，衣服分类，60000张训练图片，10000张测试图片\n",
    "train_ds = datasets.FashionMNIST(\n",
    "    root=\"data\",\n",
    "    train=True,\n",
    "    download=True,\n",
    "    transform=transform\n",
    ")\n",
    "\n",
    "test_ds = datasets.FashionMNIST(\n",
    "    root=\"data\",\n",
    "    train=False,\n",
    "    download=True,\n",
    "    transform=transform\n",
    ")\n",
    "\n",
    "# torchvision 数据集里没有提供训练集和验证集的划分\n",
    "# 当然也可以用 torch.utils.data.Dataset 实现人为划分"
   ],
   "outputs": [],
   "execution_count": 57
  },
  {
   "metadata": {
    "ExecuteTime": {
     "end_time": "2025-01-16T02:05:22.759782Z",
     "start_time": "2025-01-16T02:05:22.753209Z"
    }
   },
   "cell_type": "code",
   "source": [
    "img, label = train_ds[0]\n",
    "img.shape  #img这时是一个tensor，shape=(1, 28, 28)"
   ],
   "outputs": [
    {
     "data": {
      "text/plain": [
       "torch.Size([1, 28, 28])"
      ]
     },
     "execution_count": 58,
     "metadata": {},
     "output_type": "execute_result"
    }
   ],
   "execution_count": 58
  },
  {
   "metadata": {
    "ExecuteTime": {
     "end_time": "2025-01-16T02:05:28.854382Z",
     "start_time": "2025-01-16T02:05:24.986525Z"
    }
   },
   "cell_type": "code",
   "source": [
    "#计算均值和方差\n",
    "def cal_mean_std(ds):\n",
    "    mean = 0.\n",
    "    std = 0.\n",
    "    for img, _ in ds:  # 遍历每张图片,img.shape=[1,28,28]     # _即是label\n",
    "        mean += img.mean(dim=(1, 2))  # 计算每张图片的均值，dim=(1, 2)表示计算每张图片的每一个像素的均值,行列共同求均值\n",
    "        std += img.std(dim=(1, 2))\n",
    "    mean /= len(ds)\n",
    "    std /= len(ds)\n",
    "    return mean, std\n",
    "\n",
    "\n",
    "print(cal_mean_std(train_ds))\n"
   ],
   "outputs": [
    {
     "name": "stdout",
     "output_type": "stream",
     "text": [
      "(tensor([0.0001]), tensor([0.9999]))\n"
     ]
    }
   ],
   "execution_count": 59
  },
  {
   "cell_type": "code",
   "metadata": {
    "ExecuteTime": {
     "end_time": "2025-01-16T01:40:01.419850Z",
     "start_time": "2025-01-16T01:40:01.237689Z"
    }
   },
   "source": [
    "def show_imgs(n_rows, n_cols, train_ds, class_names):\n",
    "    assert n_rows * n_cols < len(train_ds)  #确保打印的图片小于总样本数\n",
    "    plt.figure(figsize = (n_cols * 1.4, n_rows * 1.6))  #宽1.4高1.6，宽，高\n",
    "    for row in range(n_rows):\n",
    "        for col in range(n_cols):\n",
    "            index = n_cols * row + col  # 计算索引，从0开始\n",
    "            plt.subplot(n_rows, n_cols, index+1)#因为从1开始\n",
    "            img_arr, label = train_ds[index]\n",
    "            img_arr = np.transpose(img_arr, (1, 2, 0))  # 通道换到最后一维\n",
    "            plt.imshow(img_arr, cmap=\"binary\",\n",
    "                       interpolation = 'nearest')#interpolation='nearest'是临近插值\n",
    "            plt.axis('off')#去除坐标系\n",
    "            plt.title(class_names[label]) # 显示类别名称\n",
    "    plt.show()\n",
    "    \n",
    "    \n",
    "\n",
    "#已知的图片类别\n",
    "# lables在这个路径https://github.com/zalandoresearch/fashion-mnist\n",
    "class_names = ['T-shirt', 'Trouser', 'Pullover', 'Dress',\n",
    "               'Coat', 'Sandal', 'Shirt', 'Sneaker',\n",
    "               'Bag', 'Ankle boot'] #0-9分别代表的类别\n",
    "#只是打印了前15个样本\n",
    "show_imgs(3, 5, train_ds, class_names)\n"
   ],
   "outputs": [
    {
     "data": {
      "text/plain": [
       "<Figure size 700x480 with 15 Axes>"
      ],
      "image/png": "[encoded data removed]"
     },
     "metadata": {},
     "output_type": "display_data"
    }
   ],
   "execution_count": 38
  },
  {
   "cell_type": "code",
   "metadata": {
    "ExecuteTime": {
     "end_time": "2025-01-16T01:40:01.423941Z",
     "start_time": "2025-01-16T01:40:01.419850Z"
    }
   },
   "source": [
    "# 从数据集到dataloader\n",
    "train_loader = torch.utils.data.DataLoader(train_ds, batch_size=32, shuffle=True) #batch_size分批，shuffle洗牌\n",
    "val_loader = torch.utils.data.DataLoader(test_ds, batch_size=32, shuffle=False)"
   ],
   "outputs": [],
   "execution_count": 39
  },
  {
   "cell_type": "markdown",
   "source": [
    "在PyTorch中，`DataLoader`是一个迭代器，它封装了数据的加载和预处理过程，使得在训练机器学习模型时可以方便地批量加载数据。`DataLoader`主要负责以下几个方面：\n",
    "\n",
    "1. **批量加载数据**：`DataLoader`可以将数据集（Dataset）切分为更小的批次（batch），每次迭代提供一小批量数据，而不是单个数据点。这有助于模型学习数据中的统计依赖性，并且可以更高效地利用GPU等硬件的并行计算能力。\n",
    "\n",
    "2. **数据打乱**：默认情况下，`DataLoader`会在每个epoch（训练周期）开始时打乱数据的顺序。这有助于模型训练时避免陷入局部最优解，并且可以提高模型的泛化能力。\n",
    "\n",
    "3. **多线程数据加载**：`DataLoader`支持多线程（通过参数`num_workers`）来并行地加载数据，这可以显著减少训练过程中的等待时间，尤其是在处理大规模数据集时。\n",
    "\n",
    "4. **数据预处理**：`DataLoader`可以与`transforms`结合使用，对加载的数据进行预处理，如归一化、标准化、数据增强等操作。\n",
    "\n",
    "5. **内存管理**：`DataLoader`负责管理数据的内存使用，确保在训练过程中不会耗尽内存资源。\n",
    "\n",
    "6. **易用性**：`DataLoader`提供了一个简单的接口，可以很容易地集成到训练循环中。\n",
    "\n"
   ],
   "metadata": {
    "collapsed": false
   }
  },
  {
   "metadata": {
    "ExecuteTime": {
     "end_time": "2025-01-16T01:40:01.441388Z",
     "start_time": "2025-01-16T01:40:01.423941Z"
    }
   },
   "cell_type": "code",
   "source": [
    "for datas, labels in train_loader:\n",
    "    print(datas.shape)      # 1代表单通道图片\n",
    "    print(labels.shape)\n",
    "    break\n",
    "#查看val_loader\n",
    "for datas, labels in val_loader:\n",
    "    print(datas.shape)\n",
    "    print(labels.shape)\n",
    "    break"
   ],
   "outputs": [
    {
     "name": "stdout",
     "output_type": "stream",
     "text": [
      "torch.Size([32, 1, 28, 28])\n",
      "torch.Size([32])\n",
      "torch.Size([32, 1, 28, 28])\n",
      "torch.Size([32])\n"
     ]
    }
   ],
   "execution_count": 40
  },
  {
   "cell_type": "markdown",
   "metadata": {},
   "source": [
    "## 定义模型"
   ]
  },
  {
   "cell_type": "code",
   "metadata": {
    "ExecuteTime": {
     "end_time": "2025-01-16T01:40:01.447790Z",
     "start_time": "2025-01-16T01:40:01.441388Z"
    }
   },
   "source": [
    "class NeuralNetwork(nn.Module):\n",
    "    def __init__(self):\n",
    "        super().__init__() # 继承父类的初始化方法，子类有父类的属性\n",
    "        self.flatten = nn.Flatten()  # 展平层\n",
    "        self.linear_relu_stack = nn.Sequential(\n",
    "            nn.Linear(784, 300),  # in_features=784, out_features=300, 784是输入特征数，300是输出特征数  全连接层\n",
    "            nn.ReLU(), # 激活函数\n",
    "            nn.Linear(300, 100),#隐藏层神经元数100\n",
    "            nn.ReLU(), # 激活函数\n",
    "            nn.Linear(100, 10),#输出层神经元数10 \n",
    "        )\n",
    "\n",
    "    def forward(self, x): # 前向计算，前向传播\n",
    "        # x.shape [batch size, 1, 28, 28],1是通道数\n",
    "        \n",
    "        x = self.flatten(x)  \n",
    "        # print(f'x.shape--{x.shape}')\n",
    "        # 展平后 x.shape [batch size, 784]\n",
    "        \n",
    "        logits = self.linear_relu_stack(x)\n",
    "        # logits.shape [batch size, 10]\n",
    "        return logits #没有经过softmax,称为logits\n",
    "        #logits 通常指的是经过模型（例如全连接层）处理后得到的原始输出值。这些输出值表示每个类别的 \"得分\" 或 \"激活值\"，但它们并没有经过 softmax 函数进行归一化。这些输出通常用于后续的计算，比如计算损失函数（例如交叉熵损失函数）\n",
    "    \n",
    "model = NeuralNetwork()"
   ],
   "outputs": [],
   "execution_count": 41
  },
  {
   "cell_type": "code",
   "metadata": {
    "ExecuteTime": {
     "end_time": "2025-01-16T01:40:01.456254Z",
     "start_time": "2025-01-16T01:40:01.447790Z"
    }
   },
   "source": [
    "# 看看网络结构\n",
    "model"
   ],
   "outputs": [
    {
     "data": {
      "text/plain": [
       "NeuralNetwork(\n",
       "  (flatten): Flatten(start_dim=1, end_dim=-1)\n",
       "  (linear_relu_stack): Sequential(\n",
       "    (0): Linear(in_features=784, out_features=300, bias=True)\n",
       "    (1): ReLU()\n",
       "    (2): Linear(in_features=300, out_features=100, bias=True)\n",
       "    (3): ReLU()\n",
       "    (4): Linear(in_features=100, out_features=10, bias=True)\n",
       "  )\n",
       ")"
      ]
     },
     "execution_count": 42,
     "metadata": {},
     "output_type": "execute_result"
    }
   ],
   "execution_count": 42
  },
  {
   "metadata": {
    "ExecuteTime": {
     "end_time": "2025-01-16T01:40:01.486658Z",
     "start_time": "2025-01-16T01:40:01.456254Z"
    }
   },
   "cell_type": "code",
   "source": [
    "#为了查看模型运算的tensor尺寸\n",
    "x = torch.randn(32, 1, 28, 28)  # 创建一个正态分布的随机张量     32：表示 批量大小（batch size）\n",
    "print(x.shape)\n",
    "logits = model(x)\n",
    "print(logits.shape)"
   ],
   "outputs": [
    {
     "name": "stdout",
     "output_type": "stream",
     "text": [
      "torch.Size([32, 1, 28, 28])\n",
      "torch.Size([32, 10])\n"
     ]
    }
   ],
   "execution_count": 43
  },
  {
   "cell_type": "code",
   "source": [
    "784*300+300+300*100+100+100*10+10"
   ],
   "metadata": {
    "collapsed": false,
    "ExecuteTime": {
     "end_time": "2025-01-16T01:40:01.491319Z",
     "start_time": "2025-01-16T01:40:01.486658Z"
    }
   },
   "outputs": [
    {
     "data": {
      "text/plain": [
       "266610"
      ]
     },
     "execution_count": 44,
     "metadata": {},
     "output_type": "execute_result"
    }
   ],
   "execution_count": 44
  },
  {
   "cell_type": "code",
   "metadata": {
    "ExecuteTime": {
     "end_time": "2025-01-16T01:40:01.499236Z",
     "start_time": "2025-01-16T01:40:01.491319Z"
    }
   },
   "source": [
    "for name, param in model.named_parameters(): # 打印模型参数\n",
    "      print(name, param.shape)\n",
    "      \n",
    "\n",
    "# 神经元个数 784-300-100-10"
   ],
   "outputs": [
    {
     "name": "stdout",
     "output_type": "stream",
     "text": [
      "linear_relu_stack.0.weight torch.Size([300, 784])\n",
      "linear_relu_stack.0.bias torch.Size([300])\n",
      "linear_relu_stack.2.weight torch.Size([100, 300])\n",
      "linear_relu_stack.2.bias torch.Size([100])\n",
      "linear_relu_stack.4.weight torch.Size([10, 100])\n",
      "linear_relu_stack.4.bias torch.Size([10])\n"
     ]
    }
   ],
   "execution_count": 45
  },
  {
   "cell_type": "code",
   "metadata": {
    "ExecuteTime": {
     "end_time": "2025-01-16T01:40:01.524340Z",
     "start_time": "2025-01-16T01:40:01.499236Z"
    }
   },
   "source": [
    "# 看看模型参数\n",
    "list(model.parameters())  # 这种方法拿到模型的所有可学习参数,requires_grad=True\n"
   ],
   "outputs": [
    {
     "data": {
      "text/plain": [
       "[Parameter containing:\n",
       " tensor([[ 0.0156,  0.0308,  0.0203,  ..., -0.0153,  0.0044,  0.0316],\n",
       "         [ 0.0074,  0.0018,  0.0200,  ..., -0.0027,  0.0062, -0.0108],\n",
       "         [-0.0112,  0.0087, -0.0302,  ..., -0.0133, -0.0094,  0.0219],\n",
       "         ...,\n",
       "         [ 0.0264, -0.0333, -0.0219,  ...,  0.0234, -0.0340,  0.0107],\n",
       "         [-0.0150, -0.0139, -0.0003,  ..., -0.0117,  0.0008, -0.0185],\n",
       "         [-0.0126,  0.0174,  0.0163,  ...,  0.0029,  0.0127, -0.0175]],\n",
       "        requires_grad=True),\n",
       " Parameter containing:\n",
       " tensor([ 1.6280e-02, -2.5340e-02, -1.1648e-02,  1.9335e-02,  1.5334e-02,\n",
       "          4.1762e-03,  1.6911e-02,  2.0605e-02, -1.7930e-02,  7.0353e-03,\n",
       "         -3.5514e-02, -2.6660e-02,  2.3299e-02,  2.3166e-02,  1.3092e-03,\n",
       "          3.1410e-02, -3.1289e-02, -3.4375e-02,  2.4131e-02, -2.3548e-02,\n",
       "          1.8572e-02, -3.2072e-02, -3.2280e-02, -2.6650e-02,  2.6295e-02,\n",
       "         -7.9195e-03,  2.5684e-02,  2.8259e-02,  2.3443e-02, -2.1011e-02,\n",
       "          2.2597e-02, -2.1852e-02,  3.1827e-02, -1.2537e-03, -1.9941e-02,\n",
       "         -8.1893e-03, -9.9201e-03, -5.5117e-03,  1.0353e-02, -1.6015e-02,\n",
       "         -1.3901e-02,  3.3808e-02, -3.4759e-02, -3.3515e-02, -3.2935e-02,\n",
       "         -1.6962e-02,  1.4866e-02, -9.3016e-03,  2.9038e-02, -1.4567e-02,\n",
       "          1.0158e-02,  1.2193e-03,  2.0669e-02,  1.8334e-02, -3.5211e-02,\n",
       "         -3.1255e-02,  1.7829e-02, -2.1040e-02,  5.6157e-03, -2.5627e-02,\n",
       "          4.7551e-03, -2.8992e-02,  1.1991e-04, -9.3422e-03, -8.2617e-03,\n",
       "         -2.2867e-02,  2.4977e-02,  1.8868e-02,  1.3114e-02,  1.2228e-02,\n",
       "          2.2457e-02, -1.5971e-03,  1.1518e-02,  2.7704e-02, -7.7930e-04,\n",
       "         -1.1919e-02,  1.4656e-02, -2.0061e-02,  2.1129e-02,  2.1404e-02,\n",
       "         -1.9550e-02, -1.5887e-02,  1.4693e-02, -2.3493e-02,  2.5746e-02,\n",
       "          1.0638e-02,  3.5471e-02,  1.6881e-02, -6.8391e-03, -1.1960e-02,\n",
       "          2.6655e-02, -5.1956e-03,  2.8324e-02, -2.2434e-02, -1.2838e-02,\n",
       "          2.1912e-02,  2.8409e-02,  1.8346e-02,  3.5268e-02,  8.8363e-03,\n",
       "          6.3811e-03,  1.8605e-02,  3.1765e-02, -3.0629e-02, -3.2433e-03,\n",
       "         -1.9546e-02, -1.6733e-02,  2.3953e-02,  3.3838e-02, -1.1072e-02,\n",
       "         -2.0014e-02,  3.5346e-02, -8.9859e-03, -2.2434e-02,  2.1056e-02,\n",
       "          1.7008e-02,  2.5236e-02,  1.7625e-02, -1.5152e-02, -3.2034e-03,\n",
       "         -1.6245e-02,  7.9479e-03, -2.5555e-02, -2.6230e-02, -1.3556e-02,\n",
       "         -4.1032e-03, -1.5288e-02, -1.4026e-02, -3.2632e-02,  8.1714e-03,\n",
       "          8.1247e-03,  1.9744e-02, -3.1816e-02, -1.9910e-02,  7.2004e-03,\n",
       "         -2.0584e-02, -4.2399e-03, -1.7731e-02,  5.8785e-03,  1.2517e-02,\n",
       "         -2.1711e-02, -5.7646e-03,  2.9672e-02, -1.1828e-02, -3.7707e-03,\n",
       "          1.7351e-02,  2.1216e-02,  5.7575e-03, -2.0504e-02,  1.1533e-02,\n",
       "          4.7338e-03, -1.0025e-02,  1.3473e-02, -7.0287e-03,  1.6635e-02,\n",
       "         -1.3473e-02, -3.4999e-02,  2.6341e-02, -1.3157e-02,  2.7057e-02,\n",
       "          2.7064e-02, -3.5048e-02,  1.1487e-02, -2.4428e-02, -2.0146e-02,\n",
       "         -4.6981e-03, -2.9472e-02, -3.1557e-02, -3.3825e-02,  3.2294e-02,\n",
       "          1.9490e-02,  1.9724e-04,  1.1601e-02, -2.6358e-02, -4.9972e-03,\n",
       "         -2.6730e-02, -3.0237e-02,  9.1855e-03,  2.1708e-02, -6.5182e-04,\n",
       "         -3.2770e-02,  1.9411e-02,  2.6340e-02, -2.8962e-02, -2.7405e-02,\n",
       "         -1.1503e-02, -2.9557e-02, -9.1489e-05,  1.2779e-02, -2.5851e-02,\n",
       "         -1.9730e-02, -2.3431e-02, -3.1885e-02, -1.5763e-02, -9.8743e-03,\n",
       "          3.2197e-02,  3.4047e-02,  2.2693e-03,  5.4927e-03,  2.3935e-02,\n",
       "         -3.2440e-02, -3.4140e-03,  2.5220e-02,  2.3647e-02,  1.9937e-02,\n",
       "          3.6198e-03,  9.0803e-03, -6.9755e-03, -3.3842e-02, -4.0026e-03,\n",
       "         -1.0814e-02,  2.7825e-02, -3.2727e-02, -3.4148e-03, -2.0367e-03,\n",
       "          1.4391e-02, -2.1794e-02,  1.0841e-02, -1.4289e-02, -1.7584e-02,\n",
       "          2.4282e-02,  8.1144e-03, -4.4400e-03, -4.9907e-03, -2.9707e-02,\n",
       "          2.8401e-02,  2.6166e-02,  1.3935e-02,  4.9303e-04,  1.3103e-02,\n",
       "         -1.8037e-02, -2.3418e-03,  2.6436e-03, -3.0698e-03,  2.5462e-02,\n",
       "          4.9987e-03, -1.1585e-02, -4.9586e-03,  7.7930e-03, -2.5059e-02,\n",
       "         -5.1805e-03, -2.8602e-02,  1.1266e-02, -8.2444e-03, -5.2669e-03,\n",
       "         -1.5252e-02, -1.5265e-02,  4.8253e-03, -8.5581e-03, -2.3598e-02,\n",
       "         -1.9287e-02, -2.6435e-02, -2.2780e-02, -3.0587e-02, -2.3459e-02,\n",
       "          2.2823e-02, -2.2046e-02,  1.2059e-02, -1.7453e-03, -3.3803e-02,\n",
       "         -2.5740e-02, -9.0394e-03, -1.3041e-02, -3.2318e-03,  8.2096e-03,\n",
       "         -1.2776e-02,  3.5109e-02,  2.6824e-02,  1.2038e-02,  3.5823e-04,\n",
       "         -3.2689e-02, -2.3021e-03,  1.2649e-02,  3.4808e-02, -2.1649e-02,\n",
       "         -2.7762e-02,  2.8310e-03,  2.8345e-03,  3.1300e-02, -2.2526e-02,\n",
       "          1.6304e-02,  1.7836e-02, -1.5102e-02,  1.5253e-03, -2.2037e-02,\n",
       "         -2.4228e-02,  2.0769e-02,  3.3779e-03, -1.0191e-02,  2.2361e-02,\n",
       "          7.5342e-03,  1.6666e-02,  1.0087e-02, -1.7569e-02, -1.2620e-02,\n",
       "         -1.8694e-03, -1.7948e-02, -3.3511e-02,  1.7884e-02, -1.4346e-02],\n",
       "        requires_grad=True),\n",
       " Parameter containing:\n",
       " tensor([[ 0.0219, -0.0509, -0.0291,  ...,  0.0507, -0.0088, -0.0186],\n",
       "         [ 0.0316, -0.0003,  0.0559,  ...,  0.0481, -0.0420,  0.0020],\n",
       "         [-0.0465,  0.0455,  0.0542,  ..., -0.0274,  0.0564, -0.0464],\n",
       "         ...,\n",
       "         [-0.0517, -0.0505,  0.0138,  ...,  0.0544,  0.0055,  0.0478],\n",
       "         [ 0.0295, -0.0358,  0.0510,  ..., -0.0548, -0.0493,  0.0021],\n",
       "         [ 0.0293,  0.0089,  0.0563,  ...,  0.0434,  0.0207, -0.0524]],\n",
       "        requires_grad=True),\n",
       " Parameter containing:\n",
       " tensor([-0.0313, -0.0147,  0.0101, -0.0216, -0.0088, -0.0449,  0.0452,  0.0389,\n",
       "         -0.0182,  0.0498, -0.0479, -0.0503,  0.0570, -0.0448, -0.0223,  0.0380,\n",
       "          0.0319,  0.0479,  0.0338,  0.0102,  0.0345, -0.0451,  0.0217, -0.0530,\n",
       "          0.0437, -0.0015,  0.0523, -0.0575, -0.0420, -0.0471,  0.0141,  0.0159,\n",
       "         -0.0137, -0.0182,  0.0125,  0.0224,  0.0215, -0.0054, -0.0314,  0.0457,\n",
       "         -0.0520, -0.0328, -0.0477, -0.0419,  0.0274, -0.0558,  0.0251,  0.0529,\n",
       "          0.0417,  0.0381, -0.0394, -0.0265,  0.0283,  0.0384, -0.0040, -0.0289,\n",
       "          0.0573,  0.0343, -0.0403, -0.0315,  0.0216,  0.0367, -0.0266, -0.0074,\n",
       "          0.0053,  0.0198, -0.0079, -0.0128,  0.0364,  0.0484, -0.0049,  0.0396,\n",
       "          0.0535,  0.0210, -0.0174,  0.0105,  0.0390, -0.0015, -0.0541,  0.0144,\n",
       "         -0.0577, -0.0078, -0.0574,  0.0132, -0.0488, -0.0501, -0.0250, -0.0415,\n",
       "         -0.0475,  0.0536,  0.0524, -0.0454, -0.0450, -0.0005, -0.0328, -0.0221,\n",
       "         -0.0551,  0.0036, -0.0460,  0.0562], requires_grad=True),\n",
       " Parameter containing:\n",
       " tensor([[-4.6375e-02,  1.0714e-02, -8.3243e-02,  9.3470e-02, -3.2522e-02,\n",
       "           1.4784e-02,  6.5668e-02, -4.2569e-02, -9.6438e-02, -7.4272e-02,\n",
       "          -6.2952e-02, -5.5095e-02, -9.3028e-03,  8.0339e-02, -2.8345e-02,\n",
       "          -3.9831e-02,  4.3628e-02, -5.7128e-02, -6.1901e-02,  1.2614e-02,\n",
       "           3.1713e-02,  2.2962e-02,  2.5162e-02, -3.6915e-02, -1.9239e-02,\n",
       "          -2.5631e-02, -3.1383e-02, -1.6010e-02, -4.9618e-02, -9.0883e-03,\n",
       "           6.7782e-02,  5.8980e-02,  5.9235e-02,  9.2775e-02,  4.5726e-02,\n",
       "          -6.4527e-02,  2.6330e-02, -3.5770e-02, -8.2012e-02, -2.7227e-02,\n",
       "          -2.2255e-02,  6.4012e-02, -6.4923e-02, -3.7250e-02,  3.4302e-02,\n",
       "          -5.0392e-03, -8.8471e-02, -3.9776e-02, -6.7428e-02,  6.2898e-02,\n",
       "          -3.6477e-02, -5.9978e-02, -9.1155e-02, -3.4045e-02,  5.9363e-02,\n",
       "          -8.6428e-04,  2.7454e-03,  9.6098e-03,  5.2223e-02,  7.0901e-02,\n",
       "           6.0674e-02, -6.1972e-02,  5.9995e-02, -6.1321e-04, -8.5284e-03,\n",
       "           4.6003e-04, -3.1439e-02,  1.1448e-02, -5.6795e-02,  5.2925e-03,\n",
       "          -9.2791e-02, -8.8399e-02,  1.8626e-02, -5.6780e-02, -9.8701e-02,\n",
       "           2.4462e-03,  2.4236e-02,  1.7712e-02,  2.2920e-02,  7.4921e-03,\n",
       "           4.9490e-02, -9.9304e-02, -1.4872e-02,  5.2671e-04,  3.7432e-03,\n",
       "           8.1275e-02, -8.9184e-02,  3.4386e-02, -5.1329e-03,  4.3995e-02,\n",
       "           4.7749e-03,  7.5956e-03, -4.5611e-02,  8.2467e-02,  5.3482e-02,\n",
       "           8.5300e-02,  9.7952e-02,  9.1826e-02, -7.6295e-02,  5.1771e-02],\n",
       "         [ 2.7230e-02, -7.9987e-03, -6.4418e-02, -9.3395e-02,  4.8573e-02,\n",
       "          -9.7312e-02, -6.4366e-02,  6.0934e-02,  3.2837e-02,  2.8914e-02,\n",
       "          -7.8259e-02,  6.9546e-03, -4.9076e-04,  7.5697e-02,  3.2385e-02,\n",
       "           2.4639e-02, -9.2504e-02, -5.6687e-02, -6.8221e-02, -7.8676e-03,\n",
       "           1.6744e-02,  4.7413e-02, -6.3879e-02, -8.0321e-02, -7.3860e-02,\n",
       "           4.4965e-02,  3.3400e-02, -3.3773e-02, -1.0449e-02,  7.2539e-02,\n",
       "          -2.4407e-02,  9.4803e-02, -4.0789e-02,  4.0672e-02,  9.9369e-02,\n",
       "           1.6644e-02, -5.2269e-03, -7.3784e-02, -1.0599e-02,  9.7738e-02,\n",
       "          -1.3491e-02,  8.1826e-02,  3.8148e-03,  7.3163e-02,  9.9091e-02,\n",
       "           9.2960e-02,  2.5724e-02, -3.1986e-02,  1.1297e-02,  3.9244e-03,\n",
       "           1.1251e-02, -3.0578e-02,  1.4188e-02,  6.6481e-02,  6.6305e-02,\n",
       "          -3.0547e-02,  6.8722e-02, -5.7427e-02,  9.5678e-02,  3.1376e-02,\n",
       "           6.6408e-02,  9.7686e-03,  9.3546e-02,  7.1914e-02, -2.5435e-02,\n",
       "          -7.0577e-02, -2.4604e-02, -1.4617e-02,  1.4094e-02, -6.7804e-02,\n",
       "          -5.7550e-02, -4.1963e-02, -2.5336e-04,  6.4989e-02,  3.6593e-03,\n",
       "           8.7302e-02,  1.0089e-02, -4.9627e-02,  5.5398e-02,  5.4560e-02,\n",
       "          -9.0655e-02, -2.5390e-02, -9.4346e-03,  5.4439e-02,  8.2932e-02,\n",
       "          -4.2969e-02, -6.1517e-02,  1.8388e-02, -8.4570e-02,  2.4310e-02,\n",
       "           4.8981e-02, -5.4554e-02,  1.4281e-03, -8.1435e-02, -5.6794e-02,\n",
       "          -5.0841e-02, -9.6102e-03,  3.1858e-03,  7.2706e-02,  9.3505e-03],\n",
       "         [ 4.8003e-02,  5.7454e-02, -8.4222e-03, -6.4980e-02, -8.7502e-02,\n",
       "          -9.0123e-02, -6.8018e-02, -5.6328e-02, -6.2156e-02, -4.8921e-02,\n",
       "           7.7510e-02, -2.8858e-03,  9.3254e-02, -7.5665e-02, -4.3121e-02,\n",
       "           8.4952e-02,  5.3432e-02,  9.4880e-02, -7.4549e-02,  3.4585e-02,\n",
       "           8.8391e-02,  4.6240e-02, -3.8574e-02,  4.0820e-02, -9.9586e-02,\n",
       "          -7.7412e-02,  8.2724e-02,  4.4493e-02, -7.4118e-02, -1.4701e-02,\n",
       "           7.1016e-02,  4.3236e-02, -6.3147e-02,  1.5931e-02, -6.2224e-02,\n",
       "          -3.5258e-02, -6.1696e-02,  5.6817e-02, -8.8519e-02,  6.1995e-02,\n",
       "           6.1367e-02,  6.8469e-02, -8.7982e-02,  6.2771e-02,  7.9536e-02,\n",
       "          -5.2023e-02, -5.1735e-03, -4.7037e-02,  3.3305e-02,  4.4999e-02,\n",
       "          -5.5962e-02,  2.8448e-02,  3.2838e-02,  4.7685e-02, -6.3593e-02,\n",
       "           9.1783e-02, -1.3879e-02, -5.3539e-02, -5.2711e-02, -7.7287e-02,\n",
       "           2.6386e-02, -7.4270e-02, -4.6767e-02,  2.2091e-02,  5.7423e-02,\n",
       "           7.2484e-02,  9.4739e-02,  3.1098e-03, -5.2776e-02, -2.3436e-03,\n",
       "           1.7349e-02,  2.3333e-02, -2.0050e-02, -5.7070e-02,  6.2957e-02,\n",
       "           4.9723e-02, -2.2295e-02, -4.0482e-02, -6.8281e-02, -8.5986e-02,\n",
       "           8.4688e-02, -7.9853e-02, -5.5503e-02,  1.9190e-02,  8.2761e-02,\n",
       "           8.0478e-02, -4.2244e-02,  8.9454e-02,  5.5436e-02, -5.3959e-03,\n",
       "          -8.2678e-02,  2.5431e-02, -3.6997e-02,  3.9738e-02,  3.2522e-02,\n",
       "           5.8944e-02,  1.8526e-02,  5.3403e-03,  4.1871e-02, -5.1704e-02],\n",
       "         [-8.1999e-02, -6.7894e-02,  9.5515e-02,  6.8085e-02, -9.3241e-02,\n",
       "          -2.0305e-02, -6.9649e-02, -7.3755e-04, -6.3378e-02, -4.5400e-02,\n",
       "          -1.9553e-02,  9.2061e-02,  4.0552e-02, -7.8033e-02,  3.0602e-02,\n",
       "          -2.6082e-02, -4.8905e-02, -5.1301e-03,  5.8059e-02,  4.8988e-02,\n",
       "           3.9927e-02, -8.9986e-02,  4.5703e-02, -3.7299e-02,  7.0383e-02,\n",
       "          -3.0826e-02,  5.6479e-02, -2.5622e-04, -6.2429e-02,  8.9236e-02,\n",
       "           1.6837e-02, -1.1888e-02,  1.2385e-03, -9.0172e-02, -7.5074e-02,\n",
       "           9.4250e-02, -8.9108e-02,  9.7515e-02, -5.1219e-02,  9.6313e-03,\n",
       "          -9.9816e-02, -6.2647e-02,  9.3920e-02,  3.3470e-02,  2.1869e-02,\n",
       "           5.8126e-02, -2.8200e-02,  8.2545e-02,  9.8966e-02, -7.5625e-02,\n",
       "           4.0404e-02,  6.6100e-02, -5.4585e-02,  1.4137e-02,  8.4843e-02,\n",
       "           1.2474e-02, -2.6267e-03, -3.2863e-02, -5.4917e-02,  8.7976e-05,\n",
       "           2.0695e-02,  5.9922e-03, -9.1934e-02,  4.1115e-02, -8.1613e-02,\n",
       "           7.2261e-02,  6.8630e-02,  6.2352e-02,  6.2075e-03, -1.7066e-02,\n",
       "          -3.8751e-02,  7.8644e-02, -9.4375e-02, -3.6787e-02, -4.3206e-02,\n",
       "          -3.5790e-02, -8.8358e-02, -8.1493e-02,  2.2714e-02,  8.4210e-02,\n",
       "          -5.4892e-02, -6.2231e-02, -6.3672e-02, -7.5628e-02,  2.8412e-02,\n",
       "           1.7741e-02,  4.1911e-02, -8.5120e-02,  7.3085e-02, -4.5327e-02,\n",
       "          -5.6515e-02, -3.2612e-02, -2.8910e-02,  5.2778e-02,  1.7620e-02,\n",
       "          -1.9012e-02,  1.0172e-03, -6.6961e-02, -6.8865e-02,  6.3923e-02],\n",
       "         [-7.0839e-02,  3.5306e-02, -1.4369e-02, -3.2805e-02, -3.7347e-02,\n",
       "           6.1157e-02, -3.1420e-02, -9.9158e-02, -9.6099e-02,  9.0619e-02,\n",
       "           7.0016e-02,  9.3299e-02,  6.4068e-02,  7.9410e-02, -1.0004e-02,\n",
       "           6.1846e-02, -4.6600e-02,  6.3780e-02,  5.5856e-02, -2.0088e-02,\n",
       "          -2.6365e-02,  6.5684e-02,  3.5726e-02, -8.3843e-02,  1.0135e-02,\n",
       "          -3.4973e-02, -7.6924e-02, -4.3146e-02,  2.9125e-02, -6.7956e-02,\n",
       "          -8.8603e-02, -1.4197e-03,  6.3581e-02, -3.5643e-02,  8.7931e-02,\n",
       "          -3.2473e-02,  1.2124e-02, -7.6974e-02,  5.3435e-02,  1.6775e-02,\n",
       "           1.0656e-02, -1.2063e-02,  7.2247e-02, -9.8498e-02,  4.6612e-03,\n",
       "           8.5767e-02, -6.5523e-02, -8.6934e-02, -5.0769e-02,  2.9792e-03,\n",
       "          -4.6155e-02,  1.4158e-02, -5.3629e-02, -5.8761e-02, -7.2214e-02,\n",
       "          -5.0257e-02,  7.6610e-02, -4.6939e-02,  3.4740e-03, -6.9134e-03,\n",
       "           4.2500e-02,  8.9232e-03,  3.2908e-02, -8.0915e-02, -2.4876e-02,\n",
       "           4.7319e-02, -2.8530e-02, -7.8462e-02, -9.8186e-03, -2.9779e-02,\n",
       "           1.6036e-03, -5.0392e-02, -6.7480e-02, -9.3840e-03, -2.7441e-02,\n",
       "           2.3074e-02,  6.4026e-02, -1.2888e-02, -4.3648e-02, -9.4989e-02,\n",
       "          -3.2834e-02,  4.5766e-02, -2.2621e-02, -4.5144e-02,  7.8939e-02,\n",
       "          -9.9439e-02,  6.6633e-02,  6.5095e-02, -7.0565e-03,  1.9508e-02,\n",
       "           6.2606e-02,  1.9790e-02, -1.7315e-02, -8.7508e-02, -3.0517e-02,\n",
       "           4.6560e-02, -8.5652e-02, -4.1079e-02, -6.7708e-02, -6.6040e-02],\n",
       "         [-6.5566e-02,  4.4920e-02,  9.4021e-02,  9.4665e-02,  8.2779e-02,\n",
       "           7.9322e-02,  3.7718e-02,  2.8521e-02,  4.7210e-02,  3.8737e-02,\n",
       "           5.8876e-02,  7.1660e-03, -4.5017e-02,  3.4598e-02, -9.4685e-02,\n",
       "           8.4757e-02, -8.3984e-02,  9.2454e-02, -4.3712e-02, -3.3473e-03,\n",
       "           5.7559e-02, -2.5061e-02,  1.5322e-02, -3.7842e-02,  9.2104e-03,\n",
       "          -9.4777e-02,  4.6775e-02,  9.4457e-02, -1.1172e-02,  5.1535e-02,\n",
       "          -9.1349e-02,  9.6033e-03, -9.6288e-02, -1.0225e-02, -5.4180e-02,\n",
       "          -2.9361e-02,  8.5363e-02,  5.9431e-02, -6.6913e-03, -3.2045e-02,\n",
       "          -9.4633e-02, -4.8494e-02, -1.7305e-03,  5.4706e-02, -1.3253e-02,\n",
       "          -1.9537e-02,  7.8316e-02,  2.4044e-02,  3.0199e-02,  9.9620e-02,\n",
       "           1.3396e-03,  7.1134e-02,  4.5519e-02, -3.3607e-02,  8.1142e-02,\n",
       "          -7.9952e-02,  3.9773e-02,  6.9582e-02,  3.9641e-03,  7.0577e-02,\n",
       "          -7.5386e-02, -5.4120e-02, -5.5095e-02,  1.2886e-02, -4.7619e-02,\n",
       "          -3.4869e-02, -6.2031e-02,  3.7039e-02, -9.6183e-03, -1.3569e-02,\n",
       "           9.1437e-02,  2.3077e-02, -3.3166e-02, -6.1800e-02,  2.6468e-02,\n",
       "           2.7503e-02,  5.5900e-03, -1.1654e-03,  6.1726e-03, -9.2730e-02,\n",
       "           9.8234e-02,  6.9432e-03, -9.9459e-02,  2.7506e-03,  8.2452e-02,\n",
       "           9.6691e-02, -8.8451e-02, -9.3464e-03,  2.8875e-02,  3.1838e-02,\n",
       "          -8.0999e-02,  9.4574e-02,  4.6329e-02, -3.3485e-02, -4.9704e-02,\n",
       "           7.5412e-02, -8.4067e-02, -6.9814e-02, -5.8713e-02, -3.0431e-02],\n",
       "         [ 2.8661e-02,  6.0701e-02,  7.6678e-02, -3.7609e-02,  5.6290e-02,\n",
       "          -3.2590e-02,  4.2927e-04,  2.6079e-02,  1.3761e-02,  7.1132e-02,\n",
       "          -2.1962e-02, -8.7490e-02,  4.6171e-02, -5.9010e-02, -6.7945e-02,\n",
       "           2.1084e-02, -4.9518e-02, -9.7961e-02,  1.8797e-02,  6.1224e-03,\n",
       "           2.7385e-02,  1.2596e-03,  5.7946e-02, -1.9633e-02, -2.1202e-02,\n",
       "           1.7624e-02,  8.3268e-02,  6.8132e-04, -5.0317e-02, -6.1438e-02,\n",
       "           6.6145e-02, -2.9536e-02,  1.9748e-02,  8.3974e-02, -4.8488e-02,\n",
       "          -2.1862e-02,  9.3390e-02,  3.3447e-02,  4.0599e-02,  6.6350e-02,\n",
       "          -7.1767e-02,  8.2155e-02, -5.5117e-02, -5.2982e-02, -8.0437e-02,\n",
       "           1.2332e-02,  1.2410e-02, -7.8037e-02,  8.2352e-02,  1.5739e-02,\n",
       "          -6.7428e-02, -4.7330e-02,  6.3897e-03, -3.3233e-02, -5.4517e-02,\n",
       "          -3.1528e-03,  5.3119e-02,  7.1829e-02,  4.1401e-02,  2.1702e-02,\n",
       "          -2.4574e-02,  2.5013e-02,  6.8688e-02, -7.0600e-02, -8.2737e-02,\n",
       "          -6.0209e-02, -6.2544e-03, -2.6790e-02,  6.5823e-02,  2.2698e-02,\n",
       "          -9.2860e-02,  8.2503e-02,  8.9063e-04, -4.7300e-02,  1.9980e-02,\n",
       "          -9.8990e-02, -7.3593e-02,  9.8103e-02,  1.4432e-02,  6.8870e-02,\n",
       "          -7.9745e-02,  7.5253e-02,  7.6754e-02,  3.4059e-02,  6.4512e-02,\n",
       "           7.9425e-02, -6.5875e-02,  3.5451e-02,  7.4770e-03,  7.6332e-02,\n",
       "           4.8795e-02,  7.8259e-02, -8.0614e-02,  1.8716e-02,  2.8549e-02,\n",
       "           3.2710e-02, -7.7693e-02,  1.2333e-02, -3.4182e-02, -4.1406e-02],\n",
       "         [ 7.6153e-02, -5.9287e-02,  7.2048e-02, -1.8907e-02,  9.7039e-02,\n",
       "          -8.9514e-03,  9.9762e-02,  6.8072e-02,  8.1678e-02, -8.5761e-02,\n",
       "           2.8761e-02,  5.6033e-02,  1.9556e-02, -5.7461e-02,  9.4010e-02,\n",
       "           9.1929e-02, -4.1122e-03, -3.6911e-02,  9.2912e-02, -9.3398e-02,\n",
       "          -2.1822e-02, -1.3597e-02, -1.4174e-02, -9.0291e-02, -2.1805e-02,\n",
       "          -4.8189e-02,  8.4580e-02,  9.5500e-02,  6.5738e-02, -9.9082e-02,\n",
       "          -8.3308e-02,  1.7181e-02,  2.5966e-02,  9.3550e-02, -6.2032e-02,\n",
       "          -1.4830e-02,  9.6058e-02,  6.5276e-03,  4.6228e-02, -5.5788e-02,\n",
       "           6.5074e-02,  7.6847e-02,  5.8976e-02,  7.4796e-02, -1.1062e-02,\n",
       "          -7.6462e-04,  6.0507e-03,  1.5064e-02,  8.0801e-02,  9.6573e-02,\n",
       "           4.0853e-02,  8.5422e-02, -8.7479e-02, -8.2607e-02,  9.7365e-02,\n",
       "           2.4924e-02, -7.4595e-02, -1.4165e-02, -9.4195e-02,  5.5785e-02,\n",
       "          -1.4182e-02, -2.4678e-02,  3.9858e-03, -7.1135e-02,  8.0224e-02,\n",
       "           5.9649e-02,  3.7330e-02,  2.1348e-02, -9.5344e-02, -2.8750e-02,\n",
       "           3.5037e-03,  2.0745e-02, -9.4543e-02, -2.6593e-02, -8.2408e-02,\n",
       "           9.8499e-02,  2.0502e-02, -6.5968e-02, -6.1249e-02, -6.3583e-02,\n",
       "          -1.6856e-02, -8.1566e-02, -8.6851e-04,  4.3208e-02,  5.0200e-02,\n",
       "           2.8478e-02, -4.0722e-02,  5.4489e-02, -9.7070e-02,  8.5877e-02,\n",
       "           7.9223e-02,  5.1745e-02, -8.8381e-02,  8.8285e-02,  3.9762e-02,\n",
       "           7.5616e-02, -6.5686e-02,  8.0904e-02,  8.4371e-03, -8.5868e-02],\n",
       "         [-2.8795e-02, -8.7650e-02, -9.5085e-02,  5.7803e-02, -6.8393e-02,\n",
       "          -4.8022e-02, -7.2545e-02, -3.3864e-02, -9.1320e-02,  3.0535e-03,\n",
       "          -3.9763e-02,  9.3875e-02,  7.9333e-02, -1.5820e-02,  9.5643e-02,\n",
       "           4.9953e-02,  3.9851e-02, -6.2247e-02, -1.6422e-02, -7.3797e-02,\n",
       "          -4.0280e-02,  6.8485e-02,  6.9133e-02,  2.2884e-02,  8.0300e-02,\n",
       "          -3.6010e-02,  6.7124e-02,  7.0359e-02,  9.1862e-02,  9.7929e-02,\n",
       "           5.2105e-03,  1.8259e-02, -2.2470e-03,  3.1031e-02, -8.9643e-03,\n",
       "          -4.2399e-02,  2.8271e-02, -2.0816e-02, -7.1642e-02, -6.2411e-02,\n",
       "          -8.9446e-02, -6.6053e-02,  2.9284e-02,  8.8125e-02, -7.5425e-02,\n",
       "           5.3529e-02,  1.2557e-02, -3.0891e-02, -1.1432e-02, -9.5628e-02,\n",
       "           7.3211e-02,  9.1772e-02, -8.1317e-02, -7.0818e-02, -4.1945e-03,\n",
       "           7.4414e-02,  6.7212e-03, -8.0479e-02, -4.8957e-02,  7.1895e-02,\n",
       "          -9.5768e-02,  6.3207e-02, -1.3420e-02,  1.0552e-02, -2.8198e-02,\n",
       "           4.2964e-03, -8.8455e-02, -7.6092e-02, -6.1647e-04,  3.6901e-02,\n",
       "           2.0697e-02, -1.5989e-02, -7.6523e-02,  5.0311e-02,  6.5146e-02,\n",
       "           6.2622e-02,  5.9649e-02, -4.4529e-02,  9.9355e-02, -6.3140e-02,\n",
       "           6.3079e-02, -1.2082e-02,  2.6588e-02,  8.7502e-02,  6.9125e-02,\n",
       "          -2.7480e-02, -7.6118e-02,  2.1755e-02, -7.4352e-02, -4.2235e-02,\n",
       "           8.2615e-02,  8.4965e-02,  6.8599e-02, -9.0558e-02, -9.3204e-03,\n",
       "           1.8659e-02, -3.7888e-02, -4.9601e-02,  3.3271e-02, -5.0558e-02],\n",
       "         [-8.3565e-02, -6.6120e-02, -5.0450e-02, -1.2126e-02, -9.2797e-02,\n",
       "          -6.5799e-02,  3.5822e-02,  4.6365e-02, -3.3755e-02,  4.5090e-02,\n",
       "          -5.2680e-02, -7.3949e-02, -4.6702e-02,  9.7657e-02, -2.3177e-02,\n",
       "           2.3228e-02,  6.0798e-02,  9.8062e-02,  6.4775e-02,  3.7430e-02,\n",
       "          -4.1046e-02, -5.9797e-02,  8.8369e-03,  6.6177e-02, -5.0661e-02,\n",
       "           9.7530e-02,  2.9017e-02,  1.6940e-02, -6.6437e-02, -7.9411e-02,\n",
       "          -3.7548e-03, -6.8370e-02,  8.8753e-02, -8.3075e-04, -7.7787e-02,\n",
       "           4.2278e-02, -4.1983e-02,  4.4260e-02, -3.3109e-02,  3.4326e-03,\n",
       "          -7.9965e-02,  5.9871e-02, -4.3410e-02, -6.2946e-02, -5.3623e-02,\n",
       "          -5.1293e-02, -9.9907e-02, -3.3323e-02,  8.5124e-02,  8.0907e-03,\n",
       "           2.2561e-02, -7.7978e-02,  6.0946e-02,  5.4006e-02, -4.4209e-02,\n",
       "           7.8204e-02, -8.4525e-03,  6.3738e-02,  5.2232e-02,  3.5758e-03,\n",
       "           7.5606e-02, -7.1170e-02,  3.3030e-03, -9.9397e-02,  1.2441e-02,\n",
       "           6.9495e-02, -2.1672e-02,  6.6983e-02, -9.6113e-02, -9.0641e-02,\n",
       "          -2.2071e-02,  1.4644e-02, -7.2754e-02,  2.9052e-02, -4.4926e-03,\n",
       "           9.1179e-02, -6.2459e-02, -9.9931e-02, -9.1802e-02,  5.5273e-02,\n",
       "          -6.3377e-02,  1.4356e-02,  6.4711e-02,  2.4338e-02,  5.4917e-02,\n",
       "           1.8039e-02, -6.4345e-02,  7.3135e-04, -7.8161e-02, -2.7040e-03,\n",
       "          -6.4992e-02,  6.8420e-02,  4.9222e-02,  4.9831e-02,  8.8970e-03,\n",
       "           2.2157e-02,  4.1016e-02, -7.4462e-02, -8.6109e-02,  8.0954e-02]],\n",
       "        requires_grad=True),\n",
       " Parameter containing:\n",
       " tensor([ 0.0586,  0.0155,  0.0963,  0.0617, -0.0222,  0.0108, -0.0578,  0.0811,\n",
       "          0.0424, -0.0936], requires_grad=True)]"
      ]
     },
     "execution_count": 46,
     "metadata": {},
     "output_type": "execute_result"
    }
   ],
   "execution_count": 46
  },
  {
   "cell_type": "code",
   "metadata": {
    "ExecuteTime": {
     "end_time": "2025-01-16T01:40:01.527904Z",
     "start_time": "2025-01-16T01:40:01.524340Z"
    }
   },
   "source": [
    "# model.state_dict()  # 这种方法用于保存模型参数，看能看见参数属于模型的哪一部分"
   ],
   "outputs": [],
   "execution_count": 47
  },
  {
   "cell_type": "markdown",
   "metadata": {},
   "source": [
    "## 训练\n",
    "\n",
    "pytorch的训练需要自行实现，包括\n",
    "1. 定义损失函数\n",
    "2. 定义优化器\n",
    "3. 定义训练步\n",
    "4. 训练"
   ]
  },
  {
   "cell_type": "code",
   "metadata": {
    "ExecuteTime": {
     "end_time": "2025-01-16T01:40:01.536917Z",
     "start_time": "2025-01-16T01:40:01.527904Z"
    }
   },
   "source": [
    "# 1. 定义损失函数 采用交叉熵损失\n",
    "loss_fct = nn.CrossEntropyLoss() #内部先做softmax，然后计算交叉熵\n",
    "# 2. 定义优化器 采用SGD\n",
    "# Optimizers specified in the torch.optim package,随机梯度下降\n",
    "optimizer = torch.optim.SGD(model.parameters(), lr=0.001, momentum=0.9)"
   ],
   "outputs": [],
   "execution_count": 48
  },
  {
   "metadata": {
    "ExecuteTime": {
     "end_time": "2025-01-16T01:40:01.544572Z",
     "start_time": "2025-01-16T01:40:01.537953Z"
    }
   },
   "cell_type": "code",
   "source": "10000/32",
   "outputs": [
    {
     "data": {
      "text/plain": [
       "312.5"
      ]
     },
     "execution_count": 49,
     "metadata": {},
     "output_type": "execute_result"
    }
   ],
   "execution_count": 49
  },
  {
   "cell_type": "code",
   "metadata": {
    "ExecuteTime": {
     "end_time": "2025-01-16T01:40:01.616451Z",
     "start_time": "2025-01-16T01:40:01.545578Z"
    }
   },
   "source": [
    "from sklearn.metrics import accuracy_score\n",
    "# @torch.no_grad() 是 PyTorch 中的一个装饰器，用来禁用梯度计算，这样可以节省内存和加速模型推理（预测）过程。它通常用于模型评估或测试阶段，因为在这些阶段你不需要进行反向传播和梯度计算。\n",
    "@torch.no_grad() \n",
    "def evaluating(model, dataloader, loss_fct):\n",
    "    loss_list = [] # 记录损失\n",
    "    pred_list = [] # 记录预测\n",
    "    label_list = [] # 记录标签\n",
    "    for datas, labels in dataloader:#10000/32=312\n",
    "        datas = datas.to(device) # 转到GPU\n",
    "        labels = labels.to(device) # 转到GPU\n",
    "        # 前向计算\n",
    "        logits = model(datas)\n",
    "        loss = loss_fct(logits, labels)         # 验证集损失,loss尺寸是一个数值\n",
    "        loss_list.append(loss.item()) # 记录损失,item是把tensor转换为数值\n",
    "        \n",
    "        preds = logits.argmax(axis=-1)    # 验证集预测,argmax返回最大值索引\n",
    "        # print(preds)\n",
    "        pred_list.extend(preds.cpu().numpy().tolist())#将PyTorch张量转换为NumPy数组。只有当张量在CPU上时，这个转换才是合法的\n",
    "        # print(preds.cpu().numpy().tolist())\n",
    "        label_list.extend(labels.cpu().numpy().tolist())\n",
    "        \n",
    "    acc = accuracy_score(label_list, pred_list) # 计算准确率\n",
    "    return np.mean(loss_list), acc\n"
   ],
   "outputs": [],
   "execution_count": 50
  },
  {
   "cell_type": "code",
   "source": [
    "1875*20"
   ],
   "metadata": {
    "collapsed": false,
    "ExecuteTime": {
     "end_time": "2025-01-16T01:40:01.619936Z",
     "start_time": "2025-01-16T01:40:01.616451Z"
    }
   },
   "outputs": [
    {
     "data": {
      "text/plain": [
       "37500"
      ]
     },
     "execution_count": 51,
     "metadata": {},
     "output_type": "execute_result"
    }
   ],
   "execution_count": 51
  },
  {
   "cell_type": "code",
   "metadata": {
    "ExecuteTime": {
     "end_time": "2025-01-16T01:43:08.471413Z",
     "start_time": "2025-01-16T01:40:01.619936Z"
    }
   },
   "source": [
    "# 训练\n",
    "def training(model, train_loader, val_loader, epoch, loss_fct, optimizer, eval_step=500):\n",
    "    record_dict = {\n",
    "        \"train\": [],\n",
    "        \"val\": []\n",
    "    }\n",
    "    \n",
    "    global_step = 0     # 总共37500steps\n",
    "    model.train()\n",
    "    #tqdm是一个进度条库\n",
    "    with tqdm(total=epoch * len(train_loader)) as pbar: # 进度条 1875*20,60000/32=1875=len(train_loader)\n",
    "        for epoch_id in range(epoch): # 训练epoch次\n",
    "            # training\n",
    "            for datas, labels in train_loader: #执行次数是60000/32=1875\n",
    "                datas = datas.to(device) #datas尺寸是[batch_size,1,28,28]\n",
    "                labels = labels.to(device) #labels尺寸是[batch_size]\n",
    "                # 梯度清空\n",
    "                optimizer.zero_grad()\n",
    "                # 模型前向计算\n",
    "                logits = model(datas)\n",
    "                # 计算损失\n",
    "                loss = loss_fct(logits, labels)\n",
    "                # 梯度回传，loss.backward()会计算梯度，loss对模型参数求导\n",
    "                loss.backward()\n",
    "                # 调整优化器，包括学习率的变动等,优化器的学习率会随着训练的进行而减小，更新w,b\n",
    "                optimizer.step() #梯度是计算并存储在模型参数的 .grad 属性中，优化器使用这些存储的梯度来更新模型参数\n",
    "\n",
    "                preds = logits.argmax(axis=-1) # 训练集预测 argmax 是一个用于返回沿指定轴的最大值的索引的函数\n",
    "                acc = accuracy_score(labels.cpu().numpy(), preds.cpu().numpy())   # 计算准确率，numpy可以\n",
    "                loss = loss.cpu().item() # 损失转到CPU，item()取值,一个数值\n",
    "                # record\n",
    "                \n",
    "                record_dict[\"train\"].append({\n",
    "                    \"loss\": loss, \"acc\": acc, \"step\": global_step\n",
    "                }) # 记录训练集信息，每一步的损失，准确率，步数\n",
    "                \n",
    "                # evaluating\n",
    "                if global_step % eval_step == 0:    # 每训练一定步数（由 eval_step 指定），都会进入评估模式\n",
    "                    model.eval() # 进入评估模式\n",
    "                    val_loss, val_acc = evaluating(model, val_loader, loss_fct)\n",
    "                    record_dict[\"val\"].append({\n",
    "                        \"loss\": val_loss, \"acc\": val_acc, \"step\": global_step\n",
    "                    })\n",
    "                    model.train() # 进入训练模式\n",
    "\n",
    "                # udate step\n",
    "                global_step += 1 # 全局步数加1\n",
    "                pbar.update(1) # 更新进度条\n",
    "                pbar.set_postfix({\"epoch\": epoch_id}) # 设置进度条显示信息\n",
    "        \n",
    "    return record_dict\n",
    "        \n",
    "\n",
    "epoch = 20 #改为40\n",
    "model = model.to(device)\n",
    "record = training(model, train_loader, val_loader, epoch, loss_fct, optimizer, eval_step=1000)"
   ],
   "outputs": [
    {
     "data": {
      "text/plain": [
       "  0%|          | 0/37500 [00:00<?, ?it/s]"
      ],
      "application/vnd.jupyter.widget-view+json": {
       "version_major": 2,
       "version_minor": 0,
       "model_id": "4e5846dcbfcb42009fa3784a28efe865"
      }
     },
     "metadata": {},
     "output_type": "display_data"
    }
   ],
   "execution_count": 52
  },
  {
   "metadata": {
    "ExecuteTime": {
     "end_time": "2025-01-16T03:12:23.997209Z",
     "start_time": "2025-01-16T03:12:23.993253Z"
    }
   },
   "cell_type": "code",
   "source": [
    "print(type(record))\n",
    "print(len(record))\n",
    "print(record.keys())"
   ],
   "outputs": [
    {
     "name": "stdout",
     "output_type": "stream",
     "text": [
      "<class 'dict'>\n",
      "2\n",
      "dict_keys(['train', 'val'])\n"
     ]
    }
   ],
   "execution_count": 64
  },
  {
   "cell_type": "code",
   "source": [
    "record[\"train\"][-5:]"
   ],
   "metadata": {
    "collapsed": false,
    "ExecuteTime": {
     "end_time": "2025-01-16T01:43:08.474861Z",
     "start_time": "2025-01-16T01:43:08.471930Z"
    }
   },
   "outputs": [
    {
     "data": {
      "text/plain": [
       "[{'loss': 0.5319772362709045, 'acc': 0.75, 'step': 37495},\n",
       " {'loss': 0.4883526563644409, 'acc': 0.875, 'step': 37496},\n",
       " {'loss': 0.4865933656692505, 'acc': 0.90625, 'step': 37497},\n",
       " {'loss': 0.4432041049003601, 'acc': 0.84375, 'step': 37498},\n",
       " {'loss': 0.5051847696304321, 'acc': 0.78125, 'step': 37499}]"
      ]
     },
     "execution_count": 53,
     "metadata": {},
     "output_type": "execute_result"
    }
   ],
   "execution_count": 53
  },
  {
   "cell_type": "code",
   "source": [
    "record[\"val\"][-5:]"
   ],
   "metadata": {
    "collapsed": false,
    "ExecuteTime": {
     "end_time": "2025-01-16T01:43:08.485273Z",
     "start_time": "2025-01-16T01:43:08.474861Z"
    }
   },
   "outputs": [
    {
     "data": {
      "text/plain": [
       "[{'loss': 0.38848608717941246, 'acc': 0.8617, 'step': 33000},\n",
       " {'loss': 0.3625777217860039, 'acc': 0.871, 'step': 34000},\n",
       " {'loss': 0.3557818534846504, 'acc': 0.8762, 'step': 35000},\n",
       " {'loss': 0.35659958267459474, 'acc': 0.8733, 'step': 36000},\n",
       " {'loss': 0.3571497354263696, 'acc': 0.8734, 'step': 37000}]"
      ]
     },
     "execution_count": 54,
     "metadata": {},
     "output_type": "execute_result"
    }
   ],
   "execution_count": 54
  },
  {
   "cell_type": "code",
   "metadata": {
    "ExecuteTime": {
     "end_time": "2025-01-16T01:43:08.583815Z",
     "start_time": "2025-01-16T01:43:08.485273Z"
    }
   },
   "source": [
    "#画线要注意的是损失是不一定在零到1之间的\n",
    "def plot_learning_curves(record_dict, sample_step=1000):\n",
    "    # build DataFrame\n",
    "    train_df = pd.DataFrame(record_dict[\"train\"]).set_index(\"step\").iloc[::sample_step]\n",
    "    val_df = pd.DataFrame(record_dict[\"val\"]).set_index(\"step\")\n",
    "    last_step = train_df.index[-1] # 最后一步的步数\n",
    "    # print(train_df.columns)\n",
    "    print(train_df['acc'])\n",
    "    print(val_df['acc'])\n",
    "    # plot\n",
    "    fig_num = len(train_df.columns) # 画几张图,分别是损失和准确率\n",
    "    fig, axs = plt.subplots(1, fig_num, figsize=(5 * fig_num, 5))\n",
    "    for idx, item in enumerate(train_df.columns):\n",
    "        # print(train_df[item].values)\n",
    "        axs[idx].plot(train_df.index, train_df[item], label=f\"train_{item}\")\n",
    "        axs[idx].plot(val_df.index, val_df[item], label=f\"val_{item}\")\n",
    "        axs[idx].grid() # 显示网格\n",
    "        axs[idx].legend() # 显示图例\n",
    "        axs[idx].set_xticks(range(0, train_df.index[-1], 5000)) # 设置x轴刻度\n",
    "        axs[idx].set_xticklabels(map(lambda x: f\"{int(x/1000)}k\", range(0, last_step, 5000))) # 设置x轴标签\n",
    "        axs[idx].set_xlabel(\"step\")\n",
    "    \n",
    "    plt.show()\n",
    "\n",
    "plot_learning_curves(record)  #横坐标是 steps"
   ],
   "outputs": [
    {
     "name": "stdout",
     "output_type": "stream",
     "text": [
      "step\n",
      "0        0.15625\n",
      "1000     0.65625\n",
      "2000     0.93750\n",
      "3000     0.78125\n",
      "4000     0.90625\n",
      "5000     0.87500\n",
      "6000     0.90625\n",
      "7000     0.87500\n",
      "8000     0.84375\n",
      "9000     0.78125\n",
      "10000    0.87500\n",
      "11000    0.87500\n",
      "12000    0.84375\n",
      "13000    0.90625\n",
      "14000    0.87500\n",
      "15000    0.81250\n",
      "16000    0.81250\n",
      "17000    0.81250\n",
      "18000    0.90625\n",
      "19000    0.78125\n",
      "20000    0.84375\n",
      "21000    0.90625\n",
      "22000    0.81250\n",
      "23000    0.87500\n",
      "24000    0.90625\n",
      "25000    0.81250\n",
      "26000    0.93750\n",
      "27000    0.81250\n",
      "28000    0.96875\n",
      "29000    0.84375\n",
      "30000    0.75000\n",
      "31000    0.93750\n",
      "32000    0.90625\n",
      "33000    0.81250\n",
      "34000    0.96875\n",
      "35000    0.87500\n",
      "36000    0.84375\n",
      "37000    0.81250\n",
      "Name: acc, dtype: float64\n",
      "step\n",
      "0        0.1215\n",
      "1000     0.7107\n",
      "2000     0.7664\n",
      "3000     0.8038\n",
      "4000     0.8122\n",
      "5000     0.8165\n",
      "6000     0.8254\n",
      "7000     0.8229\n",
      "8000     0.8321\n",
      "9000     0.8350\n",
      "10000    0.8377\n",
      "11000    0.8411\n",
      "12000    0.8450\n",
      "13000    0.8438\n",
      "14000    0.8477\n",
      "15000    0.8495\n",
      "16000    0.8519\n",
      "17000    0.8502\n",
      "18000    0.8508\n",
      "19000    0.8556\n",
      "20000    0.8578\n",
      "21000    0.8591\n",
      "22000    0.8566\n",
      "23000    0.8613\n",
      "24000    0.8640\n",
      "25000    0.8641\n",
      "26000    0.8609\n",
      "27000    0.8659\n",
      "28000    0.8690\n",
      "29000    0.8679\n",
      "30000    0.8596\n",
      "31000    0.8675\n",
      "32000    0.8587\n",
      "33000    0.8617\n",
      "34000    0.8710\n",
      "35000    0.8762\n",
      "36000    0.8733\n",
      "37000    0.8734\n",
      "Name: acc, dtype: float64\n"
     ]
    },
    {
     "data": {
      "text/plain": [
       "<Figure size 1000x500 with 2 Axes>"
      ],
      "image/png": "[encoded data removed]"
     },
     "metadata": {},
     "output_type": "display_data"
    }
   ],
   "execution_count": 55
  },
  {
   "cell_type": "markdown",
   "metadata": {},
   "source": [
    "## 评估"
   ]
  },
  {
   "cell_type": "code",
   "metadata": {
    "ExecuteTime": {
     "end_time": "2025-01-16T01:43:09.018779Z",
     "start_time": "2025-01-16T01:43:08.584826Z"
    }
   },
   "source": [
    "# dataload for evaluating\n",
    "\n",
    "model.eval() # 进入评估模式\n",
    "loss, acc = evaluating(model, val_loader, loss_fct)\n",
    "print(f\"loss:     {loss:.4f}\\naccuracy: {acc:.4f}\")"
   ],
   "outputs": [
    {
     "name": "stdout",
     "output_type": "stream",
     "text": [
      "loss:     0.3492\n",
      "accuracy: 0.8763\n"
     ]
    }
   ],
   "execution_count": 56
  }
 ],
 "metadata": {
  "kernelspec": {
   "display_name": "Python 3 (ipykernel)",
   "language": "python",
   "name": "python3"
  },
  "language_info": {
   "codemirror_mode": {
    "name": "ipython",
    "version": 3
   },
   "file_extension": ".py",
   "mimetype": "text/x-python",
   "name": "python",
   "nbconvert_exporter": "python",
   "pygments_lexer": "ipython3",
   "version": "3.9.7"
  }
 },
 "nbformat": 4,
 "nbformat_minor": 2
}
