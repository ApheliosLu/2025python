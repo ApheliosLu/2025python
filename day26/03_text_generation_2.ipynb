{
 "cells": [
  {
   "cell_type": "code",
   "metadata": {
    "execution": {
     "iopub.execute_input": "2025-01-23T08:17:06.194795Z",
     "iopub.status.busy": "2025-01-23T08:17:06.194511Z",
     "iopub.status.idle": "2025-01-23T08:17:08.288087Z",
     "shell.execute_reply": "2025-01-23T08:17:08.287432Z",
     "shell.execute_reply.started": "2025-01-23T08:17:06.194772Z"
    },
    "ExecuteTime": {
     "end_time": "2025-01-24T03:14:10.958615Z",
     "start_time": "2025-01-24T03:14:07.449Z"
    }
   },
   "source": [
    "import matplotlib as mpl\n",
    "import matplotlib.pyplot as plt\n",
    "%matplotlib inline\n",
    "import numpy as np\n",
    "import sklearn\n",
    "import pandas as pd\n",
    "import os\n",
    "import sys\n",
    "import time\n",
    "from tqdm.auto import tqdm\n",
    "import torch\n",
    "import torch.nn as nn\n",
    "import torch.nn.functional as F\n",
    "\n",
    "print(sys.version_info)\n",
    "for module in mpl, np, pd, sklearn, torch:\n",
    "    print(module.__name__, module.__version__)\n",
    "    \n",
    "device = torch.device(\"cuda:0\") if torch.cuda.is_available() else torch.device(\"cpu\")\n",
    "print(device)\n",
    "\n",
    "seed = 42\n",
    "torch.manual_seed(seed)\n",
    "torch.cuda.manual_seed_all(seed)"
   ],
   "outputs": [
    {
     "name": "stdout",
     "output_type": "stream",
     "text": [
      "sys.version_info(major=3, minor=12, micro=3, releaselevel='final', serial=0)\n",
      "matplotlib 3.10.0\n",
      "numpy 1.26.4\n",
      "pandas 2.2.3\n",
      "sklearn 1.6.0\n",
      "torch 2.5.1+cu124\n",
      "cuda:0\n"
     ]
    }
   ],
   "execution_count": 1
  },
  {
   "cell_type": "markdown",
   "metadata": {},
   "source": [
    "## 数据准备"
   ]
  },
  {
   "cell_type": "code",
   "metadata": {
    "ExecutionIndicator": {
     "show": true
    },
    "execution": {
     "iopub.execute_input": "2025-01-23T08:17:08.289369Z",
     "iopub.status.busy": "2025-01-23T08:17:08.289041Z",
     "iopub.status.idle": "2025-01-23T08:17:08.292186Z",
     "shell.execute_reply": "2025-01-23T08:17:08.291580Z",
     "shell.execute_reply.started": "2025-01-23T08:17:08.289346Z"
    },
    "tags": [],
    "ExecuteTime": {
     "end_time": "2025-01-24T03:14:14.085889Z",
     "start_time": "2025-01-24T03:14:10.959657Z"
    }
   },
   "source": "!wget https://storage.googleapis.com/download.tensorflow.org/data/shakespeare.txt",
   "outputs": [
    {
     "name": "stderr",
     "output_type": "stream",
     "text": [
      "--2025-01-24 11:14:11--  https://storage.googleapis.com/download.tensorflow.org/data/shakespeare.txt\n",
      "Resolving storage.googleapis.com (storage.googleapis.com)... 142.250.217.91, 142.251.215.251, 142.250.217.123, ...\n",
      "Connecting to storage.googleapis.com (storage.googleapis.com)|142.250.217.91|:443... connected.\n",
      "HTTP request sent, awaiting response... 200 OK\n",
      "Length: 1115394 (1.1M) [text/plain]\n",
      "Saving to: 'shakespeare.txt.2'\n",
      "\n",
      "     0K .......... .......... .......... .......... ..........  4% 95.3K 11s\n",
      "    50K .......... .......... .......... .......... ..........  9%  184K 8s\n",
      "   100K .......... .......... .......... .......... .......... 13%  238K 6s\n",
      "   150K .......... .......... .......... .......... .......... 18%  395K 5s\n",
      "   200K .......... .......... .......... .......... .......... 22%  638K 4s\n",
      "   250K .......... .......... .......... .......... .......... 27%  275K 4s\n",
      "   300K .......... .......... .......... .......... .......... 32% 1.12M 3s\n",
      "   350K .......... .......... .......... .......... .......... 36%  559K 3s\n",
      "   400K .......... .......... .......... .......... .......... 41% 1.66M 2s\n",
      "   450K .......... .......... .......... .......... .......... 45%  432K 2s\n",
      "   500K .......... .......... .......... .......... .......... 50%  939K 2s\n",
      "   550K .......... .......... .......... .......... .......... 55% 2.98M 1s\n",
      "   600K .......... .......... .......... .......... .......... 59% 1.48M 1s\n",
      "   650K .......... .......... .......... .......... .......... 64% 1.14M 1s\n",
      "   700K .......... .......... .......... .......... .......... 68%  623K 1s\n",
      "   750K .......... .......... .......... .......... .......... 73% 1.17M 1s\n",
      "   800K .......... .......... .......... .......... .......... 78% 2.14M 1s\n",
      "   850K .......... .......... .......... .......... .......... 82% 1.29M 0s\n",
      "   900K .......... .......... .......... .......... .......... 87% 2.05M 0s\n",
      "   950K .......... .......... .......... .......... .......... 91% 1.24M 0s\n",
      "  1000K .......... .......... .......... .......... .......... 96% 3.41M 0s\n",
      "  1050K .......... .......... .......... .........            100% 4.85M=2.1s\n",
      "\n",
      "2025-01-24 11:14:14 (522 KB/s) - 'shakespeare.txt.2' saved [1115394/1115394]\n",
      "\n"
     ]
    }
   ],
   "execution_count": 2
  },
  {
   "cell_type": "code",
   "metadata": {
    "execution": {
     "iopub.execute_input": "2025-01-23T08:17:08.292951Z",
     "iopub.status.busy": "2025-01-23T08:17:08.292769Z",
     "iopub.status.idle": "2025-01-23T08:17:08.297467Z",
     "shell.execute_reply": "2025-01-23T08:17:08.296818Z",
     "shell.execute_reply.started": "2025-01-23T08:17:08.292931Z"
    },
    "tags": [],
    "ExecuteTime": {
     "end_time": "2025-01-24T03:14:14.097142Z",
     "start_time": "2025-01-24T03:14:14.088468Z"
    }
   },
   "source": [
    "# https://storage.googleapis.com/download.tensorflow.org/data/shakespeare.txt\n",
    "#文件已经下载好了\n",
    "with open(\"./shakespeare.txt\", \"r\", encoding=\"utf8\") as file:\n",
    "    text = file.read()\n",
    "\n",
    "print(\"length\", len(text))\n",
    "print(text[0:100])"
   ],
   "outputs": [
    {
     "name": "stdout",
     "output_type": "stream",
     "text": [
      "length 1115394\n",
      "First Citizen:\n",
      "Before we proceed any further, hear me speak.\n",
      "\n",
      "All:\n",
      "Speak, speak.\n",
      "\n",
      "First Citizen:\n",
      "You\n"
     ]
    }
   ],
   "execution_count": 3
  },
  {
   "cell_type": "markdown",
   "metadata": {},
   "source": [
    "### 构造字典"
   ]
  },
  {
   "cell_type": "code",
   "metadata": {
    "execution": {
     "iopub.execute_input": "2025-01-23T08:17:08.298036Z",
     "iopub.status.busy": "2025-01-23T08:17:08.297868Z",
     "iopub.status.idle": "2025-01-23T08:17:08.318373Z",
     "shell.execute_reply": "2025-01-23T08:17:08.317661Z",
     "shell.execute_reply.started": "2025-01-23T08:17:08.298017Z"
    },
    "ExecuteTime": {
     "end_time": "2025-01-24T03:14:14.110368Z",
     "start_time": "2025-01-24T03:14:14.098647Z"
    }
   },
   "source": [
    "# 1. generate vocab\n",
    "# 2. build mapping char->id\n",
    "# 3. data -> id_data  把数据都转为id\n",
    "# 4. a b c d [EOS] -> [BOS] b c d  预测下一个字符生成的模型，也就是输入是a，输出就是b\n",
    "\n",
    "#去重，留下独立字符，并排序（排序是为了好看）\n",
    "vocab = sorted(set(text))\n",
    "print(len(vocab))\n",
    "print(vocab)"
   ],
   "outputs": [
    {
     "name": "stdout",
     "output_type": "stream",
     "text": [
      "65\n",
      "['\\n', ' ', '!', '$', '&', \"'\", ',', '-', '.', '3', ':', ';', '?', 'A', 'B', 'C', 'D', 'E', 'F', 'G', 'H', 'I', 'J', 'K', 'L', 'M', 'N', 'O', 'P', 'Q', 'R', 'S', 'T', 'U', 'V', 'W', 'X', 'Y', 'Z', 'a', 'b', 'c', 'd', 'e', 'f', 'g', 'h', 'i', 'j', 'k', 'l', 'm', 'n', 'o', 'p', 'q', 'r', 's', 't', 'u', 'v', 'w', 'x', 'y', 'z']\n"
     ]
    }
   ],
   "execution_count": 4
  },
  {
   "cell_type": "code",
   "metadata": {
    "execution": {
     "iopub.execute_input": "2025-01-23T08:17:08.320835Z",
     "iopub.status.busy": "2025-01-23T08:17:08.320398Z",
     "iopub.status.idle": "2025-01-23T08:17:08.324538Z",
     "shell.execute_reply": "2025-01-23T08:17:08.323832Z",
     "shell.execute_reply.started": "2025-01-23T08:17:08.320803Z"
    },
    "ExecuteTime": {
     "end_time": "2025-01-24T03:14:14.121225Z",
     "start_time": "2025-01-24T03:14:14.110368Z"
    }
   },
   "source": [
    "for idx,char in enumerate(['h','o','w']):\n",
    "    print(idx,char)"
   ],
   "outputs": [
    {
     "name": "stdout",
     "output_type": "stream",
     "text": [
      "0 h\n",
      "1 o\n",
      "2 w\n"
     ]
    }
   ],
   "execution_count": 5
  },
  {
   "cell_type": "code",
   "metadata": {
    "execution": {
     "iopub.execute_input": "2025-01-23T08:17:08.325508Z",
     "iopub.status.busy": "2025-01-23T08:17:08.325251Z",
     "iopub.status.idle": "2025-01-23T08:17:08.328898Z",
     "shell.execute_reply": "2025-01-23T08:17:08.328318Z",
     "shell.execute_reply.started": "2025-01-23T08:17:08.325470Z"
    },
    "ExecuteTime": {
     "end_time": "2025-01-24T03:14:14.131922Z",
     "start_time": "2025-01-24T03:14:14.121225Z"
    }
   },
   "source": [
    "#每个字符都编好号，enumerate对每一个位置编号，生成的是列表中是元组，下面字典生成式\n",
    "char2idx = {char:idx for idx, char in enumerate(vocab)}\n",
    "print(char2idx)"
   ],
   "outputs": [
    {
     "name": "stdout",
     "output_type": "stream",
     "text": [
      "{'\\n': 0, ' ': 1, '!': 2, '$': 3, '&': 4, \"'\": 5, ',': 6, '-': 7, '.': 8, '3': 9, ':': 10, ';': 11, '?': 12, 'A': 13, 'B': 14, 'C': 15, 'D': 16, 'E': 17, 'F': 18, 'G': 19, 'H': 20, 'I': 21, 'J': 22, 'K': 23, 'L': 24, 'M': 25, 'N': 26, 'O': 27, 'P': 28, 'Q': 29, 'R': 30, 'S': 31, 'T': 32, 'U': 33, 'V': 34, 'W': 35, 'X': 36, 'Y': 37, 'Z': 38, 'a': 39, 'b': 40, 'c': 41, 'd': 42, 'e': 43, 'f': 44, 'g': 45, 'h': 46, 'i': 47, 'j': 48, 'k': 49, 'l': 50, 'm': 51, 'n': 52, 'o': 53, 'p': 54, 'q': 55, 'r': 56, 's': 57, 't': 58, 'u': 59, 'v': 60, 'w': 61, 'x': 62, 'y': 63, 'z': 64}\n"
     ]
    }
   ],
   "execution_count": 6
  },
  {
   "cell_type": "code",
   "metadata": {
    "execution": {
     "iopub.execute_input": "2025-01-23T08:17:08.330015Z",
     "iopub.status.busy": "2025-01-23T08:17:08.329574Z",
     "iopub.status.idle": "2025-01-23T08:17:08.333345Z",
     "shell.execute_reply": "2025-01-23T08:17:08.332744Z",
     "shell.execute_reply.started": "2025-01-23T08:17:08.329984Z"
    },
    "ExecuteTime": {
     "end_time": "2025-01-24T03:14:14.139890Z",
     "start_time": "2025-01-24T03:14:14.131922Z"
    }
   },
   "source": [
    "# 把vocab从列表变为ndarray\n",
    "idx2char = np.array(vocab)\n",
    "print(idx2char)"
   ],
   "outputs": [
    {
     "name": "stdout",
     "output_type": "stream",
     "text": [
      "['\\n' ' ' '!' '$' '&' \"'\" ',' '-' '.' '3' ':' ';' '?' 'A' 'B' 'C' 'D' 'E'\n",
      " 'F' 'G' 'H' 'I' 'J' 'K' 'L' 'M' 'N' 'O' 'P' 'Q' 'R' 'S' 'T' 'U' 'V' 'W'\n",
      " 'X' 'Y' 'Z' 'a' 'b' 'c' 'd' 'e' 'f' 'g' 'h' 'i' 'j' 'k' 'l' 'm' 'n' 'o'\n",
      " 'p' 'q' 'r' 's' 't' 'u' 'v' 'w' 'x' 'y' 'z']\n"
     ]
    }
   ],
   "execution_count": 7
  },
  {
   "cell_type": "code",
   "metadata": {
    "execution": {
     "iopub.execute_input": "2025-01-23T08:17:08.334411Z",
     "iopub.status.busy": "2025-01-23T08:17:08.334017Z",
     "iopub.status.idle": "2025-01-23T08:17:08.451298Z",
     "shell.execute_reply": "2025-01-23T08:17:08.450748Z",
     "shell.execute_reply.started": "2025-01-23T08:17:08.334380Z"
    },
    "ExecuteTime": {
     "end_time": "2025-01-24T03:14:14.284170Z",
     "start_time": "2025-01-24T03:14:14.140917Z"
    }
   },
   "source": [
    "#把字符都转换为id\n",
    "text_as_int = np.array([char2idx[c] for c in text])\n",
    "print(text_as_int.shape)\n",
    "print(len(text_as_int))\n",
    "print(text_as_int[0:10])\n",
    "print(text[0:10])"
   ],
   "outputs": [
    {
     "name": "stdout",
     "output_type": "stream",
     "text": [
      "(1115394,)\n",
      "1115394\n",
      "[18 47 56 57 58  1 15 47 58 47]\n",
      "First Citi\n"
     ]
    }
   ],
   "execution_count": 8
  },
  {
   "cell_type": "code",
   "metadata": {
    "collapsed": false,
    "execution": {
     "iopub.execute_input": "2025-01-23T08:17:08.452389Z",
     "iopub.status.busy": "2025-01-23T08:17:08.451936Z",
     "iopub.status.idle": "2025-01-23T08:17:08.456739Z",
     "shell.execute_reply": "2025-01-23T08:17:08.456178Z",
     "shell.execute_reply.started": "2025-01-23T08:17:08.452357Z"
    },
    "jupyter": {
     "outputs_hidden": false
    },
    "ExecuteTime": {
     "end_time": "2025-01-24T03:14:14.288956Z",
     "start_time": "2025-01-24T03:14:14.284170Z"
    }
   },
   "source": [
    "1115394//101"
   ],
   "outputs": [
    {
     "data": {
      "text/plain": [
       "11043"
      ]
     },
     "execution_count": 9,
     "metadata": {},
     "output_type": "execute_result"
    }
   ],
   "execution_count": 9
  },
  {
   "cell_type": "markdown",
   "metadata": {},
   "source": [
    "### 把莎士比亚文集分成一个一个的样本"
   ]
  },
  {
   "cell_type": "code",
   "metadata": {
    "execution": {
     "iopub.execute_input": "2025-01-23T08:17:08.457842Z",
     "iopub.status.busy": "2025-01-23T08:17:08.457436Z",
     "iopub.status.idle": "2025-01-23T08:17:08.464781Z",
     "shell.execute_reply": "2025-01-23T08:17:08.464218Z",
     "shell.execute_reply.started": "2025-01-23T08:17:08.457810Z"
    },
    "ExecuteTime": {
     "end_time": "2025-01-24T03:14:14.300492Z",
     "start_time": "2025-01-24T03:14:14.288956Z"
    }
   },
   "source": [
    "from torch.utils.data import Dataset, DataLoader\n",
    "\n",
    "class CharDataset(Dataset):\n",
    "    #text_as_int是字符的id列表，seq_length是每个样本的长度\n",
    "    def __init__(self, text_as_int, seq_length):\n",
    "        self.sub_len = seq_length + 1 #一个样本的长度\n",
    "        self.text_as_int = text_as_int\n",
    "        self.num_seq = len(text_as_int) // self.sub_len #样本的个数\n",
    "        \n",
    "    def __getitem__(self, index):#index是样本的索引，返回的是一个样本，比如第一个，就是0-100的字符,总计101个字符\n",
    "        return self.text_as_int[index * self.sub_len: (index + 1) * self.sub_len]\n",
    "    \n",
    "    def __len__(self): #返回样本的个数\n",
    "        return self.num_seq\n",
    "\n",
    "#batch是一个列表，列表中的每一个元素是一个样本，有101个字符，前100个是输入，后100个是输出\n",
    "def collat_fct(batch):\n",
    "    src_list = [] #输入\n",
    "    trg_list = [] #输出\n",
    "    for part in batch:\n",
    "        src_list.append(part[:-1]) #输入\n",
    "        trg_list.append(part[1:]) #输出\n",
    "        \n",
    "    src_list = np.array(src_list) #把列表转换为ndarray\n",
    "    trg_list = np.array(trg_list) #把列表转换为ndarray\n",
    "    return torch.Tensor(src_list).to(dtype=torch.int64), torch.Tensor(trg_list).to(dtype=torch.int64) #返回的是一个元组，元组中的每一个元素是一个torch.Tensor\n",
    "        \n",
    "#每个样本的长度是101，也就是100个字符+1个结束符\n",
    "train_ds = CharDataset(text_as_int, 100)\n",
    "train_dl = DataLoader(train_ds, batch_size=64, shuffle=True, collate_fn=collat_fct)"
   ],
   "outputs": [],
   "execution_count": 10
  },
  {
   "cell_type": "code",
   "metadata": {
    "collapsed": false,
    "execution": {
     "iopub.execute_input": "2025-01-23T08:17:08.465951Z",
     "iopub.status.busy": "2025-01-23T08:17:08.465498Z",
     "iopub.status.idle": "2025-01-23T08:17:08.471236Z",
     "shell.execute_reply": "2025-01-23T08:17:08.470746Z",
     "shell.execute_reply.started": "2025-01-23T08:17:08.465920Z"
    },
    "jupyter": {
     "outputs_hidden": false
    },
    "ExecuteTime": {
     "end_time": "2025-01-24T03:14:14.328741Z",
     "start_time": "2025-01-24T03:14:14.301496Z"
    }
   },
   "source": [
    "for datas, labels in train_dl:\n",
    "    print(datas.shape)\n",
    "    print(labels.shape)\n",
    "    break"
   ],
   "outputs": [
    {
     "name": "stdout",
     "output_type": "stream",
     "text": [
      "torch.Size([64, 100])\n",
      "torch.Size([64, 100])\n"
     ]
    }
   ],
   "execution_count": 11
  },
  {
   "cell_type": "markdown",
   "metadata": {},
   "source": []
  },
  {
   "cell_type": "markdown",
   "metadata": {},
   "source": [
    "## 定义模型"
   ]
  },
  {
   "cell_type": "code",
   "metadata": {
    "execution": {
     "iopub.execute_input": "2025-01-23T08:17:08.472221Z",
     "iopub.status.busy": "2025-01-23T08:17:08.471840Z",
     "iopub.status.idle": "2025-01-23T08:17:08.487855Z",
     "shell.execute_reply": "2025-01-23T08:17:08.487375Z",
     "shell.execute_reply.started": "2025-01-23T08:17:08.472190Z"
    },
    "ExecuteTime": {
     "end_time": "2025-01-24T03:14:14.343369Z",
     "start_time": "2025-01-24T03:14:14.329786Z"
    }
   },
   "source": [
    "class CharRNN(nn.Module):\n",
    "    def __init__(self, vocab_size, embedding_dim=256, hidden_dim=1024):\n",
    "        super(CharRNN, self).__init__()\n",
    "        self.embedding = nn.Embedding(vocab_size, embedding_dim)\n",
    "        #batch_first=True,输入的数据格式是(batch_size, seq_len, embedding_dim)\n",
    "        self.rnn = nn.RNN(embedding_dim, hidden_dim, batch_first=True)\n",
    "        self.fc = nn.Linear(hidden_dim, vocab_size)\n",
    "        \n",
    "    def forward(self, x, hidden=None):\n",
    "        x = self.embedding(x) #(batch_size, seq_len) -> (batch_size, seq_len, embedding_dim) (64, 100, 256)\n",
    "        #这里和02的差异是没有只拿最后一个输出，而是把所有的输出都拿出来了\n",
    "        #(batch_size, seq_len, embedding_dim)->(batch_size, seq_len, hidden_dim)(64, 100, 1024)\n",
    "        output, hidden = self.rnn(x, hidden)\n",
    "        x = self.fc(output) #[bs, seq_len, hidden_dim]--->[bs, seq_len, vocab_size] (64, 100,65)\n",
    "        return x, hidden #x的shape是(batch_size, seq_len, vocab_size)\n",
    "    \n",
    "    \n",
    "vocab_size = len(vocab)\n",
    "\n",
    "print(\"{:=^80}\".format(\" 一层单向 RNN \"))       \n",
    "for key, value in CharRNN(vocab_size).named_parameters():\n",
    "    print(f\"{key:^40}paramerters num: {np.prod(value.shape)}\")"
   ],
   "outputs": [
    {
     "name": "stdout",
     "output_type": "stream",
     "text": [
      "=================================== 一层单向 RNN ===================================\n",
      "            embedding.weight            paramerters num: 16640\n",
      "            rnn.weight_ih_l0            paramerters num: 262144\n",
      "            rnn.weight_hh_l0            paramerters num: 1048576\n",
      "             rnn.bias_ih_l0             paramerters num: 1024\n",
      "             rnn.bias_hh_l0             paramerters num: 1024\n",
      "               fc.weight                paramerters num: 66560\n",
      "                fc.bias                 paramerters num: 65\n"
     ]
    }
   ],
   "execution_count": 12
  },
  {
   "cell_type": "code",
   "metadata": {
    "collapsed": false,
    "execution": {
     "iopub.execute_input": "2025-01-23T08:17:08.488861Z",
     "iopub.status.busy": "2025-01-23T08:17:08.488421Z",
     "iopub.status.idle": "2025-01-23T08:17:08.493065Z",
     "shell.execute_reply": "2025-01-23T08:17:08.492525Z",
     "shell.execute_reply.started": "2025-01-23T08:17:08.488829Z"
    },
    "jupyter": {
     "outputs_hidden": false
    },
    "ExecuteTime": {
     "end_time": "2025-01-24T03:14:14.348742Z",
     "start_time": "2025-01-24T03:14:14.343369Z"
    }
   },
   "source": [
    "print(65*256)\n",
    "print(256*1024)\n",
    "print(1024*1024)\n",
    "1024*65"
   ],
   "outputs": [
    {
     "name": "stdout",
     "output_type": "stream",
     "text": [
      "16640\n",
      "262144\n",
      "1048576\n"
     ]
    },
    {
     "data": {
      "text/plain": [
       "66560"
      ]
     },
     "execution_count": 13,
     "metadata": {},
     "output_type": "execute_result"
    }
   ],
   "execution_count": 13
  },
  {
   "cell_type": "code",
   "metadata": {
    "collapsed": false,
    "execution": {
     "iopub.execute_input": "2025-01-23T08:17:08.496358Z",
     "iopub.status.busy": "2025-01-23T08:17:08.496008Z",
     "iopub.status.idle": "2025-01-23T08:17:08.520922Z",
     "shell.execute_reply": "2025-01-23T08:17:08.520382Z",
     "shell.execute_reply.started": "2025-01-23T08:17:08.496327Z"
    },
    "jupyter": {
     "outputs_hidden": false
    },
    "ExecuteTime": {
     "end_time": "2025-01-24T03:14:15.761309Z",
     "start_time": "2025-01-24T03:14:14.352506Z"
    }
   },
   "source": [
    "sample_inputs = torch.randint(0, vocab_size, (3, 100))\n",
    "print(sample_inputs.shape)\n",
    "model = CharRNN(vocab_size)\n",
    "output=model(sample_inputs)\n",
    "output[0].shape"
   ],
   "outputs": [
    {
     "name": "stdout",
     "output_type": "stream",
     "text": [
      "torch.Size([3, 100])\n"
     ]
    },
    {
     "data": {
      "text/plain": [
       "torch.Size([3, 100, 65])"
      ]
     },
     "execution_count": 14,
     "metadata": {},
     "output_type": "execute_result"
    }
   ],
   "execution_count": 14
  },
  {
   "cell_type": "code",
   "metadata": {
    "collapsed": false,
    "execution": {
     "iopub.execute_input": "2025-01-23T08:17:08.521739Z",
     "iopub.status.busy": "2025-01-23T08:17:08.521557Z",
     "iopub.status.idle": "2025-01-23T08:17:08.525010Z",
     "shell.execute_reply": "2025-01-23T08:17:08.524573Z",
     "shell.execute_reply.started": "2025-01-23T08:17:08.521720Z"
    },
    "jupyter": {
     "outputs_hidden": false
    },
    "ExecuteTime": {
     "end_time": "2025-01-24T03:14:15.771091Z",
     "start_time": "2025-01-24T03:14:15.763432Z"
    }
   },
   "source": [
    "output[0].reshape(-1, vocab_size).shape"
   ],
   "outputs": [
    {
     "data": {
      "text/plain": [
       "torch.Size([300, 65])"
      ]
     },
     "execution_count": 15,
     "metadata": {},
     "output_type": "execute_result"
    }
   ],
   "execution_count": 15
  },
  {
   "cell_type": "code",
   "metadata": {
    "collapsed": false,
    "execution": {
     "iopub.execute_input": "2025-01-23T08:17:08.525644Z",
     "iopub.status.busy": "2025-01-23T08:17:08.525470Z",
     "iopub.status.idle": "2025-01-23T08:17:08.528873Z",
     "shell.execute_reply": "2025-01-23T08:17:08.528260Z",
     "shell.execute_reply.started": "2025-01-23T08:17:08.525625Z"
    },
    "jupyter": {
     "outputs_hidden": false
    },
    "ExecuteTime": {
     "end_time": "2025-01-24T03:14:15.782923Z",
     "start_time": "2025-01-24T03:14:15.773065Z"
    }
   },
   "source": [
    "\n",
    "1024*65"
   ],
   "outputs": [
    {
     "data": {
      "text/plain": [
       "66560"
      ]
     },
     "execution_count": 16,
     "metadata": {},
     "output_type": "execute_result"
    }
   ],
   "execution_count": 16
  },
  {
   "cell_type": "markdown",
   "metadata": {},
   "source": [
    "## 训练"
   ]
  },
  {
   "cell_type": "code",
   "metadata": {
    "execution": {
     "iopub.execute_input": "2025-01-23T08:17:08.529522Z",
     "iopub.status.busy": "2025-01-23T08:17:08.529347Z",
     "iopub.status.idle": "2025-01-23T08:17:08.534592Z",
     "shell.execute_reply": "2025-01-23T08:17:08.534155Z",
     "shell.execute_reply.started": "2025-01-23T08:17:08.529503Z"
    },
    "ExecuteTime": {
     "end_time": "2025-01-24T03:14:15.806916Z",
     "start_time": "2025-01-24T03:14:15.782923Z"
    }
   },
   "source": [
    "class SaveCheckpointsCallback:\n",
    "    def __init__(self, save_dir, save_step=5000, save_best_only=True):\n",
    "        \"\"\"\n",
    "        Save checkpoints each save_epoch epoch. \n",
    "        We save checkpoint by epoch in this implementation.\n",
    "        Usually, training scripts with pytorch evaluating model and save checkpoint by step.\n",
    "\n",
    "        Args:\n",
    "            save_dir (str): dir to save checkpoint\n",
    "            save_epoch (int, optional): the frequency to save checkpoint. Defaults to 1.\n",
    "            save_best_only (bool, optional): If True, only save the best model or save each model at every epoch.\n",
    "        \"\"\"\n",
    "        self.save_dir = save_dir\n",
    "        self.save_step = save_step\n",
    "        self.save_best_only = save_best_only\n",
    "        self.best_metrics = -1\n",
    "        \n",
    "        # mkdir\n",
    "        if not os.path.exists(self.save_dir):\n",
    "            os.mkdir(self.save_dir)\n",
    "        \n",
    "    def __call__(self, step, state_dict, metric=None):\n",
    "        if step % self.save_step > 0:\n",
    "            return\n",
    "        \n",
    "        if self.save_best_only:\n",
    "            assert metric is not None\n",
    "            if metric >= self.best_metrics:\n",
    "                # save checkpoints\n",
    "                torch.save(state_dict, os.path.join(self.save_dir, \"best.ckpt\"))\n",
    "                # update best metrics\n",
    "                self.best_metrics = metric\n",
    "        else:\n",
    "            torch.save(state_dict, os.path.join(self.save_dir, f\"{step}.ckpt\"))\n",
    "\n"
   ],
   "outputs": [],
   "execution_count": 17
  },
  {
   "cell_type": "code",
   "metadata": {
    "execution": {
     "iopub.execute_input": "2025-01-23T08:17:08.535220Z",
     "iopub.status.busy": "2025-01-23T08:17:08.535056Z",
     "iopub.status.idle": "2025-01-23T08:17:09.444746Z",
     "shell.execute_reply": "2025-01-23T08:17:09.444183Z",
     "shell.execute_reply.started": "2025-01-23T08:17:08.535201Z"
    },
    "ExecuteTime": {
     "end_time": "2025-01-24T03:14:17.966144Z",
     "start_time": "2025-01-24T03:14:15.808175Z"
    }
   },
   "source": [
    "# 训练\n",
    "def training(\n",
    "    model, \n",
    "    train_loader, \n",
    "    epoch, \n",
    "    loss_fct, \n",
    "    optimizer, \n",
    "    save_ckpt_callback=None,\n",
    "    stateful=False      # 想用stateful，batch里的数据就必须连续，不能打乱\n",
    "    ):\n",
    "    record_dict = {\n",
    "        \"train\": [],\n",
    "    }\n",
    "    \n",
    "    global_step = 0\n",
    "    model.train()\n",
    "    hidden = None\n",
    "    with tqdm(total=epoch * len(train_loader)) as pbar:\n",
    "        for epoch_id in range(epoch):\n",
    "            # training\n",
    "            for datas, labels in train_loader:\n",
    "                datas = datas.to(device)\n",
    "                labels = labels.to(device)\n",
    "                # 梯度清空\n",
    "                optimizer.zero_grad()\n",
    "                # 模型前向计算,如果数据集打乱了，stateful=False，hidden就要清空\n",
    "                # 如果数据集没有打乱，stateful=True，hidden就不需要清空\n",
    "                logits, hidden = model(datas, hidden=hidden if stateful else None)\n",
    "                # 计算损失,交叉熵损失第一个参数要是二阶张量，第二个参数要是一阶张量，所以要reshape\n",
    "                loss = loss_fct(logits.reshape(-1, vocab_size), labels.reshape(-1))\n",
    "                # 梯度回传\n",
    "                loss.backward()\n",
    "                # 调整优化器，包括学习率的变动等\n",
    "                optimizer.step()\n",
    " \n",
    "                loss = loss.cpu().item()\n",
    "                # record\n",
    "                \n",
    "                record_dict[\"train\"].append({\n",
    "                    \"loss\": loss, \"step\": global_step\n",
    "                })\n",
    "   \n",
    "                # 保存模型权重 save model checkpoint\n",
    "                if save_ckpt_callback is not None:\n",
    "                    save_ckpt_callback(global_step, model.state_dict(), metric=-loss)\n",
    "                # udate step\n",
    "                global_step += 1\n",
    "                pbar.update(1)\n",
    "                pbar.set_postfix({\"epoch\": epoch_id})\n",
    "        \n",
    "    return record_dict\n",
    "        \n",
    "\n",
    "epoch = 100\n",
    "\n",
    "model = CharRNN(vocab_size=vocab_size)\n",
    "\n",
    "# 1. 定义损失函数 采用交叉熵损失 \n",
    "loss_fct = nn.CrossEntropyLoss()\n",
    "# 2. 定义优化器 采用 adam\n",
    "# Optimizers specified in the torch.optim package\n",
    "optimizer = torch.optim.Adam(model.parameters(), lr=0.001)\n",
    "\n",
    "\n",
    "# save best\n",
    "if not os.path.exists(\"checkpoints\"):\n",
    "    os.makedirs(\"checkpoints\")\n",
    "save_ckpt_callback = SaveCheckpointsCallback(\"checkpoints/text_generation\", save_step=1000, save_best_only=True)\n",
    "\n",
    "\n",
    "model = model.to(device)\n"
   ],
   "outputs": [],
   "execution_count": 18
  },
  {
   "cell_type": "code",
   "metadata": {
    "collapsed": false,
    "execution": {
     "iopub.execute_input": "2025-01-23T08:17:09.445822Z",
     "iopub.status.busy": "2025-01-23T08:17:09.445359Z",
     "iopub.status.idle": "2025-01-23T08:19:08.356217Z",
     "shell.execute_reply": "2025-01-23T08:19:08.355733Z",
     "shell.execute_reply.started": "2025-01-23T08:17:09.445799Z"
    },
    "jupyter": {
     "outputs_hidden": false
    },
    "ExecuteTime": {
     "end_time": "2025-01-24T03:17:38.650487Z",
     "start_time": "2025-01-24T03:14:17.966144Z"
    }
   },
   "source": [
    "record = training(\n",
    "    model,\n",
    "    train_dl,\n",
    "    epoch,\n",
    "    loss_fct,\n",
    "    optimizer,\n",
    "    save_ckpt_callback=save_ckpt_callback,\n",
    "    )"
   ],
   "outputs": [
    {
     "data": {
      "text/plain": [
       "  0%|          | 0/17300 [00:00<?, ?it/s]"
      ],
      "application/vnd.jupyter.widget-view+json": {
       "version_major": 2,
       "version_minor": 0,
       "model_id": "ad43e4ed87fe4926a4495a0b32f4e793"
      }
     },
     "metadata": {},
     "output_type": "display_data"
    }
   ],
   "execution_count": 19
  },
  {
   "cell_type": "code",
   "metadata": {
    "execution": {
     "iopub.execute_input": "2025-01-23T08:19:08.357145Z",
     "iopub.status.busy": "2025-01-23T08:19:08.356810Z",
     "iopub.status.idle": "2025-01-23T08:19:08.455159Z",
     "shell.execute_reply": "2025-01-23T08:19:08.454531Z",
     "shell.execute_reply.started": "2025-01-23T08:19:08.357124Z"
    },
    "ExecuteTime": {
     "end_time": "2025-01-24T03:17:38.711959Z",
     "start_time": "2025-01-24T03:17:38.650487Z"
    }
   },
   "source": [
    "plt.plot([i[\"step\"] for i in record[\"train\"][::50]], [i[\"loss\"] for i in record[\"train\"][::50]], label=\"train\")\n",
    "plt.grid()\n",
    "plt.show()"
   ],
   "outputs": [
    {
     "data": {
      "text/plain": [
       "<Figure size 640x480 with 1 Axes>"
      ],
      "image/png": "[encoded data removed]"
     },
     "metadata": {},
     "output_type": "display_data"
    }
   ],
   "execution_count": 20
  },
  {
   "cell_type": "markdown",
   "metadata": {},
   "source": [
    "## 推理"
   ]
  },
  {
   "cell_type": "code",
   "metadata": {
    "collapsed": false,
    "execution": {
     "iopub.execute_input": "2025-01-23T08:19:08.456317Z",
     "iopub.status.busy": "2025-01-23T08:19:08.455886Z",
     "iopub.status.idle": "2025-01-23T08:19:08.467402Z",
     "shell.execute_reply": "2025-01-23T08:19:08.466888Z",
     "shell.execute_reply.started": "2025-01-23T08:19:08.456284Z"
    },
    "jupyter": {
     "outputs_hidden": false
    },
    "ExecuteTime": {
     "end_time": "2025-01-24T03:17:38.730496Z",
     "start_time": "2025-01-24T03:17:38.711959Z"
    }
   },
   "source": [
    "#下面的例子是为了说明temperature\n",
    "my_tensor = torch.tensor([0.4,0.6]) #这里是logits\n",
    "\n",
    "probs1 = F.softmax(my_tensor, dim=-1)   # 计算输入张量 my_tensor 的 softmax 概率分布\n",
    "print(probs1)"
   ],
   "outputs": [
    {
     "name": "stdout",
     "output_type": "stream",
     "text": [
      "tensor([0.4502, 0.5498])\n"
     ]
    }
   ],
   "execution_count": 21
  },
  {
   "cell_type": "code",
   "metadata": {
    "collapsed": false,
    "execution": {
     "iopub.execute_input": "2025-01-23T08:19:08.468453Z",
     "iopub.status.busy": "2025-01-23T08:19:08.468007Z",
     "iopub.status.idle": "2025-01-23T08:19:08.472351Z",
     "shell.execute_reply": "2025-01-23T08:19:08.471801Z",
     "shell.execute_reply.started": "2025-01-23T08:19:08.468420Z"
    },
    "jupyter": {
     "outputs_hidden": false
    },
    "ExecuteTime": {
     "end_time": "2025-01-24T03:17:38.733805Z",
     "start_time": "2025-01-24T03:17:38.730496Z"
    }
   },
   "source": [
    "my_tensor = torch.tensor([0.2,0.3])  #现在 temperature是2\n",
    "\n",
    "probs1 = F.softmax(my_tensor, dim=-1)\n",
    "print(probs1)"
   ],
   "outputs": [
    {
     "name": "stdout",
     "output_type": "stream",
     "text": [
      "tensor([0.4750, 0.5250])\n"
     ]
    }
   ],
   "execution_count": 22
  },
  {
   "cell_type": "code",
   "metadata": {
    "collapsed": false,
    "execution": {
     "iopub.execute_input": "2025-01-23T08:19:08.473444Z",
     "iopub.status.busy": "2025-01-23T08:19:08.473043Z",
     "iopub.status.idle": "2025-01-23T08:19:08.486270Z",
     "shell.execute_reply": "2025-01-23T08:19:08.485745Z",
     "shell.execute_reply.started": "2025-01-23T08:19:08.473414Z"
    },
    "jupyter": {
     "outputs_hidden": false
    },
    "ExecuteTime": {
     "end_time": "2025-01-24T03:17:38.747198Z",
     "start_time": "2025-01-24T03:17:38.733805Z"
    }
   },
   "source": [
    "import torch\n",
    "\n",
    "# 创建一个概率分布，表示每个类别被选中的概率\n",
    "# 这里我们有一个简单的四个类别的概率分布\n",
    "prob_dist = torch.tensor([0.1, 0.45, 0.35, 0.1])\n",
    "\n",
    "# 使用 multinomial 进行抽样\n",
    "# num_samples 表示要抽取的样本数量\n",
    "num_samples = 5\n",
    "\n",
    "# 抽取样本，随机抽样，概率越高，抽到的概率就越高\n",
    "samples = torch.multinomial(prob_dist, 1, replacement=True) \n",
    "\n",
    "print(\"概率分布:\", prob_dist)\n",
    "print(\"抽取的样本索引:\", samples)\n",
    "\n",
    "# 显示每个样本对应的概率\n",
    "print(\"每个样本对应的概率:\", prob_dist[samples])"
   ],
   "outputs": [
    {
     "name": "stdout",
     "output_type": "stream",
     "text": [
      "概率分布: tensor([0.1000, 0.4500, 0.3500, 0.1000])\n",
      "抽取的样本索引: tensor([2])\n",
      "每个样本对应的概率: tensor([0.3500])\n"
     ]
    }
   ],
   "execution_count": 23
  },
  {
   "cell_type": "code",
   "metadata": {
    "execution": {
     "iopub.execute_input": "2025-01-23T08:19:08.487270Z",
     "iopub.status.busy": "2025-01-23T08:19:08.486885Z",
     "iopub.status.idle": "2025-01-23T08:19:09.442765Z",
     "shell.execute_reply": "2025-01-23T08:19:09.442186Z",
     "shell.execute_reply.started": "2025-01-23T08:19:08.487239Z"
    },
    "ExecuteTime": {
     "end_time": "2025-01-24T03:17:39.614948Z",
     "start_time": "2025-01-24T03:17:38.747198Z"
    }
   },
   "source": [
    "def generate_text(model, start_string, max_len=1000, temperature=1.0, stream=True):\n",
    "    input_eval = torch.Tensor([char2idx[char] for char in start_string]).to(dtype=torch.int64, device=device).reshape(1, -1) #bacth_size=1, seq_len长度是多少都可以 （1,5）\n",
    "    hidden = None\n",
    "    text_generated = [] #用来保存生成的文本\n",
    "    model.eval()\n",
    "    pbar = tqdm(range(max_len)) # 进度条\n",
    "    print(start_string, end=\"\")\n",
    "    # no_grad是一个上下文管理器，用于指定在其中的代码块中不需要计算梯度。在这个区域内，不会记录梯度信息，用于在生成文本时不影响模型权重。\n",
    "    with torch.no_grad():\n",
    "        for i in pbar:#控制进度条\n",
    "            logits, hidden = model(input_eval, hidden=hidden)\n",
    "            # 温度采样，较高的温度会增加预测结果的多样性，较低的温度则更加保守。\n",
    "            #取-1的目的是只要最后，拼到原有的输入上\n",
    "            logits = logits[0, -1, :] / temperature # logits此时是一维的，有65个元素，每个元素代表一个字符的概率\n",
    "            # using multinomial to sampling\n",
    "            probs = F.softmax(logits, dim=-1) #算为概率分布\n",
    "            idx = torch.multinomial(probs, 1).item() #从概率分布中抽取一个样本,取概率较大的那些\n",
    "            input_eval = torch.Tensor([idx]).to(dtype=torch.int64, device=device).reshape(1, -1) #把idx转为tensor\n",
    "            text_generated.append(idx)\n",
    "            if stream:\n",
    "                print(idx2char[idx], end=\"\", flush=True)\n",
    "    return \"\".join([idx2char[i] for i in text_generated])\n",
    "\n",
    "\n",
    "# load checkpoints\n",
    "model.load_state_dict(torch.load(\"checkpoints/text_generation/best.ckpt\", map_location=\"cpu\"))\n",
    "start_string = \"All: \" #这里就是开头，什么都可以\n",
    "res = generate_text(model, start_string, max_len=1000, temperature=0.5, stream=True)"
   ],
   "outputs": [
    {
     "name": "stderr",
     "output_type": "stream",
     "text": [
      "C:\\Users\\q1209\\AppData\\Local\\Temp\\ipykernel_23560\\4273895067.py:26: FutureWarning: You are using `torch.load` with `weights_only=False` (the current default value), which uses the default pickle module implicitly. It is possible to construct malicious pickle data which will execute arbitrary code during unpickling (See https://github.com/pytorch/pytorch/blob/main/SECURITY.md#untrusted-models for more details). In a future release, the default value for `weights_only` will be flipped to `True`. This limits the functions that could be executed during unpickling. Arbitrary objects will no longer be allowed to be loaded via this mode unless they are explicitly allowlisted by the user via `torch.serialization.add_safe_globals`. We recommend you start setting `weights_only=True` for any use case where you don't have full control of the loaded file. Please open an issue on GitHub for any issues related to this experimental feature.\n",
      "  model.load_state_dict(torch.load(\"checkpoints/text_generation/best.ckpt\", map_location=\"cpu\"))\n"
     ]
    },
    {
     "data": {
      "text/plain": [
       "  0%|          | 0/1000 [00:00<?, ?it/s]"
      ],
      "application/vnd.jupyter.widget-view+json": {
       "version_major": 2,
       "version_minor": 0,
       "model_id": "009cd02f6e0b498694c1ee9265005c62"
      }
     },
     "metadata": {},
     "output_type": "display_data"
    },
    {
     "name": "stdout",
     "output_type": "stream",
     "text": [
      "All: there is no more. The gods me not; so help you to him whose honest servison.\n",
      "\n",
      "ISABELLA:\n",
      "I will unfold that ever\n",
      "I will tell the field\n",
      "I' the place of holy and with my father's silence,\n",
      "That thou resceed you to your grace,\n",
      "For her mercy is my honour bring.\n",
      "\n",
      "Nurse:\n",
      "Have you not a strange brows with thee to the world,\n",
      "And speak permit them on,\n",
      "And thither will I be so;\n",
      "That we hate her help.\n",
      "\n",
      "Both Tribunes:\n",
      "We have been so brief:\n",
      "Thou hast no child and sorrow?\n",
      "Now thou didst seek the statue of it.\n",
      "\n",
      "BUCKINGHAM:\n",
      "I fear me speak it.\n",
      "\n",
      "GLOUCESTER:\n",
      "Why, then will I see thee dead?\n",
      "\n",
      "BIANCA:\n",
      "It is my honour that hath deceived and tell me speak to thee;\n",
      "For now will I read Hereford, Lord Angelo, how could buy be this while:\n",
      "For her for the whole heart to say\n",
      "Your friends, my lord.\n",
      "\n",
      "KING RICHARD III:\n",
      "And I am sure, to him that have married. I do beseech you, sir, he does me a man to see thee from the world.\n",
      "\n",
      "LEONTES:\n",
      "You were at the whole hours of wills that have done so, here will I know, my lord, "
     ]
    }
   ],
   "execution_count": 24
  },
  {
   "cell_type": "code",
   "metadata": {
    "execution": {
     "iopub.execute_input": "2025-01-23T08:22:23.716047Z",
     "iopub.status.busy": "2025-01-23T08:22:23.715677Z",
     "iopub.status.idle": "2025-01-23T08:22:23.720173Z",
     "shell.execute_reply": "2025-01-23T08:22:23.719579Z",
     "shell.execute_reply.started": "2025-01-23T08:22:23.716020Z"
    },
    "tags": [],
    "ExecuteTime": {
     "end_time": "2025-01-24T03:17:39.617966Z",
     "start_time": "2025-01-24T03:17:39.614948Z"
    }
   },
   "source": [
    "res"
   ],
   "outputs": [
    {
     "data": {
      "text/plain": [
       "\"there is no more. The gods me not; so help you to him whose honest servison.\\n\\nISABELLA:\\nI will unfold that ever\\nI will tell the field\\nI' the place of holy and with my father's silence,\\nThat thou resceed you to your grace,\\nFor her mercy is my honour bring.\\n\\nNurse:\\nHave you not a strange brows with thee to the world,\\nAnd speak permit them on,\\nAnd thither will I be so;\\nThat we hate her help.\\n\\nBoth Tribunes:\\nWe have been so brief:\\nThou hast no child and sorrow?\\nNow thou didst seek the statue of it.\\n\\nBUCKINGHAM:\\nI fear me speak it.\\n\\nGLOUCESTER:\\nWhy, then will I see thee dead?\\n\\nBIANCA:\\nIt is my honour that hath deceived and tell me speak to thee;\\nFor now will I read Hereford, Lord Angelo, how could buy be this while:\\nFor her for the whole heart to say\\nYour friends, my lord.\\n\\nKING RICHARD III:\\nAnd I am sure, to him that have married. I do beseech you, sir, he does me a man to see thee from the world.\\n\\nLEONTES:\\nYou were at the whole hours of wills that have done so, here will I know, my lord, \""
      ]
     },
     "execution_count": 25,
     "metadata": {},
     "output_type": "execute_result"
    }
   ],
   "execution_count": 25
  },
  {
   "metadata": {
    "ExecuteTime": {
     "end_time": "2025-01-24T03:18:12.938437Z",
     "start_time": "2025-01-24T03:18:12.934948Z"
    }
   },
   "cell_type": "code",
   "source": "len(res)",
   "outputs": [
    {
     "data": {
      "text/plain": [
       "1000"
      ]
     },
     "execution_count": 26,
     "metadata": {},
     "output_type": "execute_result"
    }
   ],
   "execution_count": 26
  }
 ],
 "metadata": {
  "kernelspec": {
   "display_name": "Python 3 (ipykernel)",
   "language": "python",
   "name": "python3"
  },
  "language_info": {
   "codemirror_mode": {
    "name": "ipython",
    "version": 3
   },
   "file_extension": ".py",
   "mimetype": "text/x-python",
   "name": "python",
   "nbconvert_exporter": "python",
   "pygments_lexer": "ipython3",
   "version": "3.10.14"
  }
 },
 "nbformat": 4,
 "nbformat_minor": 4
}
